{
  "cells": [
    {
      "cell_type": "code",
      "execution_count": 1,
      "metadata": {
        "ExecuteTime": {
          "end_time": "2021-10-02T07:25:45.092215Z",
          "start_time": "2021-10-02T07:25:45.088628Z"
        },
        "id": "R8k808Mqlv5S"
      },
      "outputs": [],
      "source": [
        "import torch\n",
        "import numpy as np"
      ]
    },
    {
      "cell_type": "code",
      "execution_count": 2,
      "metadata": {
        "colab": {
          "base_uri": "https://localhost:8080/"
        },
        "id": "kIFUrlXnlv5V",
        "outputId": "bc2f9e8e-4a39-47c7-97de-650d1d791497"
      },
      "outputs": [
        {
          "name": "stdout",
          "output_type": "stream",
          "text": [
            "Fri Feb 28 10:27:14 2025       \n",
            "+-----------------------------------------------------------------------------------------+\n",
            "| NVIDIA-SMI 550.54.15              Driver Version: 550.54.15      CUDA Version: 12.4     |\n",
            "|-----------------------------------------+------------------------+----------------------+\n",
            "| GPU  Name                 Persistence-M | Bus-Id          Disp.A | Volatile Uncorr. ECC |\n",
            "| Fan  Temp   Perf          Pwr:Usage/Cap |           Memory-Usage | GPU-Util  Compute M. |\n",
            "|                                         |                        |               MIG M. |\n",
            "|=========================================+========================+======================|\n",
            "|   0  Tesla T4                       Off |   00000000:00:04.0 Off |                    0 |\n",
            "| N/A   45C    P8              9W /   70W |       0MiB /  15360MiB |      0%      Default |\n",
            "|                                         |                        |                  N/A |\n",
            "+-----------------------------------------+------------------------+----------------------+\n",
            "                                                                                         \n",
            "+-----------------------------------------------------------------------------------------+\n",
            "| Processes:                                                                              |\n",
            "|  GPU   GI   CI        PID   Type   Process name                              GPU Memory |\n",
            "|        ID   ID                                                               Usage      |\n",
            "|=========================================================================================|\n",
            "|  No running processes found                                                             |\n",
            "+-----------------------------------------------------------------------------------------+\n"
          ]
        }
      ],
      "source": [
        "!nvidia-smi"
      ]
    },
    {
      "cell_type": "code",
      "execution_count": 2,
      "metadata": {
        "colab": {
          "base_uri": "https://localhost:8080/"
        },
        "id": "GMIj5SpWlv5X",
        "outputId": "15412568-e552-4d56-a27b-c5edb0e13c76"
      },
      "outputs": [
        {
          "data": {
            "text/plain": [
              "True"
            ]
          },
          "execution_count": 2,
          "metadata": {},
          "output_type": "execute_result"
        }
      ],
      "source": [
        "torch.cuda.is_available()"
      ]
    },
    {
      "cell_type": "markdown",
      "metadata": {
        "id": "xJtc5kMdlv5Y"
      },
      "source": [
        "Tensory w PyTorchu to specjalne struktury danych które przypominają tablice/macierze. Używamy ich do przechowywania wejśc/wyjść z sieci jak również wag modelu.\n",
        "Tensory przypominają swoją budową tablice numpy https://numpy.org/, z zasadniczą różnicą ktorą jest łatwa możliwość przechowywania i operowania na tensorach na kartach graficznych"
      ]
    },
    {
      "cell_type": "markdown",
      "metadata": {
        "id": "fHwr0DxVlv5Z"
      },
      "source": [
        "Tensory mogą być tworzone w różny sposób:\n",
        "1. Ze standardowych tablic"
      ]
    },
    {
      "cell_type": "code",
      "execution_count": 4,
      "metadata": {
        "ExecuteTime": {
          "end_time": "2021-10-02T07:30:36.852716Z",
          "start_time": "2021-10-02T07:30:36.836701Z"
        },
        "colab": {
          "base_uri": "https://localhost:8080/"
        },
        "id": "6JePkkmalv5Z",
        "outputId": "c0a7d152-d99d-4847-a70e-dda2a0e48219"
      },
      "outputs": [
        {
          "data": {
            "text/plain": [
              "tensor([[1, 2],\n",
              "        [3, 4]])"
            ]
          },
          "execution_count": 4,
          "metadata": {},
          "output_type": "execute_result"
        }
      ],
      "source": [
        "data = [[1, 2],[3, 4]]\n",
        "x_data = torch.tensor(data)\n",
        "x_data"
      ]
    },
    {
      "cell_type": "markdown",
      "metadata": {
        "ExecuteTime": {
          "end_time": "2021-10-02T07:40:32.096100Z",
          "start_time": "2021-10-02T07:40:32.090797Z"
        },
        "id": "0RqXdU7Nlv5a"
      },
      "source": [
        "2. Na poodstawie tablic numpy"
      ]
    },
    {
      "cell_type": "code",
      "execution_count": 5,
      "metadata": {
        "ExecuteTime": {
          "end_time": "2021-10-02T07:30:58.706974Z",
          "start_time": "2021-10-02T07:30:58.700523Z"
        },
        "colab": {
          "base_uri": "https://localhost:8080/"
        },
        "id": "9B8FF2oFlv5a",
        "outputId": "d4a7e20f-5844-40b1-a3d7-0cb535d2c933"
      },
      "outputs": [
        {
          "data": {
            "text/plain": [
              "tensor([[1, 2],\n",
              "        [3, 4]])"
            ]
          },
          "execution_count": 5,
          "metadata": {},
          "output_type": "execute_result"
        }
      ],
      "source": [
        "np_array = np.array(data)\n",
        "x_np = torch.from_numpy(np_array)\n",
        "x_np"
      ]
    },
    {
      "cell_type": "markdown",
      "metadata": {
        "id": "a3baQ9hZlv5a"
      },
      "source": [
        "3. Na podstawie innych tensorów"
      ]
    },
    {
      "cell_type": "code",
      "execution_count": 6,
      "metadata": {
        "ExecuteTime": {
          "end_time": "2021-10-02T08:11:15.304729Z",
          "start_time": "2021-10-02T08:11:15.296087Z"
        },
        "colab": {
          "base_uri": "https://localhost:8080/"
        },
        "id": "oCNXzHvDlv5b",
        "outputId": "16275bc1-4a4d-43c0-d05b-e8209af2cf6b",
        "scrolled": true
      },
      "outputs": [
        {
          "name": "stdout",
          "output_type": "stream",
          "text": [
            "Ones Tensor: \n",
            " tensor([[1, 1],\n",
            "        [1, 1]]) \n",
            "\n",
            "Random Tensor: \n",
            " tensor([[0.9998, 0.2694],\n",
            "        [0.6390, 0.5525]]) \n",
            "\n"
          ]
        }
      ],
      "source": [
        "x_ones = torch.ones_like(x_data) # retains the properties of x_data\n",
        "print(f\"Ones Tensor: \\n {x_ones} \\n\")\n",
        "\n",
        "x_rand = torch.rand_like(x_data, dtype=torch.float) # overrides the datatype of x_data\n",
        "print(f\"Random Tensor: \\n {x_rand} \\n\")"
      ]
    },
    {
      "cell_type": "markdown",
      "metadata": {
        "id": "x7o7UWdslv5b"
      },
      "source": [
        "4. Z losowymi lub stałymi wartościami"
      ]
    },
    {
      "cell_type": "code",
      "execution_count": 7,
      "metadata": {
        "ExecuteTime": {
          "end_time": "2021-10-02T08:12:18.091063Z",
          "start_time": "2021-10-02T08:12:18.081252Z"
        },
        "colab": {
          "base_uri": "https://localhost:8080/"
        },
        "id": "MbbMyyoQlv5b",
        "outputId": "aee1ddfe-4892-494e-bfd6-eb66a510c07e"
      },
      "outputs": [
        {
          "name": "stdout",
          "output_type": "stream",
          "text": [
            "Random Tensor: \n",
            " tensor([[0.3704, 0.0694, 0.9819],\n",
            "        [0.6343, 0.4868, 0.6711]]) \n",
            "\n",
            "Ones Tensor: \n",
            " tensor([[1., 1., 1.],\n",
            "        [1., 1., 1.]]) \n",
            "\n",
            "Zeros Tensor: \n",
            " tensor([[0., 0., 0.],\n",
            "        [0., 0., 0.]]) \n",
            "\n"
          ]
        }
      ],
      "source": [
        "shape = (2,3,)\n",
        "rand_tensor = torch.rand(shape)\n",
        "print(f\"Random Tensor: \\n {rand_tensor} \\n\")\n",
        "ones_tensor = torch.ones(shape)\n",
        "print(f\"Ones Tensor: \\n {ones_tensor} \\n\")\n",
        "zeros_tensor = torch.zeros(shape)\n",
        "print(f\"Zeros Tensor: \\n {zeros_tensor} \\n\")"
      ]
    },
    {
      "cell_type": "markdown",
      "metadata": {
        "id": "aJuvtruMlv5c"
      },
      "source": [
        "### Atrybuty tensorów"
      ]
    },
    {
      "cell_type": "code",
      "execution_count": 8,
      "metadata": {
        "ExecuteTime": {
          "end_time": "2021-10-02T08:13:37.099437Z",
          "start_time": "2021-10-02T08:13:37.093178Z"
        },
        "colab": {
          "base_uri": "https://localhost:8080/"
        },
        "id": "Bv0AKEUYlv5c",
        "outputId": "65c36854-99af-4c13-bd10-15882051810b"
      },
      "outputs": [
        {
          "name": "stdout",
          "output_type": "stream",
          "text": [
            "Shape of tensor: torch.Size([3, 4])\n",
            "Datatype of tensor: torch.float32\n",
            "Device tensor is stored on: cpu\n"
          ]
        }
      ],
      "source": [
        "tensor = torch.rand(3,4)\n",
        "\n",
        "print(f\"Shape of tensor: {tensor.shape}\")\n",
        "print(f\"Datatype of tensor: {tensor.dtype}\")\n",
        "print(f\"Device tensor is stored on: {tensor.device}\")"
      ]
    },
    {
      "cell_type": "markdown",
      "metadata": {
        "id": "Q5FcdPXilv5c"
      },
      "source": [
        "### Operacje na tensorach"
      ]
    },
    {
      "cell_type": "markdown",
      "metadata": {
        "id": "EruDYjuElv5d"
      },
      "source": [
        "Nie ma co się bać dokumentacji! (Jest bardzo przyjemnie napisana) Wszystkie operacje na tensorach są opisane tutaj: https://pytorch.org/docs/stable/torch.html\n",
        "Standardowo operacje są uruchamiane na CPU, ale można przenosić tensory, całe modele i **wszystkie operacje** na GPU (co zazwyczaj jest szybsze) za pomocą prostej komendy. Przetestujemy to w kolejnych częściach laboratorium"
      ]
    },
    {
      "cell_type": "markdown",
      "metadata": {
        "id": "6ogiPLCslv5d"
      },
      "source": [
        "#### Standardowe indeksowanie i slicing"
      ]
    },
    {
      "cell_type": "code",
      "execution_count": 9,
      "metadata": {
        "ExecuteTime": {
          "end_time": "2021-10-02T10:11:36.753663Z",
          "start_time": "2021-10-02T10:11:36.741253Z"
        },
        "colab": {
          "base_uri": "https://localhost:8080/"
        },
        "id": "vTkBjqbYlv5d",
        "outputId": "40772a9d-1800-431f-bcdc-aab007e03b16"
      },
      "outputs": [
        {
          "name": "stdout",
          "output_type": "stream",
          "text": [
            "First row:  tensor([0.5841, 0.1029, 0.5574, 0.9322])\n",
            "First column:  tensor([0.5841, 0.4673, 0.2015, 0.8851])\n",
            "Last column: tensor([0.9322, 0.4187, 0.2134, 0.2553])\n",
            "tensor([[0.5841, 0.0000, 0.5574, 0.9322],\n",
            "        [0.4673, 0.0000, 0.6890, 0.4187],\n",
            "        [0.2015, 0.0000, 0.7265, 0.2134],\n",
            "        [0.8851, 0.0000, 0.2695, 0.2553]])\n"
          ]
        }
      ],
      "source": [
        "tensor = torch.rand(4, 4)\n",
        "print('First row: ', tensor[0])\n",
        "print('First column: ', tensor[:, 0])\n",
        "print('Last column:', tensor[:, -1])\n",
        "tensor[:,1] = 0\n",
        "print(tensor)"
      ]
    },
    {
      "cell_type": "markdown",
      "metadata": {
        "id": "jwdicHwAlv5d"
      },
      "source": [
        "#### Transponowanie tensorów"
      ]
    },
    {
      "cell_type": "code",
      "execution_count": 10,
      "metadata": {
        "ExecuteTime": {
          "end_time": "2021-10-02T11:38:58.853329Z",
          "start_time": "2021-10-02T11:38:58.848862Z"
        },
        "colab": {
          "base_uri": "https://localhost:8080/"
        },
        "id": "7QkSkIGblv5d",
        "outputId": "562f3f3c-3ed0-4afd-95ea-d08767c4b74c"
      },
      "outputs": [
        {
          "name": "stdout",
          "output_type": "stream",
          "text": [
            "tensor([[1., 0., 2.],\n",
            "        [1., 0., 2.],\n",
            "        [1., 0., 2.],\n",
            "        [3., 3., 3.]])\n",
            "Tensor shape:torch.Size([4, 3])\n",
            "\n",
            "tensor([[1., 1., 1., 3.],\n",
            "        [0., 0., 0., 3.],\n",
            "        [2., 2., 2., 3.]])\n",
            "Transposed tensor shape:torch.Size([3, 4])\n"
          ]
        }
      ],
      "source": [
        "tensor = torch.ones(4, 3)\n",
        "tensor[:,1] = 0\n",
        "tensor[:,2] = 2\n",
        "tensor[3,:] = 3\n",
        "print(tensor)\n",
        "print(f\"Tensor shape:{tensor.shape}\\n\")\n",
        "tensor2 = tensor.T\n",
        "print(tensor2)\n",
        "print(f\"Transposed tensor shape:{tensor2.shape}\")"
      ]
    },
    {
      "cell_type": "markdown",
      "metadata": {
        "id": "rKNy-SZJlv5e"
      },
      "source": [
        "#### Zmiana wymiarów"
      ]
    },
    {
      "cell_type": "code",
      "execution_count": 11,
      "metadata": {
        "ExecuteTime": {
          "end_time": "2021-10-02T11:06:31.339499Z",
          "start_time": "2021-10-02T11:06:31.325198Z"
        },
        "colab": {
          "base_uri": "https://localhost:8080/"
        },
        "id": "WORKWJJ0lv5e",
        "outputId": "96057154-0ceb-4c3e-fb44-ce1c532283f6"
      },
      "outputs": [
        {
          "name": "stdout",
          "output_type": "stream",
          "text": [
            "tensor([0, 1, 2, 3, 4, 5, 6, 7, 8, 9])\n",
            "Tensor shape:torch.Size([10])\n",
            "\n",
            "tensor([[0, 1, 2, 3, 4, 5, 6, 7, 8, 9]])\n",
            "Tensor shape:torch.Size([1, 10])\n",
            "\n",
            "tensor([[0],\n",
            "        [1],\n",
            "        [2],\n",
            "        [3],\n",
            "        [4],\n",
            "        [5],\n",
            "        [6],\n",
            "        [7],\n",
            "        [8],\n",
            "        [9]])\n",
            "Tensor shape:torch.Size([10, 1])\n",
            "\n",
            "tensor([[0, 1],\n",
            "        [2, 3],\n",
            "        [4, 5],\n",
            "        [6, 7],\n",
            "        [8, 9]])\n",
            "Tensor shape:torch.Size([5, 2])\n",
            "\n"
          ]
        }
      ],
      "source": [
        "tensor = torch.arange(10)\n",
        "print(tensor)\n",
        "print(f\"Tensor shape:{tensor.shape}\\n\")\n",
        "\n",
        "tensor2 = tensor.unsqueeze(dim=0)\n",
        "print(tensor2)\n",
        "print(f\"Tensor shape:{tensor2.shape}\\n\")\n",
        "\n",
        "tensor3 = tensor.unsqueeze(dim=1)\n",
        "print(tensor3)\n",
        "print(f\"Tensor shape:{tensor3.shape}\\n\")\n",
        "\n",
        "# Referencja do tensora\n",
        "tensor4 = tensor.view(5,2)\n",
        "print(tensor4)\n",
        "print(f\"Tensor shape:{tensor4.shape}\\n\")"
      ]
    },
    {
      "cell_type": "markdown",
      "metadata": {
        "id": "BIU_aMxplv5e"
      },
      "source": [
        "#### Łączenie tensorów"
      ]
    },
    {
      "cell_type": "code",
      "execution_count": 12,
      "metadata": {
        "ExecuteTime": {
          "end_time": "2021-10-02T11:06:55.663650Z",
          "start_time": "2021-10-02T11:06:55.655639Z"
        },
        "colab": {
          "base_uri": "https://localhost:8080/"
        },
        "id": "q1gwA5kwlv5f",
        "outputId": "848eaa29-bc33-443c-963b-e2e35647ae4a"
      },
      "outputs": [
        {
          "name": "stdout",
          "output_type": "stream",
          "text": [
            "tensor([[1., 0., 2., 1., 0., 2., 1., 0., 2.],\n",
            "        [1., 0., 2., 1., 0., 2., 1., 0., 2.],\n",
            "        [1., 0., 2., 1., 0., 2., 1., 0., 2.],\n",
            "        [3., 3., 3., 3., 3., 3., 3., 3., 3.]])\n"
          ]
        }
      ],
      "source": [
        "tensor = torch.ones(4, 3)\n",
        "tensor[:,1] = 0\n",
        "tensor[:,2] = 2\n",
        "tensor[3,:] = 3\n",
        "t1 = torch.cat([tensor, tensor, tensor], dim=1)\n",
        "print(t1)"
      ]
    },
    {
      "cell_type": "code",
      "execution_count": 13,
      "metadata": {
        "ExecuteTime": {
          "end_time": "2021-10-02T11:06:55.947198Z",
          "start_time": "2021-10-02T11:06:55.940055Z"
        },
        "colab": {
          "base_uri": "https://localhost:8080/"
        },
        "id": "JZmhzlJMlv5f",
        "outputId": "88c6b100-c577-4572-9173-6bb50590f154"
      },
      "outputs": [
        {
          "name": "stdout",
          "output_type": "stream",
          "text": [
            "tensor([[1., 0., 2.],\n",
            "        [1., 0., 2.],\n",
            "        [1., 0., 2.],\n",
            "        [3., 3., 3.],\n",
            "        [1., 0., 2.],\n",
            "        [1., 0., 2.],\n",
            "        [1., 0., 2.],\n",
            "        [3., 3., 3.],\n",
            "        [1., 0., 2.],\n",
            "        [1., 0., 2.],\n",
            "        [1., 0., 2.],\n",
            "        [3., 3., 3.]])\n"
          ]
        }
      ],
      "source": [
        "t1 = torch.cat([tensor, tensor, tensor], dim=0)\n",
        "print(t1)"
      ]
    },
    {
      "cell_type": "code",
      "execution_count": 14,
      "metadata": {
        "ExecuteTime": {
          "end_time": "2021-10-02T11:06:56.262340Z",
          "start_time": "2021-10-02T11:06:56.255271Z"
        },
        "colab": {
          "base_uri": "https://localhost:8080/"
        },
        "id": "tSqm3thYlv5f",
        "outputId": "5207294f-668b-43cb-cb76-835bb61a897e"
      },
      "outputs": [
        {
          "name": "stdout",
          "output_type": "stream",
          "text": [
            "tensor([[[1., 0., 2.],\n",
            "         [1., 0., 2.],\n",
            "         [1., 0., 2.],\n",
            "         [3., 3., 3.]],\n",
            "\n",
            "        [[1., 0., 2.],\n",
            "         [1., 0., 2.],\n",
            "         [1., 0., 2.],\n",
            "         [3., 3., 3.]],\n",
            "\n",
            "        [[1., 0., 2.],\n",
            "         [1., 0., 2.],\n",
            "         [1., 0., 2.],\n",
            "         [3., 3., 3.]]])\n"
          ]
        }
      ],
      "source": [
        "t1 = torch.stack([tensor, tensor, tensor])\n",
        "print(t1)"
      ]
    },
    {
      "cell_type": "code",
      "execution_count": 15,
      "metadata": {
        "ExecuteTime": {
          "end_time": "2021-10-02T11:06:58.225374Z",
          "start_time": "2021-10-02T11:06:58.217586Z"
        },
        "colab": {
          "base_uri": "https://localhost:8080/"
        },
        "id": "tAhFexqzlv5f",
        "outputId": "5f6c787e-65df-4a26-8b89-0fc0422d0e0c"
      },
      "outputs": [
        {
          "name": "stdout",
          "output_type": "stream",
          "text": [
            "torch.Size([3, 5, 4])\n",
            "torch.Size([5, 3, 4])\n",
            "torch.Size([5, 4, 3])\n"
          ]
        }
      ],
      "source": [
        "tensor = torch.rand(5,4)\n",
        "t1 = torch.stack([tensor, tensor, tensor],dim=0)\n",
        "print(t1.shape)\n",
        "t1 = torch.stack([tensor, tensor, tensor],dim=1)\n",
        "print(t1.shape)\n",
        "t1 = torch.stack([tensor, tensor, tensor],dim=2)\n",
        "print(t1.shape)"
      ]
    },
    {
      "cell_type": "code",
      "execution_count": 16,
      "metadata": {
        "ExecuteTime": {
          "end_time": "2021-10-02T11:07:05.297235Z",
          "start_time": "2021-10-02T11:07:05.275962Z"
        },
        "colab": {
          "base_uri": "https://localhost:8080/"
        },
        "id": "X1D0qpCXlv5g",
        "outputId": "8e53ec6d-b23c-4eec-e1f4-8f6f14e360bb"
      },
      "outputs": [
        {
          "name": "stdout",
          "output_type": "stream",
          "text": [
            "Dimension out of range (expected to be in range of [-3, 2], but got 3)\n"
          ]
        }
      ],
      "source": [
        "try:\n",
        "    t1 = torch.stack([tensor, tensor, tensor],dim=3)\n",
        "    print(t1.shape)\n",
        "except Exception as e:\n",
        "    print(e)"
      ]
    },
    {
      "cell_type": "markdown",
      "metadata": {
        "id": "r2YYUnCnlv5g"
      },
      "source": [
        "#### Operacje arytmetyczne"
      ]
    },
    {
      "cell_type": "code",
      "execution_count": 17,
      "metadata": {
        "ExecuteTime": {
          "end_time": "2021-10-02T11:07:08.039606Z",
          "start_time": "2021-10-02T11:07:08.028588Z"
        },
        "colab": {
          "base_uri": "https://localhost:8080/"
        },
        "id": "mFBDBYSNlv5g",
        "outputId": "9acc5c24-345b-49b7-9689-ce0fd551f20a"
      },
      "outputs": [
        {
          "name": "stdout",
          "output_type": "stream",
          "text": [
            "tensor([[1., 0., 2., 1.],\n",
            "        [1., 0., 2., 1.],\n",
            "        [1., 0., 2., 1.],\n",
            "        [3., 3., 3., 3.]])\n",
            "tensor([[3., 2., 4., 3.],\n",
            "        [3., 2., 4., 3.],\n",
            "        [3., 2., 4., 3.],\n",
            "        [5., 5., 5., 5.]])\n",
            "tensor([[ 5.,  0., 10.,  5.],\n",
            "        [ 5.,  0., 10.,  5.],\n",
            "        [ 5.,  0., 10.,  5.],\n",
            "        [15., 15., 15., 15.]])\n"
          ]
        }
      ],
      "source": [
        "tensor = torch.ones(4, 4)\n",
        "tensor[:,1] = 0\n",
        "tensor[:,2] = 2\n",
        "tensor[3,:] = 3\n",
        "\n",
        "print(tensor)\n",
        "print(tensor+2)\n",
        "print(tensor*5)"
      ]
    },
    {
      "cell_type": "markdown",
      "metadata": {
        "id": "JM-VKD_7lv5g"
      },
      "source": [
        "#### Operacje na elementach"
      ]
    },
    {
      "cell_type": "code",
      "execution_count": 18,
      "metadata": {
        "ExecuteTime": {
          "end_time": "2021-10-02T11:07:10.391010Z",
          "start_time": "2021-10-02T11:07:10.383758Z"
        },
        "colab": {
          "base_uri": "https://localhost:8080/"
        },
        "id": "abYnIl1Blv5h",
        "outputId": "f44bccd4-159c-4a31-931b-20bfb8c35850"
      },
      "outputs": [
        {
          "data": {
            "text/plain": [
              "tensor([[1., 0., 4., 1.],\n",
              "        [1., 0., 4., 1.],\n",
              "        [1., 0., 4., 1.],\n",
              "        [9., 9., 9., 9.]])"
            ]
          },
          "execution_count": 18,
          "metadata": {},
          "output_type": "execute_result"
        }
      ],
      "source": [
        "tensor * tensor"
      ]
    },
    {
      "cell_type": "code",
      "execution_count": 19,
      "metadata": {
        "ExecuteTime": {
          "end_time": "2021-10-02T11:07:11.465007Z",
          "start_time": "2021-10-02T11:07:11.458440Z"
        },
        "colab": {
          "base_uri": "https://localhost:8080/"
        },
        "id": "9fVtuuOvlv5h",
        "outputId": "fa1c792e-1608-44c7-e7b9-894ef797e3e8"
      },
      "outputs": [
        {
          "data": {
            "text/plain": [
              "tensor([[2., 0., 4., 2.],\n",
              "        [2., 0., 4., 2.],\n",
              "        [2., 0., 4., 2.],\n",
              "        [6., 6., 6., 6.]])"
            ]
          },
          "execution_count": 19,
          "metadata": {},
          "output_type": "execute_result"
        }
      ],
      "source": [
        "tensor + tensor"
      ]
    },
    {
      "cell_type": "code",
      "execution_count": 20,
      "metadata": {
        "ExecuteTime": {
          "end_time": "2021-10-02T11:09:15.603003Z",
          "start_time": "2021-10-02T11:09:15.595494Z"
        },
        "colab": {
          "base_uri": "https://localhost:8080/"
        },
        "id": "-fDv1PbYlv5h",
        "outputId": "bbb2b0c5-81b8-4958-fb9d-bfb5af91ed75"
      },
      "outputs": [
        {
          "name": "stdout",
          "output_type": "stream",
          "text": [
            "tensor([[5.4798e+00, 4.8737e+00, 5.6617e+00, 2.3829e+00],\n",
            "        [5.9192e+00, 6.3174e+00, 5.0324e-03, 7.8698e+00],\n",
            "        [1.2391e+00, 9.5815e+00, 9.5574e+00, 3.7631e+00],\n",
            "        [6.2774e+00, 4.4524e+00, 6.3254e+00, 2.5198e+00]])\n",
            "tensor([[5.4798e+00,        inf, 2.8308e+00, 2.3829e+00],\n",
            "        [5.9192e+00,        inf, 2.5162e-03, 7.8698e+00],\n",
            "        [1.2391e+00,        inf, 4.7787e+00, 3.7631e+00],\n",
            "        [2.0925e+00, 1.4841e+00, 2.1085e+00, 8.3994e-01]])\n"
          ]
        }
      ],
      "source": [
        "rand_tensor = torch.rand(4,4)*10\n",
        "print(rand_tensor)\n",
        "print(rand_tensor / tensor)"
      ]
    },
    {
      "cell_type": "code",
      "execution_count": 21,
      "metadata": {
        "ExecuteTime": {
          "end_time": "2021-10-02T11:09:23.306890Z",
          "start_time": "2021-10-02T11:09:23.299942Z"
        },
        "colab": {
          "base_uri": "https://localhost:8080/"
        },
        "id": "PRi7k49dlv5i",
        "outputId": "f204b960-9ede-4b63-e3f7-39bafb0df4e4"
      },
      "outputs": [
        {
          "name": "stdout",
          "output_type": "stream",
          "text": [
            "tensor([[4., inf, 4., 1.],\n",
            "        [3., inf, 3., 4.],\n",
            "        [5., inf, 4., 8.],\n",
            "        [1., 0., 1., 1.]])\n",
            "torch.FloatTensor\n"
          ]
        }
      ],
      "source": [
        "rand_tensor = torch.rand(4,4)*10\n",
        "print(rand_tensor // tensor)\n",
        "print((tensor / tensor).type())"
      ]
    },
    {
      "cell_type": "markdown",
      "metadata": {
        "id": "_wTopE4Ilv5i"
      },
      "source": [
        "### Mini zadanie na plusa, mozna wysłać po zajęciach"
      ]
    },
    {
      "cell_type": "code",
      "execution_count": 22,
      "metadata": {
        "colab": {
          "base_uri": "https://localhost:8080/"
        },
        "id": "D0F2Dooalv5i",
        "outputId": "588b4dac-3924-4112-e2ed-dd0e65901ef3"
      },
      "outputs": [
        {
          "name": "stdout",
          "output_type": "stream",
          "text": [
            "Dimension : 2\n",
            "Shape :  torch.Size([2, 3])\n",
            "tensor([[1, 2, 3],\n",
            "        [4, 5, 6]])\n",
            "\n",
            "\n",
            "Dimension : 2\n",
            "Shape :  torch.Size([1, 11])\n",
            "tensor([[ 1,  2,  3,  4,  5,  6,  7,  8,  9, 10, 11]])\n",
            "\n",
            "\n",
            "Dimension : 2\n",
            "Shape :  torch.Size([3, 5])\n",
            "tensor([[ 1,  2,  3,  4,  5],\n",
            "        [ 6,  7,  8,  9, 10],\n",
            "        [11, 12, 13, 14, 15]])\n",
            "\n",
            "\n",
            "Dimension : 2\n",
            "Shape :  torch.Size([8, 8])\n",
            "tensor([[ 1,  2,  3,  4,  5,  6,  7,  8],\n",
            "        [ 9, 10, 11, 12, 13, 14, 15, 16],\n",
            "        [17, 18, 19, 20, 21, 22, 23, 24],\n",
            "        [25, 26, 27, 28, 29, 30, 31, 32],\n",
            "        [33, 34, 35, 36, 37, 38, 39, 40],\n",
            "        [41, 42, 43, 44, 45, 46, 47, 48],\n",
            "        [49, 50, 51, 52, 53, 54, 55, 56],\n",
            "        [57, 58, 59, 60, 61, 62, 63, 64]])\n",
            "\n",
            "\n"
          ]
        }
      ],
      "source": [
        "def get_shape(given_number: int) -> tuple[int]:\n",
        "\n",
        "    values = torch.arange(1, given_number + 1)\n",
        "\n",
        "    row_candidates = values[given_number % values == 0] # all divisors without the given number\n",
        "    column_candidates = given_number // row_candidates\n",
        "\n",
        "    differences = torch.abs(row_candidates - column_candidates)\n",
        "\n",
        "    best_index = torch.argmin(differences)\n",
        "\n",
        "    return row_candidates[best_index].item(), column_candidates[best_index].item()\n",
        "\n",
        "\n",
        "\n",
        "def create_2d_tensor(given_number: int) -> torch.Tensor:\n",
        "\n",
        "    row, column = get_shape(given_number)\n",
        "\n",
        "    return torch.arange(1, given_number + 1).view(row, column)\n",
        "\n",
        "# Example\n",
        "numbers = [6, 11, 15, 64]\n",
        "for number in numbers:\n",
        "    tensor = create_2d_tensor(number)\n",
        "    print(f\"Dimension : {tensor.dim()}\")\n",
        "    print(\"Shape : \" ,tensor.shape)\n",
        "    print(tensor)\n",
        "    print(\"\\n\")"
      ]
    },
    {
      "cell_type": "markdown",
      "metadata": {
        "id": "X9H6KSotlv5i"
      },
      "source": [
        "Stwórz macierz dwuwymiarową której wartości będą kolejnymi numerami od 1 do zadanej liczby x. Nie uzywaj pętli."
      ]
    },
    {
      "cell_type": "markdown",
      "metadata": {
        "id": "mQqD-Kkflv5j"
      },
      "source": [
        "Hint: https://pytorch.org/docs/stable/torch.html"
      ]
    },
    {
      "cell_type": "markdown",
      "metadata": {
        "id": "-ZG-7aiflv5x"
      },
      "source": [
        "### Operacje macierzowe"
      ]
    },
    {
      "cell_type": "code",
      "execution_count": 23,
      "metadata": {
        "ExecuteTime": {
          "end_time": "2021-10-02T11:22:39.848027Z",
          "start_time": "2021-10-02T11:22:39.839687Z"
        },
        "colab": {
          "base_uri": "https://localhost:8080/"
        },
        "id": "3CeiWNX-lv5x",
        "outputId": "f88e5f57-eb2d-4ce7-8253-ad6c66c36ed7"
      },
      "outputs": [
        {
          "name": "stdout",
          "output_type": "stream",
          "text": [
            "tensor([[1., 1., 1.],\n",
            "        [0., 0., 0.],\n",
            "        [1., 1., 1.],\n",
            "        [1., 1., 1.]])\n",
            "tensor([[1., 0., 1., 1.],\n",
            "        [1., 0., 1., 1.],\n",
            "        [1., 0., 1., 1.]])\n"
          ]
        }
      ],
      "source": [
        "tensor = torch.ones(4, 3)\n",
        "tensor[1,:] = 0\n",
        "print(tensor)\n",
        "print(tensor.T)"
      ]
    },
    {
      "cell_type": "code",
      "execution_count": 24,
      "metadata": {
        "ExecuteTime": {
          "end_time": "2021-10-02T11:23:26.828757Z",
          "start_time": "2021-10-02T11:23:26.820257Z"
        },
        "colab": {
          "base_uri": "https://localhost:8080/"
        },
        "id": "zs_FIixWlv5y",
        "outputId": "08d3cd33-f87c-43b5-cb06-e4a8d363be3d"
      },
      "outputs": [
        {
          "name": "stdout",
          "output_type": "stream",
          "text": [
            "tensor([[3., 0., 3., 3.],\n",
            "        [0., 0., 0., 0.],\n",
            "        [3., 0., 3., 3.],\n",
            "        [3., 0., 3., 3.]]) \n",
            "\n",
            "tensor([[3., 0., 3., 3.],\n",
            "        [0., 0., 0., 0.],\n",
            "        [3., 0., 3., 3.],\n",
            "        [3., 0., 3., 3.]])\n"
          ]
        }
      ],
      "source": [
        "y1 = tensor.matmul(tensor.T)\n",
        "print(y1,\"\\n\")\n",
        "y2 = tensor @ tensor.T\n",
        "print(y2)"
      ]
    },
    {
      "cell_type": "markdown",
      "metadata": {
        "id": "4gXSb0Gzlv5y"
      },
      "source": [
        "### Zaawansowany przykład - regresja"
      ]
    },
    {
      "cell_type": "markdown",
      "metadata": {
        "id": "oveNmHyqlv5y"
      },
      "source": [
        "Dla wszystkich którzy potrzebują powtórki z matmy: https://mml-book.github.io/"
      ]
    },
    {
      "cell_type": "code",
      "execution_count": 25,
      "metadata": {
        "ExecuteTime": {
          "end_time": "2021-10-02T11:42:22.367139Z",
          "start_time": "2021-10-02T11:42:22.362204Z"
        },
        "id": "mFQmMDKWlv5y"
      },
      "outputs": [],
      "source": [
        "apples_kg_ordered = [2,4,7,3,13]\n",
        "plums_kg_ordered = [3,8,9,1,1]\n",
        "prices = [11.97 , 28.05, 38.98, 10.96, 41.1]"
      ]
    },
    {
      "cell_type": "code",
      "execution_count": 26,
      "metadata": {
        "ExecuteTime": {
          "end_time": "2021-10-02T11:42:22.582160Z",
          "start_time": "2021-10-02T11:42:22.575577Z"
        },
        "colab": {
          "base_uri": "https://localhost:8080/"
        },
        "id": "b_yqGfvWlv5y",
        "outputId": "975506db-feee-4dd9-b7ed-9c4b72def8b0"
      },
      "outputs": [
        {
          "name": "stdout",
          "output_type": "stream",
          "text": [
            "tensor([[ 2,  4,  7,  3, 13],\n",
            "        [ 3,  8,  9,  1,  1]])\n",
            "tensor([11.9700, 28.0500, 38.9800, 10.9600, 41.1000])\n"
          ]
        }
      ],
      "source": [
        "X = torch.tensor([apples_kg_ordered,plums_kg_ordered])\n",
        "Y = torch.tensor(prices)\n",
        "print(X)\n",
        "print(Y)"
      ]
    },
    {
      "cell_type": "code",
      "execution_count": 27,
      "metadata": {
        "ExecuteTime": {
          "end_time": "2021-10-02T11:42:23.058857Z",
          "start_time": "2021-10-02T11:42:23.051771Z"
        },
        "colab": {
          "base_uri": "https://localhost:8080/"
        },
        "id": "J4TGKUUplv5z",
        "outputId": "dd83f638-9d34-4322-b046-692d75a713cc"
      },
      "outputs": [
        {
          "data": {
            "text/plain": [
              "tensor([[ 2.,  3.],\n",
              "        [ 4.,  8.],\n",
              "        [ 7.,  9.],\n",
              "        [ 3.,  1.],\n",
              "        [13.,  1.]])"
            ]
          },
          "execution_count": 27,
          "metadata": {},
          "output_type": "execute_result"
        }
      ],
      "source": [
        "X = X.T.float()\n",
        "X"
      ]
    },
    {
      "cell_type": "code",
      "execution_count": 28,
      "metadata": {
        "ExecuteTime": {
          "end_time": "2021-10-02T11:42:23.549644Z",
          "start_time": "2021-10-02T11:42:23.542906Z"
        },
        "colab": {
          "base_uri": "https://localhost:8080/"
        },
        "id": "et7IpXdklv5z",
        "outputId": "5052fb7e-47ed-4939-c434-416ca25da524"
      },
      "outputs": [
        {
          "data": {
            "text/plain": [
              "tensor([3.0065, 1.9963])"
            ]
          },
          "execution_count": 28,
          "metadata": {},
          "output_type": "execute_result"
        }
      ],
      "source": [
        "theta = torch.inverse((X.T@X))@X.T@Y\n",
        "theta"
      ]
    },
    {
      "cell_type": "code",
      "execution_count": 29,
      "metadata": {
        "ExecuteTime": {
          "end_time": "2021-10-02T12:25:15.608327Z",
          "start_time": "2021-10-02T12:25:15.601069Z"
        },
        "colab": {
          "base_uri": "https://localhost:8080/"
        },
        "id": "jajvOvuClv5z",
        "outputId": "4459a1a7-be42-44f5-b742-d60cb545867d"
      },
      "outputs": [
        {
          "name": "stdout",
          "output_type": "stream",
          "text": [
            "Predicted values: tensor([12.0020, 27.9967, 39.0126, 11.0159, 41.0810])\n",
            "Real values: [11.97, 28.05, 38.98, 10.96, 41.1]\n",
            "Erorr : tensor([ 0.0320, -0.0533,  0.0326,  0.0559, -0.0190])\n"
          ]
        }
      ],
      "source": [
        "predicted_values = X @ theta\n",
        "error = predicted_values - torch.tensor(prices)\n",
        "\n",
        "print(f\"Predicted values: {predicted_values}\")\n",
        "print(f\"Real values: {prices}\")\n",
        "print(f\"Erorr : {error}\")"
      ]
    },
    {
      "cell_type": "markdown",
      "metadata": {
        "id": "TL5KOjc1lv5z"
      },
      "source": [
        "# Automatyczne obliczanie gradientu"
      ]
    },
    {
      "cell_type": "markdown",
      "metadata": {
        "id": "2P_VQDTqlv50"
      },
      "source": [
        "Do automatycznego obliczania gradientu służy wbudowany pakiet torch.autograd, który umożliwia automatyczne obliczanie gradientu dla dowolnego grafu (ciągu obliczeń)"
      ]
    },
    {
      "cell_type": "code",
      "execution_count": 30,
      "metadata": {
        "ExecuteTime": {
          "end_time": "2021-10-02T13:15:42.589602Z",
          "start_time": "2021-10-02T13:15:42.583170Z"
        },
        "colab": {
          "base_uri": "https://localhost:8080/"
        },
        "id": "hx00GNgOlv50",
        "outputId": "474b7a91-cd49-45e8-9db7-8c5517c7a7f9"
      },
      "outputs": [
        {
          "name": "stdout",
          "output_type": "stream",
          "text": [
            "tensor([1., 1., 1., 1., 1.], requires_grad=True)\n"
          ]
        }
      ],
      "source": [
        "x = torch.ones(5, requires_grad=True)\n",
        "print(x)"
      ]
    },
    {
      "cell_type": "code",
      "execution_count": 31,
      "metadata": {
        "ExecuteTime": {
          "end_time": "2021-10-02T13:15:42.779981Z",
          "start_time": "2021-10-02T13:15:42.773731Z"
        },
        "colab": {
          "base_uri": "https://localhost:8080/"
        },
        "id": "1iYYe6zKlv50",
        "outputId": "ef8472ce-d12a-4c4a-d83a-b7e657ca98d3"
      },
      "outputs": [
        {
          "data": {
            "text/plain": [
              "tensor([3., 3., 3., 3., 3.], grad_fn=<AddBackward0>)"
            ]
          },
          "execution_count": 31,
          "metadata": {},
          "output_type": "execute_result"
        }
      ],
      "source": [
        "y = x + 2\n",
        "y"
      ]
    },
    {
      "cell_type": "code",
      "execution_count": 32,
      "metadata": {
        "ExecuteTime": {
          "end_time": "2021-10-02T13:15:42.928339Z",
          "start_time": "2021-10-02T13:15:42.922368Z"
        },
        "colab": {
          "base_uri": "https://localhost:8080/"
        },
        "id": "Suh4WLnnlv50",
        "outputId": "9846f5b5-949e-4b92-824f-ad3d8b39102a"
      },
      "outputs": [
        {
          "data": {
            "text/plain": [
              "tensor([2., 2., 2., 2., 2.], grad_fn=<MulBackward0>)"
            ]
          },
          "execution_count": 32,
          "metadata": {},
          "output_type": "execute_result"
        }
      ],
      "source": [
        "y = x * 2\n",
        "y"
      ]
    },
    {
      "cell_type": "code",
      "execution_count": 33,
      "metadata": {
        "ExecuteTime": {
          "end_time": "2021-10-02T13:15:43.079314Z",
          "start_time": "2021-10-02T13:15:43.073324Z"
        },
        "colab": {
          "base_uri": "https://localhost:8080/"
        },
        "id": "d9m71OVdlv50",
        "outputId": "d83c9290-43b0-46eb-e871-3159f0203562"
      },
      "outputs": [
        {
          "name": "stderr",
          "output_type": "stream",
          "text": [
            "<ipython-input-33-5548e59b0cee>:1: UserWarning: The use of `x.T` on tensors of dimension other than 2 to reverse their shape is deprecated and it will throw an error in a future release. Consider `x.mT` to transpose batches of matrices or `x.permute(*torch.arange(x.ndim - 1, -1, -1))` to reverse the dimensions of a tensor. (Triggered internally at ../aten/src/ATen/native/TensorShape.cpp:3683.)\n",
            "  y = x @ x.T\n"
          ]
        },
        {
          "data": {
            "text/plain": [
              "tensor(5., grad_fn=<DotBackward0>)"
            ]
          },
          "execution_count": 33,
          "metadata": {},
          "output_type": "execute_result"
        }
      ],
      "source": [
        "y = x @ x.T\n",
        "y"
      ]
    },
    {
      "cell_type": "code",
      "execution_count": 34,
      "metadata": {
        "ExecuteTime": {
          "end_time": "2021-10-02T13:15:43.270396Z",
          "start_time": "2021-10-02T13:15:43.264090Z"
        },
        "colab": {
          "base_uri": "https://localhost:8080/"
        },
        "id": "6snBtNQqlv51",
        "outputId": "211352fd-9526-4fa2-8f1c-b3176091909f"
      },
      "outputs": [
        {
          "data": {
            "text/plain": [
              "tensor([-1., -1., -1., -1., -1.], grad_fn=<SubBackward0>)"
            ]
          },
          "execution_count": 34,
          "metadata": {},
          "output_type": "execute_result"
        }
      ],
      "source": [
        "y = x - 2\n",
        "y"
      ]
    },
    {
      "cell_type": "code",
      "execution_count": 35,
      "metadata": {
        "ExecuteTime": {
          "end_time": "2021-10-02T13:15:43.421894Z",
          "start_time": "2021-10-02T13:15:43.416391Z"
        },
        "colab": {
          "base_uri": "https://localhost:8080/"
        },
        "id": "Vz_HTaTslv51",
        "outputId": "c923b1d1-c50b-4daf-edce-2d0e89bc2f2f"
      },
      "outputs": [
        {
          "data": {
            "text/plain": [
              "<AccumulateGrad at 0x78944e76bee0>"
            ]
          },
          "execution_count": 35,
          "metadata": {},
          "output_type": "execute_result"
        }
      ],
      "source": [
        "y.grad_fn.next_functions[0][0]"
      ]
    },
    {
      "cell_type": "code",
      "execution_count": 36,
      "metadata": {
        "ExecuteTime": {
          "end_time": "2021-10-02T13:15:43.623103Z",
          "start_time": "2021-10-02T13:15:43.616830Z"
        },
        "colab": {
          "base_uri": "https://localhost:8080/"
        },
        "id": "fM0icuaClv51",
        "outputId": "ab595f1d-21a4-4ea3-d0c4-128a1df27187"
      },
      "outputs": [
        {
          "data": {
            "text/plain": [
              "tensor([1., 1., 1., 1., 1.], requires_grad=True)"
            ]
          },
          "execution_count": 36,
          "metadata": {},
          "output_type": "execute_result"
        }
      ],
      "source": [
        "y.grad_fn.next_functions[0][0].variable"
      ]
    },
    {
      "cell_type": "code",
      "execution_count": 37,
      "metadata": {
        "ExecuteTime": {
          "end_time": "2021-10-02T13:15:44.088406Z",
          "start_time": "2021-10-02T13:15:44.084868Z"
        },
        "id": "_nuKiIQolv51"
      },
      "outputs": [],
      "source": [
        "z = y * y * 3"
      ]
    },
    {
      "cell_type": "code",
      "execution_count": 38,
      "metadata": {
        "ExecuteTime": {
          "end_time": "2021-10-02T13:16:05.865798Z",
          "start_time": "2021-10-02T13:16:05.858953Z"
        },
        "colab": {
          "base_uri": "https://localhost:8080/"
        },
        "id": "cKsMXMkplv52",
        "outputId": "0bb20aed-8a14-40d1-9d03-27d8d5783261"
      },
      "outputs": [
        {
          "name": "stdout",
          "output_type": "stream",
          "text": [
            "tensor([3., 3., 3., 3., 3.], grad_fn=<MulBackward0>)\n",
            "tensor(3., grad_fn=<MeanBackward0>)\n"
          ]
        }
      ],
      "source": [
        "a = z.mean()\n",
        "print(z)\n",
        "print(a)"
      ]
    },
    {
      "cell_type": "code",
      "execution_count": 39,
      "metadata": {
        "ExecuteTime": {
          "end_time": "2021-10-02T13:12:07.051788Z",
          "start_time": "2021-10-02T13:12:07.048144Z"
        },
        "colab": {
          "base_uri": "https://localhost:8080/"
        },
        "id": "PedkjHLelv52",
        "outputId": "fb2c3b2e-b417-46e2-931e-dc13832415a6"
      },
      "outputs": [
        {
          "name": "stdout",
          "output_type": "stream",
          "text": [
            "Collecting torchviz\n",
            "  Downloading torchviz-0.0.3-py3-none-any.whl.metadata (2.1 kB)\n",
            "Requirement already satisfied: torch in /usr/local/lib/python3.11/dist-packages (from torchviz) (2.5.1+cu124)\n",
            "Requirement already satisfied: graphviz in /usr/local/lib/python3.11/dist-packages (from torchviz) (0.20.3)\n",
            "Requirement already satisfied: filelock in /usr/local/lib/python3.11/dist-packages (from torch->torchviz) (3.17.0)\n",
            "Requirement already satisfied: typing-extensions>=4.8.0 in /usr/local/lib/python3.11/dist-packages (from torch->torchviz) (4.12.2)\n",
            "Requirement already satisfied: networkx in /usr/local/lib/python3.11/dist-packages (from torch->torchviz) (3.4.2)\n",
            "Requirement already satisfied: jinja2 in /usr/local/lib/python3.11/dist-packages (from torch->torchviz) (3.1.5)\n",
            "Requirement already satisfied: fsspec in /usr/local/lib/python3.11/dist-packages (from torch->torchviz) (2024.10.0)\n",
            "Collecting nvidia-cuda-nvrtc-cu12==12.4.127 (from torch->torchviz)\n",
            "  Downloading nvidia_cuda_nvrtc_cu12-12.4.127-py3-none-manylinux2014_x86_64.whl.metadata (1.5 kB)\n",
            "Collecting nvidia-cuda-runtime-cu12==12.4.127 (from torch->torchviz)\n",
            "  Downloading nvidia_cuda_runtime_cu12-12.4.127-py3-none-manylinux2014_x86_64.whl.metadata (1.5 kB)\n",
            "Collecting nvidia-cuda-cupti-cu12==12.4.127 (from torch->torchviz)\n",
            "  Downloading nvidia_cuda_cupti_cu12-12.4.127-py3-none-manylinux2014_x86_64.whl.metadata (1.6 kB)\n",
            "Collecting nvidia-cudnn-cu12==9.1.0.70 (from torch->torchviz)\n",
            "  Downloading nvidia_cudnn_cu12-9.1.0.70-py3-none-manylinux2014_x86_64.whl.metadata (1.6 kB)\n",
            "Collecting nvidia-cublas-cu12==12.4.5.8 (from torch->torchviz)\n",
            "  Downloading nvidia_cublas_cu12-12.4.5.8-py3-none-manylinux2014_x86_64.whl.metadata (1.5 kB)\n",
            "Collecting nvidia-cufft-cu12==11.2.1.3 (from torch->torchviz)\n",
            "  Downloading nvidia_cufft_cu12-11.2.1.3-py3-none-manylinux2014_x86_64.whl.metadata (1.5 kB)\n",
            "Collecting nvidia-curand-cu12==10.3.5.147 (from torch->torchviz)\n",
            "  Downloading nvidia_curand_cu12-10.3.5.147-py3-none-manylinux2014_x86_64.whl.metadata (1.5 kB)\n",
            "Collecting nvidia-cusolver-cu12==11.6.1.9 (from torch->torchviz)\n",
            "  Downloading nvidia_cusolver_cu12-11.6.1.9-py3-none-manylinux2014_x86_64.whl.metadata (1.6 kB)\n",
            "Collecting nvidia-cusparse-cu12==12.3.1.170 (from torch->torchviz)\n",
            "  Downloading nvidia_cusparse_cu12-12.3.1.170-py3-none-manylinux2014_x86_64.whl.metadata (1.6 kB)\n",
            "Requirement already satisfied: nvidia-nccl-cu12==2.21.5 in /usr/local/lib/python3.11/dist-packages (from torch->torchviz) (2.21.5)\n",
            "Requirement already satisfied: nvidia-nvtx-cu12==12.4.127 in /usr/local/lib/python3.11/dist-packages (from torch->torchviz) (12.4.127)\n",
            "Collecting nvidia-nvjitlink-cu12==12.4.127 (from torch->torchviz)\n",
            "  Downloading nvidia_nvjitlink_cu12-12.4.127-py3-none-manylinux2014_x86_64.whl.metadata (1.5 kB)\n",
            "Requirement already satisfied: triton==3.1.0 in /usr/local/lib/python3.11/dist-packages (from torch->torchviz) (3.1.0)\n",
            "Requirement already satisfied: sympy==1.13.1 in /usr/local/lib/python3.11/dist-packages (from torch->torchviz) (1.13.1)\n",
            "Requirement already satisfied: mpmath<1.4,>=1.1.0 in /usr/local/lib/python3.11/dist-packages (from sympy==1.13.1->torch->torchviz) (1.3.0)\n",
            "Requirement already satisfied: MarkupSafe>=2.0 in /usr/local/lib/python3.11/dist-packages (from jinja2->torch->torchviz) (3.0.2)\n",
            "Downloading torchviz-0.0.3-py3-none-any.whl (5.7 kB)\n",
            "Downloading nvidia_cublas_cu12-12.4.5.8-py3-none-manylinux2014_x86_64.whl (363.4 MB)\n",
            "\u001b[2K   \u001b[90m━━━━━━━━━━━━━━━━━━━━━━━━━━━━━━━━━━━━━━━━\u001b[0m \u001b[32m363.4/363.4 MB\u001b[0m \u001b[31m3.8 MB/s\u001b[0m eta \u001b[36m0:00:00\u001b[0m\n",
            "\u001b[?25hDownloading nvidia_cuda_cupti_cu12-12.4.127-py3-none-manylinux2014_x86_64.whl (13.8 MB)\n",
            "\u001b[2K   \u001b[90m━━━━━━━━━━━━━━━━━━━━━━━━━━━━━━━━━━━━━━━━\u001b[0m \u001b[32m13.8/13.8 MB\u001b[0m \u001b[31m49.4 MB/s\u001b[0m eta \u001b[36m0:00:00\u001b[0m\n",
            "\u001b[?25hDownloading nvidia_cuda_nvrtc_cu12-12.4.127-py3-none-manylinux2014_x86_64.whl (24.6 MB)\n",
            "\u001b[2K   \u001b[90m━━━━━━━━━━━━━━━━━━━━━━━━━━━━━━━━━━━━━━━━\u001b[0m \u001b[32m24.6/24.6 MB\u001b[0m \u001b[31m33.1 MB/s\u001b[0m eta \u001b[36m0:00:00\u001b[0m\n",
            "\u001b[?25hDownloading nvidia_cuda_runtime_cu12-12.4.127-py3-none-manylinux2014_x86_64.whl (883 kB)\n",
            "\u001b[2K   \u001b[90m━━━━━━━━━━━━━━━━━━━━━━━━━━━━━━━━━━━━━━━━\u001b[0m \u001b[32m883.7/883.7 kB\u001b[0m \u001b[31m46.3 MB/s\u001b[0m eta \u001b[36m0:00:00\u001b[0m\n",
            "\u001b[?25hDownloading nvidia_cudnn_cu12-9.1.0.70-py3-none-manylinux2014_x86_64.whl (664.8 MB)\n",
            "\u001b[2K   \u001b[90m━━━━━━━━━━━━━━━━━━━━━━━━━━━━━━━━━━━━━━━━\u001b[0m \u001b[32m664.8/664.8 MB\u001b[0m \u001b[31m2.6 MB/s\u001b[0m eta \u001b[36m0:00:00\u001b[0m\n",
            "\u001b[?25hDownloading nvidia_cufft_cu12-11.2.1.3-py3-none-manylinux2014_x86_64.whl (211.5 MB)\n",
            "\u001b[2K   \u001b[90m━━━━━━━━━━━━━━━━━━━━━━━━━━━━━━━━━━━━━━━━\u001b[0m \u001b[32m211.5/211.5 MB\u001b[0m \u001b[31m5.6 MB/s\u001b[0m eta \u001b[36m0:00:00\u001b[0m\n",
            "\u001b[?25hDownloading nvidia_curand_cu12-10.3.5.147-py3-none-manylinux2014_x86_64.whl (56.3 MB)\n",
            "\u001b[2K   \u001b[90m━━━━━━━━━━━━━━━━━━━━━━━━━━━━━━━━━━━━━━━━\u001b[0m \u001b[32m56.3/56.3 MB\u001b[0m \u001b[31m10.9 MB/s\u001b[0m eta \u001b[36m0:00:00\u001b[0m\n",
            "\u001b[?25hDownloading nvidia_cusolver_cu12-11.6.1.9-py3-none-manylinux2014_x86_64.whl (127.9 MB)\n",
            "\u001b[2K   \u001b[90m━━━━━━━━━━━━━━━━━━━━━━━━━━━━━━━━━━━━━━━━\u001b[0m \u001b[32m127.9/127.9 MB\u001b[0m \u001b[31m7.2 MB/s\u001b[0m eta \u001b[36m0:00:00\u001b[0m\n",
            "\u001b[?25hDownloading nvidia_cusparse_cu12-12.3.1.170-py3-none-manylinux2014_x86_64.whl (207.5 MB)\n",
            "\u001b[2K   \u001b[90m━━━━━━━━━━━━━━━━━━━━━━━━━━━━━━━━━━━━━━━━\u001b[0m \u001b[32m207.5/207.5 MB\u001b[0m \u001b[31m6.0 MB/s\u001b[0m eta \u001b[36m0:00:00\u001b[0m\n",
            "\u001b[?25hDownloading nvidia_nvjitlink_cu12-12.4.127-py3-none-manylinux2014_x86_64.whl (21.1 MB)\n",
            "\u001b[2K   \u001b[90m━━━━━━━━━━━━━━━━━━━━━━━━━━━━━━━━━━━━━━━━\u001b[0m \u001b[32m21.1/21.1 MB\u001b[0m \u001b[31m50.8 MB/s\u001b[0m eta \u001b[36m0:00:00\u001b[0m\n",
            "\u001b[?25hInstalling collected packages: nvidia-nvjitlink-cu12, nvidia-curand-cu12, nvidia-cufft-cu12, nvidia-cuda-runtime-cu12, nvidia-cuda-nvrtc-cu12, nvidia-cuda-cupti-cu12, nvidia-cublas-cu12, nvidia-cusparse-cu12, nvidia-cudnn-cu12, nvidia-cusolver-cu12, torchviz\n",
            "  Attempting uninstall: nvidia-nvjitlink-cu12\n",
            "    Found existing installation: nvidia-nvjitlink-cu12 12.5.82\n",
            "    Uninstalling nvidia-nvjitlink-cu12-12.5.82:\n",
            "      Successfully uninstalled nvidia-nvjitlink-cu12-12.5.82\n",
            "  Attempting uninstall: nvidia-curand-cu12\n",
            "    Found existing installation: nvidia-curand-cu12 10.3.6.82\n",
            "    Uninstalling nvidia-curand-cu12-10.3.6.82:\n",
            "      Successfully uninstalled nvidia-curand-cu12-10.3.6.82\n",
            "  Attempting uninstall: nvidia-cufft-cu12\n",
            "    Found existing installation: nvidia-cufft-cu12 11.2.3.61\n",
            "    Uninstalling nvidia-cufft-cu12-11.2.3.61:\n",
            "      Successfully uninstalled nvidia-cufft-cu12-11.2.3.61\n",
            "  Attempting uninstall: nvidia-cuda-runtime-cu12\n",
            "    Found existing installation: nvidia-cuda-runtime-cu12 12.5.82\n",
            "    Uninstalling nvidia-cuda-runtime-cu12-12.5.82:\n",
            "      Successfully uninstalled nvidia-cuda-runtime-cu12-12.5.82\n",
            "  Attempting uninstall: nvidia-cuda-nvrtc-cu12\n",
            "    Found existing installation: nvidia-cuda-nvrtc-cu12 12.5.82\n",
            "    Uninstalling nvidia-cuda-nvrtc-cu12-12.5.82:\n",
            "      Successfully uninstalled nvidia-cuda-nvrtc-cu12-12.5.82\n",
            "  Attempting uninstall: nvidia-cuda-cupti-cu12\n",
            "    Found existing installation: nvidia-cuda-cupti-cu12 12.5.82\n",
            "    Uninstalling nvidia-cuda-cupti-cu12-12.5.82:\n",
            "      Successfully uninstalled nvidia-cuda-cupti-cu12-12.5.82\n",
            "  Attempting uninstall: nvidia-cublas-cu12\n",
            "    Found existing installation: nvidia-cublas-cu12 12.5.3.2\n",
            "    Uninstalling nvidia-cublas-cu12-12.5.3.2:\n",
            "      Successfully uninstalled nvidia-cublas-cu12-12.5.3.2\n",
            "  Attempting uninstall: nvidia-cusparse-cu12\n",
            "    Found existing installation: nvidia-cusparse-cu12 12.5.1.3\n",
            "    Uninstalling nvidia-cusparse-cu12-12.5.1.3:\n",
            "      Successfully uninstalled nvidia-cusparse-cu12-12.5.1.3\n",
            "  Attempting uninstall: nvidia-cudnn-cu12\n",
            "    Found existing installation: nvidia-cudnn-cu12 9.3.0.75\n",
            "    Uninstalling nvidia-cudnn-cu12-9.3.0.75:\n",
            "      Successfully uninstalled nvidia-cudnn-cu12-9.3.0.75\n",
            "  Attempting uninstall: nvidia-cusolver-cu12\n",
            "    Found existing installation: nvidia-cusolver-cu12 11.6.3.83\n",
            "    Uninstalling nvidia-cusolver-cu12-11.6.3.83:\n",
            "      Successfully uninstalled nvidia-cusolver-cu12-11.6.3.83\n",
            "Successfully installed nvidia-cublas-cu12-12.4.5.8 nvidia-cuda-cupti-cu12-12.4.127 nvidia-cuda-nvrtc-cu12-12.4.127 nvidia-cuda-runtime-cu12-12.4.127 nvidia-cudnn-cu12-9.1.0.70 nvidia-cufft-cu12-11.2.1.3 nvidia-curand-cu12-10.3.5.147 nvidia-cusolver-cu12-11.6.1.9 nvidia-cusparse-cu12-12.3.1.170 nvidia-nvjitlink-cu12-12.4.127 torchviz-0.0.3\n"
          ]
        }
      ],
      "source": [
        "!pip install torchviz\n",
        "from torchviz import make_dot"
      ]
    },
    {
      "cell_type": "code",
      "execution_count": 40,
      "metadata": {
        "ExecuteTime": {
          "end_time": "2021-10-02T12:59:48.389456Z",
          "start_time": "2021-10-02T12:59:48.330787Z"
        },
        "colab": {
          "base_uri": "https://localhost:8080/",
          "height": 529
        },
        "id": "53i9cBdZlv52",
        "outputId": "167482bd-260a-4728-b769-623d0bbbc068"
      },
      "outputs": [
        {
          "data": {
            "image/svg+xml": [
              "<?xml version=\"1.0\" encoding=\"UTF-8\" standalone=\"no\"?>\n",
              "<!DOCTYPE svg PUBLIC \"-//W3C//DTD SVG 1.1//EN\"\n",
              " \"http://www.w3.org/Graphics/SVG/1.1/DTD/svg11.dtd\">\n",
              "<!-- Generated by graphviz version 2.43.0 (0)\n",
              " -->\n",
              "<!-- Title: %3 Pages: 1 -->\n",
              "<svg width=\"109pt\" height=\"381pt\"\n",
              " viewBox=\"0.00 0.00 109.00 381.00\" xmlns=\"http://www.w3.org/2000/svg\" xmlns:xlink=\"http://www.w3.org/1999/xlink\">\n",
              "<g id=\"graph0\" class=\"graph\" transform=\"scale(1 1) rotate(0) translate(4 377)\">\n",
              "<title>%3</title>\n",
              "<polygon fill=\"white\" stroke=\"transparent\" points=\"-4,4 -4,-377 105,-377 105,4 -4,4\"/>\n",
              "<!-- 132578366853136 -->\n",
              "<g id=\"node1\" class=\"node\">\n",
              "<title>132578366853136</title>\n",
              "<polygon fill=\"#caff70\" stroke=\"black\" points=\"77.5,-31 23.5,-31 23.5,0 77.5,0 77.5,-31\"/>\n",
              "<text text-anchor=\"middle\" x=\"50.5\" y=\"-7\" font-family=\"monospace\" font-size=\"10.00\"> ()</text>\n",
              "</g>\n",
              "<!-- 132578345439472 -->\n",
              "<g id=\"node2\" class=\"node\">\n",
              "<title>132578345439472</title>\n",
              "<polygon fill=\"lightgrey\" stroke=\"black\" points=\"98,-86 3,-86 3,-67 98,-67 98,-86\"/>\n",
              "<text text-anchor=\"middle\" x=\"50.5\" y=\"-74\" font-family=\"monospace\" font-size=\"10.00\">MeanBackward0</text>\n",
              "</g>\n",
              "<!-- 132578345439472&#45;&gt;132578366853136 -->\n",
              "<g id=\"edge7\" class=\"edge\">\n",
              "<title>132578345439472&#45;&gt;132578366853136</title>\n",
              "<path fill=\"none\" stroke=\"black\" d=\"M50.5,-66.79C50.5,-60.07 50.5,-50.4 50.5,-41.34\"/>\n",
              "<polygon fill=\"black\" stroke=\"black\" points=\"54,-41.19 50.5,-31.19 47,-41.19 54,-41.19\"/>\n",
              "</g>\n",
              "<!-- 132578345444128 -->\n",
              "<g id=\"node3\" class=\"node\">\n",
              "<title>132578345444128</title>\n",
              "<polygon fill=\"lightgrey\" stroke=\"black\" points=\"95,-141 6,-141 6,-122 95,-122 95,-141\"/>\n",
              "<text text-anchor=\"middle\" x=\"50.5\" y=\"-129\" font-family=\"monospace\" font-size=\"10.00\">MulBackward0</text>\n",
              "</g>\n",
              "<!-- 132578345444128&#45;&gt;132578345439472 -->\n",
              "<g id=\"edge1\" class=\"edge\">\n",
              "<title>132578345444128&#45;&gt;132578345439472</title>\n",
              "<path fill=\"none\" stroke=\"black\" d=\"M50.5,-121.75C50.5,-114.8 50.5,-104.85 50.5,-96.13\"/>\n",
              "<polygon fill=\"black\" stroke=\"black\" points=\"54,-96.09 50.5,-86.09 47,-96.09 54,-96.09\"/>\n",
              "</g>\n",
              "<!-- 132578345442880 -->\n",
              "<g id=\"node4\" class=\"node\">\n",
              "<title>132578345442880</title>\n",
              "<polygon fill=\"lightgrey\" stroke=\"black\" points=\"95,-196 6,-196 6,-177 95,-177 95,-196\"/>\n",
              "<text text-anchor=\"middle\" x=\"50.5\" y=\"-184\" font-family=\"monospace\" font-size=\"10.00\">MulBackward0</text>\n",
              "</g>\n",
              "<!-- 132578345442880&#45;&gt;132578345444128 -->\n",
              "<g id=\"edge2\" class=\"edge\">\n",
              "<title>132578345442880&#45;&gt;132578345444128</title>\n",
              "<path fill=\"none\" stroke=\"black\" d=\"M50.5,-176.75C50.5,-169.8 50.5,-159.85 50.5,-151.13\"/>\n",
              "<polygon fill=\"black\" stroke=\"black\" points=\"54,-151.09 50.5,-141.09 47,-151.09 54,-151.09\"/>\n",
              "</g>\n",
              "<!-- 132578345442448 -->\n",
              "<g id=\"node5\" class=\"node\">\n",
              "<title>132578345442448</title>\n",
              "<polygon fill=\"lightgrey\" stroke=\"black\" points=\"95,-251 6,-251 6,-232 95,-232 95,-251\"/>\n",
              "<text text-anchor=\"middle\" x=\"50.5\" y=\"-239\" font-family=\"monospace\" font-size=\"10.00\">SubBackward0</text>\n",
              "</g>\n",
              "<!-- 132578345442448&#45;&gt;132578345442880 -->\n",
              "<g id=\"edge3\" class=\"edge\">\n",
              "<title>132578345442448&#45;&gt;132578345442880</title>\n",
              "<path fill=\"none\" stroke=\"black\" d=\"M45.33,-231.75C43.84,-224.8 43.4,-214.85 44.02,-206.13\"/>\n",
              "<polygon fill=\"black\" stroke=\"black\" points=\"47.51,-206.47 45.37,-196.09 40.57,-205.53 47.51,-206.47\"/>\n",
              "</g>\n",
              "<!-- 132578345442448&#45;&gt;132578345442880 -->\n",
              "<g id=\"edge6\" class=\"edge\">\n",
              "<title>132578345442448&#45;&gt;132578345442880</title>\n",
              "<path fill=\"none\" stroke=\"black\" d=\"M55.67,-231.75C57.16,-224.8 57.6,-214.85 56.98,-206.13\"/>\n",
              "<polygon fill=\"black\" stroke=\"black\" points=\"60.43,-205.53 55.63,-196.09 53.49,-206.47 60.43,-205.53\"/>\n",
              "</g>\n",
              "<!-- 132578366897888 -->\n",
              "<g id=\"node6\" class=\"node\">\n",
              "<title>132578366897888</title>\n",
              "<polygon fill=\"lightgrey\" stroke=\"black\" points=\"101,-306 0,-306 0,-287 101,-287 101,-306\"/>\n",
              "<text text-anchor=\"middle\" x=\"50.5\" y=\"-294\" font-family=\"monospace\" font-size=\"10.00\">AccumulateGrad</text>\n",
              "</g>\n",
              "<!-- 132578366897888&#45;&gt;132578345442448 -->\n",
              "<g id=\"edge4\" class=\"edge\">\n",
              "<title>132578366897888&#45;&gt;132578345442448</title>\n",
              "<path fill=\"none\" stroke=\"black\" d=\"M50.5,-286.75C50.5,-279.8 50.5,-269.85 50.5,-261.13\"/>\n",
              "<polygon fill=\"black\" stroke=\"black\" points=\"54,-261.09 50.5,-251.09 47,-261.09 54,-261.09\"/>\n",
              "</g>\n",
              "<!-- 132578366849488 -->\n",
              "<g id=\"node7\" class=\"node\">\n",
              "<title>132578366849488</title>\n",
              "<polygon fill=\"lightblue\" stroke=\"black\" points=\"77.5,-373 23.5,-373 23.5,-342 77.5,-342 77.5,-373\"/>\n",
              "<text text-anchor=\"middle\" x=\"50.5\" y=\"-349\" font-family=\"monospace\" font-size=\"10.00\"> (5)</text>\n",
              "</g>\n",
              "<!-- 132578366849488&#45;&gt;132578366897888 -->\n",
              "<g id=\"edge5\" class=\"edge\">\n",
              "<title>132578366849488&#45;&gt;132578366897888</title>\n",
              "<path fill=\"none\" stroke=\"black\" d=\"M50.5,-341.92C50.5,-334.22 50.5,-324.69 50.5,-316.43\"/>\n",
              "<polygon fill=\"black\" stroke=\"black\" points=\"54,-316.25 50.5,-306.25 47,-316.25 54,-316.25\"/>\n",
              "</g>\n",
              "</g>\n",
              "</svg>\n"
            ],
            "text/plain": [
              "<graphviz.graphs.Digraph at 0x78944e8ed0d0>"
            ]
          },
          "execution_count": 40,
          "metadata": {},
          "output_type": "execute_result"
        }
      ],
      "source": [
        "make_dot(a)"
      ]
    },
    {
      "cell_type": "markdown",
      "metadata": {
        "id": "1NqosK1Zlv52"
      },
      "source": [
        "### Gradienty"
      ]
    },
    {
      "cell_type": "code",
      "execution_count": 41,
      "metadata": {
        "ExecuteTime": {
          "end_time": "2021-10-02T14:35:46.508194Z",
          "start_time": "2021-10-02T14:35:46.498330Z"
        },
        "colab": {
          "base_uri": "https://localhost:8080/"
        },
        "id": "MOLNxDMYlv52",
        "outputId": "6df7c036-64b3-4e4f-c21b-f9cbca42cc03"
      },
      "outputs": [
        {
          "name": "stdout",
          "output_type": "stream",
          "text": [
            "tensor([1.], requires_grad=True)\n"
          ]
        },
        {
          "data": {
            "text/plain": [
              "tensor([125.], grad_fn=<PowBackward0>)"
            ]
          },
          "execution_count": 41,
          "metadata": {},
          "output_type": "execute_result"
        }
      ],
      "source": [
        "x = torch.ones(1, requires_grad=True)\n",
        "print(x)\n",
        "y = (x+4)**3\n",
        "y"
      ]
    },
    {
      "cell_type": "code",
      "execution_count": 42,
      "metadata": {
        "ExecuteTime": {
          "end_time": "2021-10-02T14:33:10.240622Z",
          "start_time": "2021-10-02T14:33:10.200061Z"
        },
        "colab": {
          "base_uri": "https://localhost:8080/",
          "height": 382
        },
        "id": "CHOcHrQClv52",
        "outputId": "23f34fad-9f54-4082-f6a4-e8f682e76485"
      },
      "outputs": [
        {
          "data": {
            "image/svg+xml": [
              "<?xml version=\"1.0\" encoding=\"UTF-8\" standalone=\"no\"?>\n",
              "<!DOCTYPE svg PUBLIC \"-//W3C//DTD SVG 1.1//EN\"\n",
              " \"http://www.w3.org/Graphics/SVG/1.1/DTD/svg11.dtd\">\n",
              "<!-- Generated by graphviz version 2.43.0 (0)\n",
              " -->\n",
              "<!-- Title: %3 Pages: 1 -->\n",
              "<svg width=\"109pt\" height=\"271pt\"\n",
              " viewBox=\"0.00 0.00 109.00 271.00\" xmlns=\"http://www.w3.org/2000/svg\" xmlns:xlink=\"http://www.w3.org/1999/xlink\">\n",
              "<g id=\"graph0\" class=\"graph\" transform=\"scale(1 1) rotate(0) translate(4 267)\">\n",
              "<title>%3</title>\n",
              "<polygon fill=\"white\" stroke=\"transparent\" points=\"-4,4 -4,-267 105,-267 105,4 -4,4\"/>\n",
              "<!-- 132578345667472 -->\n",
              "<g id=\"node1\" class=\"node\">\n",
              "<title>132578345667472</title>\n",
              "<polygon fill=\"#caff70\" stroke=\"black\" points=\"77.5,-31 23.5,-31 23.5,0 77.5,0 77.5,-31\"/>\n",
              "<text text-anchor=\"middle\" x=\"50.5\" y=\"-7\" font-family=\"monospace\" font-size=\"10.00\"> (1)</text>\n",
              "</g>\n",
              "<!-- 132578345444656 -->\n",
              "<g id=\"node2\" class=\"node\">\n",
              "<title>132578345444656</title>\n",
              "<polygon fill=\"lightgrey\" stroke=\"black\" points=\"95,-86 6,-86 6,-67 95,-67 95,-86\"/>\n",
              "<text text-anchor=\"middle\" x=\"50.5\" y=\"-74\" font-family=\"monospace\" font-size=\"10.00\">PowBackward0</text>\n",
              "</g>\n",
              "<!-- 132578345444656&#45;&gt;132578345667472 -->\n",
              "<g id=\"edge4\" class=\"edge\">\n",
              "<title>132578345444656&#45;&gt;132578345667472</title>\n",
              "<path fill=\"none\" stroke=\"black\" d=\"M50.5,-66.79C50.5,-60.07 50.5,-50.4 50.5,-41.34\"/>\n",
              "<polygon fill=\"black\" stroke=\"black\" points=\"54,-41.19 50.5,-31.19 47,-41.19 54,-41.19\"/>\n",
              "</g>\n",
              "<!-- 132578345436592 -->\n",
              "<g id=\"node3\" class=\"node\">\n",
              "<title>132578345436592</title>\n",
              "<polygon fill=\"lightgrey\" stroke=\"black\" points=\"95,-141 6,-141 6,-122 95,-122 95,-141\"/>\n",
              "<text text-anchor=\"middle\" x=\"50.5\" y=\"-129\" font-family=\"monospace\" font-size=\"10.00\">AddBackward0</text>\n",
              "</g>\n",
              "<!-- 132578345436592&#45;&gt;132578345444656 -->\n",
              "<g id=\"edge1\" class=\"edge\">\n",
              "<title>132578345436592&#45;&gt;132578345444656</title>\n",
              "<path fill=\"none\" stroke=\"black\" d=\"M50.5,-121.75C50.5,-114.8 50.5,-104.85 50.5,-96.13\"/>\n",
              "<polygon fill=\"black\" stroke=\"black\" points=\"54,-96.09 50.5,-86.09 47,-96.09 54,-96.09\"/>\n",
              "</g>\n",
              "<!-- 132578345436544 -->\n",
              "<g id=\"node4\" class=\"node\">\n",
              "<title>132578345436544</title>\n",
              "<polygon fill=\"lightgrey\" stroke=\"black\" points=\"101,-196 0,-196 0,-177 101,-177 101,-196\"/>\n",
              "<text text-anchor=\"middle\" x=\"50.5\" y=\"-184\" font-family=\"monospace\" font-size=\"10.00\">AccumulateGrad</text>\n",
              "</g>\n",
              "<!-- 132578345436544&#45;&gt;132578345436592 -->\n",
              "<g id=\"edge2\" class=\"edge\">\n",
              "<title>132578345436544&#45;&gt;132578345436592</title>\n",
              "<path fill=\"none\" stroke=\"black\" d=\"M50.5,-176.75C50.5,-169.8 50.5,-159.85 50.5,-151.13\"/>\n",
              "<polygon fill=\"black\" stroke=\"black\" points=\"54,-151.09 50.5,-141.09 47,-151.09 54,-151.09\"/>\n",
              "</g>\n",
              "<!-- 132578345669296 -->\n",
              "<g id=\"node5\" class=\"node\">\n",
              "<title>132578345669296</title>\n",
              "<polygon fill=\"lightblue\" stroke=\"black\" points=\"77.5,-263 23.5,-263 23.5,-232 77.5,-232 77.5,-263\"/>\n",
              "<text text-anchor=\"middle\" x=\"50.5\" y=\"-239\" font-family=\"monospace\" font-size=\"10.00\"> (1)</text>\n",
              "</g>\n",
              "<!-- 132578345669296&#45;&gt;132578345436544 -->\n",
              "<g id=\"edge3\" class=\"edge\">\n",
              "<title>132578345669296&#45;&gt;132578345436544</title>\n",
              "<path fill=\"none\" stroke=\"black\" d=\"M50.5,-231.92C50.5,-224.22 50.5,-214.69 50.5,-206.43\"/>\n",
              "<polygon fill=\"black\" stroke=\"black\" points=\"54,-206.25 50.5,-196.25 47,-206.25 54,-206.25\"/>\n",
              "</g>\n",
              "</g>\n",
              "</svg>\n"
            ],
            "text/plain": [
              "<graphviz.graphs.Digraph at 0x78944d332010>"
            ]
          },
          "execution_count": 42,
          "metadata": {},
          "output_type": "execute_result"
        }
      ],
      "source": [
        "make_dot(y)"
      ]
    },
    {
      "cell_type": "code",
      "execution_count": 43,
      "metadata": {
        "ExecuteTime": {
          "end_time": "2021-10-02T14:35:47.650878Z",
          "start_time": "2021-10-02T14:35:47.644582Z"
        },
        "colab": {
          "base_uri": "https://localhost:8080/"
        },
        "id": "dYmJTk5Llv53",
        "outputId": "70de44ed-f3bc-4ce8-835b-21e6ed59602a",
        "scrolled": true
      },
      "outputs": [
        {
          "data": {
            "text/plain": [
              "tensor([75.])"
            ]
          },
          "execution_count": 43,
          "metadata": {},
          "output_type": "execute_result"
        }
      ],
      "source": [
        "y.backward()\n",
        "x.grad"
      ]
    },
    {
      "cell_type": "markdown",
      "metadata": {
        "id": "FML8aD8Hlv53"
      },
      "source": [
        "#### Obliczenia z pominięciem gradientów"
      ]
    },
    {
      "cell_type": "code",
      "execution_count": 44,
      "metadata": {
        "ExecuteTime": {
          "end_time": "2021-10-03T07:14:11.090002Z",
          "start_time": "2021-10-03T07:14:11.080853Z"
        },
        "colab": {
          "base_uri": "https://localhost:8080/"
        },
        "id": "3aT7vdx-lv53",
        "outputId": "06e72d1c-a671-46e4-983c-f22d9b513b3a"
      },
      "outputs": [
        {
          "name": "stdout",
          "output_type": "stream",
          "text": [
            "tensor([[1.1378, 1.7055, 1.7200],\n",
            "        [1.1574, 1.0281, 0.9959],\n",
            "        [0.9488, 1.2208, 1.4009]])\n",
            "tensor([[1.1378, 1.7055, 1.7200],\n",
            "        [1.1574, 1.0281, 0.9959],\n",
            "        [0.9488, 1.2208, 1.4009]], grad_fn=<MmBackward0>)\n"
          ]
        }
      ],
      "source": [
        "t1 = torch.rand(3,4, requires_grad=True)\n",
        "t2 = torch.rand(4,3, requires_grad=True)\n",
        "with torch.no_grad():\n",
        "    y = t1@t2\n",
        "print(y)\n",
        "print(t1@t2)"
      ]
    },
    {
      "cell_type": "markdown",
      "metadata": {
        "id": "vz4GN7UHlv53"
      },
      "source": [
        "#### Funkcja backward pozwala nam policzyć pochodną cząstkową w punkcie dla wszystkich źródeł (liści w grafie obliczeń)"
      ]
    },
    {
      "cell_type": "code",
      "execution_count": 45,
      "metadata": {
        "ExecuteTime": {
          "end_time": "2021-10-02T14:43:04.847863Z",
          "start_time": "2021-10-02T14:43:04.843680Z"
        },
        "id": "pGWHgDoClv53"
      },
      "outputs": [],
      "source": [
        "x = torch.ones(5)  # input tensor\n",
        "y = torch.zeros(3)  # expected output"
      ]
    },
    {
      "cell_type": "code",
      "execution_count": 46,
      "metadata": {
        "ExecuteTime": {
          "end_time": "2021-10-02T14:43:05.075436Z",
          "start_time": "2021-10-02T14:43:05.071173Z"
        },
        "id": "2NOi1mK1lv53"
      },
      "outputs": [],
      "source": [
        "w = torch.randn(5, 3, requires_grad=True) #weights\n",
        "b = torch.randn(3, requires_grad=True) #bias"
      ]
    },
    {
      "cell_type": "code",
      "execution_count": 47,
      "metadata": {
        "ExecuteTime": {
          "end_time": "2021-10-02T14:43:05.285364Z",
          "start_time": "2021-10-02T14:43:05.281481Z"
        },
        "id": "FZeaQYHIlv53"
      },
      "outputs": [],
      "source": [
        "z = torch.matmul(x, w)+b"
      ]
    },
    {
      "cell_type": "code",
      "execution_count": 48,
      "metadata": {
        "ExecuteTime": {
          "end_time": "2021-10-02T14:43:05.507440Z",
          "start_time": "2021-10-02T14:43:05.501001Z"
        },
        "colab": {
          "base_uri": "https://localhost:8080/"
        },
        "id": "u_Q_cK7Ylv54",
        "outputId": "031b9df2-3418-4878-96c9-3e1a258b9ca0"
      },
      "outputs": [
        {
          "data": {
            "text/plain": [
              "tensor(1.1474, grad_fn=<MeanBackward0>)"
            ]
          },
          "execution_count": 48,
          "metadata": {},
          "output_type": "execute_result"
        }
      ],
      "source": [
        "loss = torch.abs((z-y)).mean()\n",
        "loss"
      ]
    },
    {
      "cell_type": "code",
      "execution_count": 49,
      "metadata": {
        "ExecuteTime": {
          "end_time": "2021-10-02T14:43:06.355062Z",
          "start_time": "2021-10-02T14:43:06.348255Z"
        },
        "colab": {
          "base_uri": "https://localhost:8080/"
        },
        "id": "SxPo5y7Tlv54",
        "outputId": "6c2696fe-6604-4373-e8cb-f8456f430320"
      },
      "outputs": [
        {
          "name": "stdout",
          "output_type": "stream",
          "text": [
            "tensor([[-0.3333, -0.3333, -0.3333],\n",
            "        [-0.3333, -0.3333, -0.3333],\n",
            "        [-0.3333, -0.3333, -0.3333],\n",
            "        [-0.3333, -0.3333, -0.3333],\n",
            "        [-0.3333, -0.3333, -0.3333]])\n",
            "tensor([-0.3333, -0.3333, -0.3333])\n"
          ]
        }
      ],
      "source": [
        "loss.backward()\n",
        "print(w.grad)\n",
        "print(b.grad)"
      ]
    },
    {
      "cell_type": "markdown",
      "metadata": {
        "id": "fJw_BfmKlv54"
      },
      "source": [
        "# Regresja raz jeszcze"
      ]
    },
    {
      "cell_type": "code",
      "execution_count": 50,
      "metadata": {
        "ExecuteTime": {
          "end_time": "2021-10-02T15:02:58.234376Z",
          "start_time": "2021-10-02T15:02:58.229524Z"
        },
        "id": "6vwNkyaslv54"
      },
      "outputs": [],
      "source": [
        "apples_kg_ordered = [2,4,7,3,13]\n",
        "plums_kg_ordered = [3,8,9,1,1]\n",
        "prices = [11.97 , 28.05, 38.98, 10.96, 41.1]"
      ]
    },
    {
      "cell_type": "code",
      "execution_count": 51,
      "metadata": {
        "ExecuteTime": {
          "end_time": "2021-10-02T15:02:58.647418Z",
          "start_time": "2021-10-02T15:02:58.639049Z"
        },
        "colab": {
          "base_uri": "https://localhost:8080/"
        },
        "id": "jezylnZclv54",
        "outputId": "f24fb685-69b7-42ca-8146-758c1ecd7263"
      },
      "outputs": [
        {
          "name": "stdout",
          "output_type": "stream",
          "text": [
            "tensor([[ 2.,  3.],\n",
            "        [ 4.,  8.],\n",
            "        [ 7.,  9.],\n",
            "        [ 3.,  1.],\n",
            "        [13.,  1.]])\n",
            "tensor([11.9700, 28.0500, 38.9800, 10.9600, 41.1000])\n"
          ]
        }
      ],
      "source": [
        "X = torch.tensor([apples_kg_ordered,plums_kg_ordered])\n",
        "y = torch.tensor(prices)\n",
        "X = X.T.float()\n",
        "Y = Y.T\n",
        "print(X)\n",
        "print(Y)"
      ]
    },
    {
      "cell_type": "code",
      "execution_count": 52,
      "metadata": {
        "ExecuteTime": {
          "end_time": "2021-10-02T15:02:58.844443Z",
          "start_time": "2021-10-02T15:02:58.840718Z"
        },
        "id": "be_MQWe5lv54"
      },
      "outputs": [],
      "source": [
        "params = torch.rand(2,requires_grad=True)"
      ]
    },
    {
      "cell_type": "code",
      "execution_count": 53,
      "metadata": {
        "ExecuteTime": {
          "end_time": "2021-10-02T15:02:59.048063Z",
          "start_time": "2021-10-02T15:02:59.041604Z"
        },
        "colab": {
          "base_uri": "https://localhost:8080/"
        },
        "id": "YeKgK4GZlv55",
        "outputId": "a95b7fe7-727a-45a7-8916-40a80c01f332"
      },
      "outputs": [
        {
          "data": {
            "text/plain": [
              "tensor([1.9649, 4.7801, 6.2393, 1.4592, 4.9060], grad_fn=<MvBackward0>)"
            ]
          },
          "execution_count": 53,
          "metadata": {},
          "output_type": "execute_result"
        }
      ],
      "source": [
        "y_pred = X@params\n",
        "y_pred"
      ]
    },
    {
      "cell_type": "code",
      "execution_count": 54,
      "metadata": {
        "ExecuteTime": {
          "end_time": "2021-10-02T15:02:59.237566Z",
          "start_time": "2021-10-02T15:02:59.230912Z"
        },
        "colab": {
          "base_uri": "https://localhost:8080/"
        },
        "id": "mF5qn8Bhlv55",
        "outputId": "c36f6cb4-cab8-4381-dede-40a443f355ae"
      },
      "outputs": [
        {
          "data": {
            "text/plain": [
              "tensor(622.7637, grad_fn=<MeanBackward0>)"
            ]
          },
          "execution_count": 54,
          "metadata": {},
          "output_type": "execute_result"
        }
      ],
      "source": [
        "loss = (torch.square(Y-y_pred)).mean()\n",
        "loss"
      ]
    },
    {
      "cell_type": "code",
      "execution_count": 55,
      "metadata": {
        "ExecuteTime": {
          "end_time": "2021-10-02T15:02:59.437480Z",
          "start_time": "2021-10-02T15:02:59.433774Z"
        },
        "id": "jnMfNf8Tlv55"
      },
      "outputs": [],
      "source": [
        "loss.backward()"
      ]
    },
    {
      "cell_type": "code",
      "execution_count": 56,
      "metadata": {
        "ExecuteTime": {
          "end_time": "2021-10-02T15:02:59.662916Z",
          "start_time": "2021-10-02T15:02:59.656827Z"
        },
        "colab": {
          "base_uri": "https://localhost:8080/"
        },
        "id": "wValadTnlv55",
        "outputId": "863b7080-72b1-4eb0-9d78-61243db5bf89",
        "scrolled": true
      },
      "outputs": [
        {
          "data": {
            "text/plain": [
              "tensor([-336.5199, -222.6143])"
            ]
          },
          "execution_count": 56,
          "metadata": {},
          "output_type": "execute_result"
        }
      ],
      "source": [
        "params.grad"
      ]
    },
    {
      "cell_type": "code",
      "execution_count": 57,
      "metadata": {
        "ExecuteTime": {
          "end_time": "2021-10-02T15:03:00.003219Z",
          "start_time": "2021-10-02T15:03:00Z"
        },
        "id": "KkGTPkJ6lv55"
      },
      "outputs": [],
      "source": [
        "lr = 0.001"
      ]
    },
    {
      "cell_type": "code",
      "execution_count": 58,
      "metadata": {
        "ExecuteTime": {
          "end_time": "2021-10-02T15:03:00.450882Z",
          "start_time": "2021-10-02T15:03:00.442852Z"
        },
        "colab": {
          "base_uri": "https://localhost:8080/"
        },
        "id": "d_ZXbJ43lv55",
        "outputId": "217bffc8-3024-42a2-d601-16ad03165cd1"
      },
      "outputs": [
        {
          "name": "stdout",
          "output_type": "stream",
          "text": [
            "tensor([0.3447, 0.4252], requires_grad=True)\n"
          ]
        },
        {
          "data": {
            "text/plain": [
              "tensor([0.6812, 0.6478], grad_fn=<SubBackward0>)"
            ]
          },
          "execution_count": 58,
          "metadata": {},
          "output_type": "execute_result"
        }
      ],
      "source": [
        "print(params)\n",
        "params - lr *params.grad"
      ]
    },
    {
      "cell_type": "code",
      "execution_count": 59,
      "metadata": {
        "ExecuteTime": {
          "end_time": "2021-10-02T15:17:41.903513Z",
          "start_time": "2021-10-02T15:17:41.899456Z"
        },
        "id": "uzH1L4hXlv55"
      },
      "outputs": [],
      "source": [
        "params = torch.rand(2,requires_grad=True)"
      ]
    },
    {
      "cell_type": "code",
      "execution_count": 60,
      "metadata": {
        "ExecuteTime": {
          "end_time": "2021-10-02T15:18:30.997564Z",
          "start_time": "2021-10-02T15:18:30.905197Z"
        },
        "colab": {
          "base_uri": "https://localhost:8080/"
        },
        "id": "RnxMK3HTlv56",
        "outputId": "7a2aefa7-c6a3-4a16-c57f-c39441b0ce85",
        "scrolled": true
      },
      "outputs": [
        {
          "name": "stdout",
          "output_type": "stream",
          "text": [
            "tensor([1.1638, 0.5466], requires_grad=True)\n",
            "tensor([-287.8326, -202.8253])\n",
            "tensor([1.4137, 0.7233], requires_grad=True)\n",
            "tensor([-249.9025, -176.6985])\n",
            "tensor([1.6307, 0.8773], requires_grad=True)\n",
            "tensor([-216.9427, -153.9771])\n",
            "tensor([1.8190, 1.0115], requires_grad=True)\n",
            "tensor([-188.3026, -134.2159])\n",
            "tensor([1.9824, 1.1286], requires_grad=True)\n",
            "tensor([-163.4170, -117.0283])\n",
            "tensor([2.1242, 1.2306], requires_grad=True)\n",
            "tensor([-141.7945, -102.0778])\n",
            "tensor([2.2472, 1.3197], requires_grad=True)\n",
            "tensor([-123.0079,  -89.0722])\n",
            "tensor([2.3539, 1.3975], requires_grad=True)\n",
            "tensor([-106.6862,  -77.7573])\n",
            "tensor([2.4464, 1.4654], requires_grad=True)\n",
            "tensor([-92.5065, -67.9123])\n",
            "tensor([2.5266, 1.5247], requires_grad=True)\n",
            "tensor([-80.1886, -59.3453])\n",
            "tensor([2.5961, 1.5766], requires_grad=True)\n",
            "tensor([-69.4886, -51.8893])\n",
            "tensor([2.6563, 1.6220], requires_grad=True)\n",
            "tensor([-60.1947, -45.3994])\n",
            "tensor([2.7084, 1.6618], requires_grad=True)\n",
            "tensor([-52.1228, -39.7493])\n",
            "tensor([2.7535, 1.6966], requires_grad=True)\n",
            "tensor([-45.1128, -34.8296])\n",
            "tensor([2.7925, 1.7271], requires_grad=True)\n",
            "tensor([-39.0256, -30.5450])\n",
            "tensor([2.8263, 1.7539], requires_grad=True)\n",
            "tensor([-33.7404, -26.8126])\n",
            "tensor([2.8554, 1.7775], requires_grad=True)\n",
            "tensor([-29.1520, -23.5604])\n",
            "tensor([2.8806, 1.7982], requires_grad=True)\n",
            "tensor([-25.1692, -20.7259])\n",
            "tensor([2.9023, 1.8165], requires_grad=True)\n",
            "tensor([-21.7125, -18.2547])\n",
            "tensor([2.9210, 1.8326], requires_grad=True)\n",
            "tensor([-18.7129, -16.0995])\n",
            "tensor([2.9371, 1.8468], requires_grad=True)\n",
            "tensor([-16.1107, -14.2191])\n",
            "tensor([2.9510, 1.8594], requires_grad=True)\n",
            "tensor([-13.8535, -12.5779])\n",
            "tensor([2.9629, 1.8705], requires_grad=True)\n",
            "tensor([-11.8961, -11.1447])\n",
            "tensor([2.9731, 1.8804], requires_grad=True)\n",
            "tensor([-10.1992,  -9.8925])\n",
            "tensor([2.9818, 1.8892], requires_grad=True)\n",
            "tensor([-8.7285, -8.7979])\n",
            "tensor([2.9893, 1.8971], requires_grad=True)\n",
            "tensor([-7.4544, -7.8404])\n",
            "tensor([2.9956, 1.9041], requires_grad=True)\n",
            "tensor([-6.3510, -7.0023])\n",
            "tensor([3.0010, 1.9103], requires_grad=True)\n",
            "tensor([-5.3958, -6.2681])\n",
            "tensor([3.0056, 1.9160], requires_grad=True)\n",
            "tensor([-4.5694, -5.6245])\n",
            "tensor([3.0094, 1.9210], requires_grad=True)\n",
            "tensor([-3.8547, -5.0597])\n",
            "tensor([3.0127, 1.9256], requires_grad=True)\n",
            "tensor([-3.2370, -4.5635])\n",
            "tensor([3.0154, 1.9297], requires_grad=True)\n",
            "tensor([-2.7037, -4.1273])\n",
            "tensor([3.0176, 1.9334], requires_grad=True)\n",
            "tensor([-2.2434, -3.7432])\n",
            "tensor([3.0195, 1.9369], requires_grad=True)\n",
            "tensor([-1.8465, -3.4046])\n",
            "tensor([3.0210, 1.9400], requires_grad=True)\n",
            "tensor([-1.5048, -3.1058])\n",
            "tensor([3.0222, 1.9428], requires_grad=True)\n",
            "tensor([-1.2108, -2.8416])\n",
            "tensor([3.0231, 1.9454], requires_grad=True)\n",
            "tensor([-0.9582, -2.6076])\n",
            "tensor([3.0239, 1.9478], requires_grad=True)\n",
            "tensor([-0.7415, -2.4000])\n",
            "tensor([3.0244, 1.9500], requires_grad=True)\n",
            "tensor([-0.5559, -2.2156])\n",
            "tensor([3.0248, 1.9521], requires_grad=True)\n",
            "tensor([-0.3973, -2.0513])\n",
            "tensor([3.0251, 1.9540], requires_grad=True)\n",
            "tensor([-0.2620, -1.9047])\n",
            "tensor([3.0252, 1.9558], requires_grad=True)\n",
            "tensor([-0.1470, -1.7736])\n",
            "tensor([3.0253, 1.9574], requires_grad=True)\n",
            "tensor([-0.0495, -1.6560])\n",
            "tensor([3.0253, 1.9590], requires_grad=True)\n",
            "tensor([ 0.0329, -1.5504])\n",
            "tensor([3.0252, 1.9604], requires_grad=True)\n",
            "tensor([ 0.1022, -1.4552])\n",
            "tensor([3.0250, 1.9618], requires_grad=True)\n",
            "tensor([ 0.1602, -1.3692])\n",
            "tensor([3.0248, 1.9631], requires_grad=True)\n",
            "tensor([ 0.2085, -1.2912])\n",
            "tensor([3.0245, 1.9643], requires_grad=True)\n",
            "tensor([ 0.2483, -1.2204])\n",
            "tensor([3.0243, 1.9655], requires_grad=True)\n",
            "tensor([ 0.2809, -1.1559])\n",
            "tensor([3.0239, 1.9665], requires_grad=True)\n",
            "tensor([ 0.3072, -1.0969])\n"
          ]
        }
      ],
      "source": [
        "for epoch in range(50):\n",
        "    y_pred = X@params\n",
        "    loss = (torch.square(Y-y_pred)).mean()\n",
        "    loss.backward()\n",
        "    with torch.no_grad():\n",
        "        params.copy_(params - lr *params.grad)\n",
        "    print(params)\n",
        "    print(params.grad)\n",
        "    params.grad.zero_()"
      ]
    },
    {
      "cell_type": "markdown",
      "metadata": {
        "id": "xU7FtDZ9lv56"
      },
      "source": [
        "### Mini zadanie na plusa, mozna wyslać po zajęciach.\n",
        "Tym razem na innym targu do ceny owoców doliczany jest stały koszt reklamówki. Napisz model regresji liniowej który oszacuje cenę kg ziemniaków, pomidorów i reklamówki"
      ]
    },
    {
      "cell_type": "code",
      "execution_count": 131,
      "metadata": {
        "ExecuteTime": {
          "end_time": "2021-10-03T07:05:29.893186Z",
          "start_time": "2021-10-03T07:05:29.886876Z"
        },
        "id": "zfxFhviDlv56"
      },
      "outputs": [],
      "source": [
        "potatoes_kg_ordered = [1,3,7,3,10,6,8,4,3,1,2,0]\n",
        "tomatoes_kg_ordered = [5,2,3,1,2,3,6,7,3,2,3,1]\n",
        "prices = [22.37 , 14.45, 26.6, 10.44, 28.49, 24.52, 40.38, 36.51, 18.50, 10.46, 16.51, 4.58]"
      ]
    },
    {
      "cell_type": "code",
      "execution_count": 132,
      "metadata": {
        "ExecuteTime": {
          "end_time": "2021-10-03T07:05:35.107666Z",
          "start_time": "2021-10-03T07:05:35.098747Z"
        },
        "colab": {
          "base_uri": "https://localhost:8080/"
        },
        "id": "_wXo6K-5lv56",
        "outputId": "7ece66af-e6ed-4511-c1f9-b39335961ef4"
      },
      "outputs": [
        {
          "name": "stdout",
          "output_type": "stream",
          "text": [
            "tensor([[ 1.,  5.,  1.],\n",
            "        [ 3.,  2.,  1.],\n",
            "        [ 7.,  3.,  1.],\n",
            "        [ 3.,  1.,  1.],\n",
            "        [10.,  2.,  1.],\n",
            "        [ 6.,  3.,  1.],\n",
            "        [ 8.,  6.,  1.],\n",
            "        [ 4.,  7.,  1.],\n",
            "        [ 3.,  3.,  1.],\n",
            "        [ 1.,  2.,  1.],\n",
            "        [ 2.,  3.,  1.],\n",
            "        [ 0.,  1.,  1.]])\n",
            "tensor([22.3700, 14.4500, 26.6000, 10.4400, 28.4900, 24.5200, 40.3800, 36.5100,\n",
            "        18.5000, 10.4600, 16.5100,  4.5800])\n"
          ]
        }
      ],
      "source": [
        "Y = torch.tensor(prices)\n",
        "\n",
        "bag = torch.ones_like(Y) # vecotr which contains only values 1 to represent constant price of bag\n",
        "X = torch.tensor([potatoes_kg_ordered, tomatoes_kg_ordered, bag])\n",
        "X = X.T.float()\n",
        "Y = Y.T\n",
        "\n",
        "print(X)\n",
        "print(Y)"
      ]
    },
    {
      "cell_type": "code",
      "execution_count": 152,
      "metadata": {
        "colab": {
          "base_uri": "https://localhost:8080/"
        },
        "id": "siZf7694HB54",
        "outputId": "0c6d77ca-0801-4a71-9a31-ee5d21e35cda"
      },
      "outputs": [
        {
          "name": "stdout",
          "output_type": "stream",
          "text": [
            "Epoch :0 -- Loss : 430.5230407714844\n",
            "Epoch :50 -- Loss : 0.10676952451467514\n",
            "Epoch :100 -- Loss : 0.05131150409579277\n",
            "Epoch :150 -- Loss : 0.025742819532752037\n",
            "Epoch :200 -- Loss : 0.013954718597233295\n",
            "Epoch :250 -- Loss : 0.008519968017935753\n",
            "Epoch :300 -- Loss : 0.006014229264110327\n",
            "Epoch :350 -- Loss : 0.004858996719121933\n",
            "Epoch :400 -- Loss : 0.0043264273554086685\n",
            "Epoch :450 -- Loss : 0.004080852493643761\n",
            "Epoch :500 -- Loss : 0.003967640921473503\n",
            "Epoch :550 -- Loss : 0.003915473353117704\n",
            "Epoch :600 -- Loss : 0.0038913290482014418\n",
            "Epoch :650 -- Loss : 0.0038802828639745712\n",
            "Epoch :700 -- Loss : 0.003875170601531863\n",
            "Epoch :750 -- Loss : 0.0038728329818695784\n",
            "Epoch :800 -- Loss : 0.003871709108352661\n",
            "Epoch :850 -- Loss : 0.003871193854138255\n",
            "Epoch :900 -- Loss : 0.003871029941365123\n",
            "Epoch :950 -- Loss : 0.003870895830914378\n",
            "\n",
            " VALUES FOUND BY MODEL \n",
            "\n",
            "Potato price : 2.0025\n",
            "Tomato price : 3.9867\n",
            "Bag price : 0.5164\n",
            "Calculated prices : tensor([22.4525, 14.4973, 26.4939, 10.5105, 28.5145, 24.4914, 40.4565, 36.4334,\n",
            "        18.4840, 10.4923, 16.4815,  4.5031])\n",
            "Price differences : tensor([ 0.0825,  0.0473, -0.1061,  0.0705,  0.0245, -0.0286,  0.0765, -0.0766,\n",
            "        -0.0160,  0.0323, -0.0285, -0.0769])\n"
          ]
        }
      ],
      "source": [
        "params = torch.rand(3,requires_grad=True) # we need 3 different weights -> for potatoes, tomatoes and the bag\n",
        "\n",
        "epochs = 1000\n",
        "lr = 0.02\n",
        "\n",
        "for epoch in range(epochs):\n",
        "  y_predicted = X @ params\n",
        "\n",
        "  loss_functions = (torch.square(Y-y_predicted)).mean()\n",
        "\n",
        "  loss_functions.backward()\n",
        "\n",
        "  with torch.no_grad():\n",
        "      params.copy_(params - lr *params.grad)\n",
        "      params.grad.zero_()\n",
        "\n",
        "\n",
        "  if epoch % 50 == 0:\n",
        "    print(f\"Epoch :{epoch} -- Loss : {loss_functions}\")\n",
        "\n",
        "potato_price = params[0].item()\n",
        "tomato_price = params[1].item()\n",
        "bag_price = params[2].item()\n",
        "\n",
        "print(\"\\n\", \"VALUES FOUND BY MODEL\", \"\\n\")\n",
        "\n",
        "print(f\"Potato price : {potato_price:.4f}\")\n",
        "print(f\"Tomato price : {tomato_price:.4f}\")\n",
        "print(f'Bag price : {bag_price:.4f}')\n",
        "\n",
        "\n",
        "final_prices = torch.tensor(potato_price) * X[:,0] + torch.tensor(tomato_price) * X[:,1] + torch.tensor(bag_price)\n",
        "\n",
        "print(f\"Calculated prices : {final_prices}\")\n",
        "\n",
        "differences = final_prices - Y\n",
        "print(f\"Price differences : {differences}\")\n",
        "\n"
      ]
    },
    {
      "cell_type": "markdown",
      "metadata": {
        "id": "p0JIPkO3lv56",
        "jp-MarkdownHeadingCollapsed": true
      },
      "source": [
        "#### Końcowy wynik:"
      ]
    },
    {
      "cell_type": "code",
      "execution_count": 63,
      "metadata": {
        "ExecuteTime": {
          "end_time": "2021-10-03T06:59:55.773674Z",
          "start_time": "2021-10-03T06:59:55.766821Z"
        },
        "colab": {
          "base_uri": "https://localhost:8080/"
        },
        "id": "s0q7C5TYlv56",
        "outputId": "a8ab4eb4-2cfe-42ea-b7a8-f7b27060e9e3"
      },
      "outputs": [
        {
          "data": {
            "text/plain": [
              "array([22.5, 14.5, 26.5, 10.5, 28.5, 24.5, 40.5, 36.5, 18.5, 10.5, 16.5,\n",
              "        4.5])"
            ]
          },
          "execution_count": 63,
          "metadata": {},
          "output_type": "execute_result"
        }
      ],
      "source": [
        "#GT Rozwiazanie - jak je znaleźć?\n",
        "np.array(potatoes_kg_ordered)*2 + np.array(tomatoes_kg_ordered)*4 + 0.5"
      ]
    },
    {
      "cell_type": "markdown",
      "metadata": {
        "id": "UF-gVAkclv57"
      },
      "source": [
        "# LAB 2 - Tworzenie architektury i przygotowanie danych"
      ]
    },
    {
      "cell_type": "code",
      "execution_count": 64,
      "metadata": {
        "ExecuteTime": {
          "end_time": "2021-10-15T06:25:18.845741Z",
          "start_time": "2021-10-15T06:25:18.434742Z"
        },
        "id": "E1kxV3UDlv57"
      },
      "outputs": [],
      "source": [
        "import torch\n",
        "import numpy as np\n",
        "import time\n",
        "import math\n",
        "import matplotlib.pyplot as plt"
      ]
    },
    {
      "cell_type": "markdown",
      "metadata": {
        "id": "9MDwgMMHlv57"
      },
      "source": [
        "## GPU"
      ]
    },
    {
      "cell_type": "markdown",
      "metadata": {
        "id": "PifSBOxllv57"
      },
      "source": [
        "Jednym z kluczowych udogodnień pytorcha jest możliwość szybkiego i prostego przenoszenia obliczeń między CPU a GPU"
      ]
    },
    {
      "cell_type": "code",
      "execution_count": 65,
      "metadata": {
        "ExecuteTime": {
          "end_time": "2021-10-15T06:26:18.605771Z",
          "start_time": "2021-10-15T06:26:17.326230Z"
        },
        "colab": {
          "base_uri": "https://localhost:8080/"
        },
        "id": "eqeRV9kLlv57",
        "outputId": "9aa391a9-615c-4530-b85d-1b141dc7c150"
      },
      "outputs": [
        {
          "data": {
            "text/plain": [
              "True"
            ]
          },
          "execution_count": 65,
          "metadata": {},
          "output_type": "execute_result"
        }
      ],
      "source": [
        "torch.cuda.is_available()"
      ]
    },
    {
      "cell_type": "code",
      "execution_count": 66,
      "metadata": {
        "ExecuteTime": {
          "end_time": "2021-10-15T06:28:51.680702Z",
          "start_time": "2021-10-15T06:28:51.675017Z"
        },
        "colab": {
          "base_uri": "https://localhost:8080/"
        },
        "id": "kvhhKL5slv57",
        "outputId": "674d828d-4de1-417c-a58f-242a5cbc49af"
      },
      "outputs": [
        {
          "data": {
            "text/plain": [
              "device(type='cuda')"
            ]
          },
          "execution_count": 66,
          "metadata": {},
          "output_type": "execute_result"
        }
      ],
      "source": [
        "device = torch.device(\"cuda\")\n",
        "device"
      ]
    },
    {
      "cell_type": "code",
      "execution_count": 67,
      "metadata": {
        "ExecuteTime": {
          "end_time": "2021-10-15T06:28:54.839617Z",
          "start_time": "2021-10-15T06:28:53.163109Z"
        },
        "colab": {
          "base_uri": "https://localhost:8080/"
        },
        "id": "6llU2PWPlv57",
        "outputId": "5680adb8-a856-4e20-9fe4-0411e2e55c8c"
      },
      "outputs": [
        {
          "name": "stdout",
          "output_type": "stream",
          "text": [
            "X tensor([[0., 0., 0.],\n",
            "        [0., 0., 0.]])\n",
            "X tensor([[0., 0., 0.],\n",
            "        [0., 0., 0.]], device='cuda:0')\n"
          ]
        }
      ],
      "source": [
        "x = torch.zeros(2, 3)\n",
        "print(\"X\", x)\n",
        "x = x.to(device)\n",
        "print(\"X\", x)"
      ]
    },
    {
      "cell_type": "markdown",
      "metadata": {
        "id": "NiVKCYRYlv58"
      },
      "source": [
        "#### Co nam to daje?"
      ]
    },
    {
      "cell_type": "code",
      "execution_count": 68,
      "metadata": {
        "ExecuteTime": {
          "end_time": "2021-10-15T06:30:02.766546Z",
          "start_time": "2021-10-15T06:30:02.344191Z"
        },
        "colab": {
          "base_uri": "https://localhost:8080/"
        },
        "id": "uh80xGrclv58",
        "outputId": "2a1e5525-17ff-4fc1-f8b0-d81d752c9b1e"
      },
      "outputs": [
        {
          "name": "stdout",
          "output_type": "stream",
          "text": [
            "CPU time: 4.04132s\n",
            "GPU time: 0.00031s\n"
          ]
        }
      ],
      "source": [
        "x = torch.randn(5000, 5000)\n",
        "\n",
        "## CPU version\n",
        "start_time = time.time()\n",
        "_ = torch.matmul(x, x)\n",
        "end_time = time.time()\n",
        "print(f\"CPU time: {(end_time - start_time):6.5f}s\")\n",
        "\n",
        "## GPU version\n",
        "x = x.to(device)\n",
        "# The first operation on a CUDA device can be slow as it has to establish a CPU-GPU communication first.\n",
        "# Hence, we run an arbitrary command first without timing it for a fair comparison.\n",
        "_ = torch.matmul(x*0.0, x)\n",
        "start_time = time.time()\n",
        "_ = torch.matmul(x, x)\n",
        "end_time = time.time()\n",
        "print(f\"GPU time: {(end_time - start_time):6.5f}s\")"
      ]
    },
    {
      "cell_type": "markdown",
      "metadata": {
        "id": "WgozXT2Blv58"
      },
      "source": [
        "#### Ciąg komend do zapisania\n",
        "Losowość jest bardzo ważnym elementem trenowania sieci neuronowych (o czym się wkrótce przekonamy). Eksperymentując, chcielibyśmy jednak żeby przy każdym uruchomieniu programu, wynik był taki sam. Tylko w takim przypadku jesteśmy w stanie coś wnioskować. Do zapewnienia możliwości reprodukcji wyników na GPU za pomocą pytorcha służa poniższe komendy:"
      ]
    },
    {
      "cell_type": "code",
      "execution_count": 69,
      "metadata": {
        "ExecuteTime": {
          "end_time": "2021-10-11T14:25:02.868485Z",
          "start_time": "2021-10-11T14:25:02.862527Z"
        },
        "id": "Tc6lqI8Clv58"
      },
      "outputs": [],
      "source": [
        "# GPU operations have a separate seed we also want to set\n",
        "if torch.cuda.is_available():\n",
        "    torch.cuda.manual_seed(42)\n",
        "    torch.cuda.manual_seed_all(42)\n",
        "\n",
        "# Additionally, some operations on a GPU are implemented stochastic for efficiency\n",
        "# We want to ensure that all operations are deterministic on GPU (if used) for reproducibility\n",
        "torch.backends.cudnn.determinstic = True\n",
        "torch.backends.cudnn.benchmark = False"
      ]
    },
    {
      "cell_type": "markdown",
      "metadata": {
        "id": "B8Lah7qLlv58"
      },
      "source": [
        "## Tworzenie modeli\n",
        "Tworzymy tensory z parametrami, wagi i biasy, obliczamy gradienty, aktualizujemy parametry itd.\n",
        "lub\n",
        "wykorzystujemy torch.nn"
      ]
    },
    {
      "cell_type": "markdown",
      "metadata": {
        "id": "YVMmiyEdlv58"
      },
      "source": [
        "W torch.nn możemy znaleźć wiele przydatnych predefiniowanych klas jak wagi sieci, funkcje aktywacji, funkcje straty, optymalizacja itp. Jeszcze raz, dokumentacja jest fajna: https://pytorch.org/docs/stable/nn.html"
      ]
    },
    {
      "cell_type": "code",
      "execution_count": 2,
      "metadata": {
        "ExecuteTime": {
          "end_time": "2021-10-15T06:34:21.423948Z",
          "start_time": "2021-10-15T06:34:21.419785Z"
        },
        "id": "G5uxsipClv58"
      },
      "outputs": [],
      "source": [
        "import torch.nn as nn"
      ]
    },
    {
      "cell_type": "markdown",
      "metadata": {
        "id": "aMcgJ73olv58"
      },
      "source": [
        "Dodatkowo, funkcje wykorzystywane w budowaniu sieci znajdują się w module torch.nn.functionl"
      ]
    },
    {
      "cell_type": "code",
      "execution_count": 4,
      "metadata": {
        "ExecuteTime": {
          "end_time": "2021-10-15T06:34:29.552399Z",
          "start_time": "2021-10-15T06:34:29.548679Z"
        },
        "id": "lmFrwaNrlv59"
      },
      "outputs": [],
      "source": [
        "import torch.nn.functional as F"
      ]
    },
    {
      "cell_type": "markdown",
      "metadata": {
        "id": "3OoDeaEvlv59"
      },
      "source": [
        "### nn.Module\n",
        "W PyTorchu, sieci neuronowe są zbudowane z modułów - obiektów klas dziedziczących po klasie nn.Module. Moduły mogą składać się z innych modułów, a sieć neuronowa w całości też zazwyczaj jest modułem.\n",
        "\n",
        "Podstawowy template dla modułu wygląda następująco"
      ]
    },
    {
      "cell_type": "code",
      "execution_count": 72,
      "metadata": {
        "ExecuteTime": {
          "end_time": "2021-10-09T07:40:40.406203Z",
          "start_time": "2021-10-09T07:40:40.401191Z"
        },
        "id": "iCJHMe8Jlv59"
      },
      "outputs": [],
      "source": [
        "class MyModule(nn.Module):\n",
        "\n",
        "    def __init__(self):\n",
        "        super().__init__()\n",
        "        # Some init for my module\n",
        "\n",
        "    def forward(self, x):\n",
        "        # Function for performing the calculation of the module.\n",
        "        pass"
      ]
    },
    {
      "cell_type": "markdown",
      "metadata": {
        "id": "_ERnv6m6lv59"
      },
      "source": [
        "W konstruktorze modułu zazwyczaj inicjowane są wszystkie parametry, lub wewnętrzne moduły (np. warstwy sieci)\n",
        "\n",
        "W funkcji forward zapisane są wszystkie obliczenia które są wykonywane kiedy wywołujemy dany moduł. Przykładowo: (nn = MyModule(); nn(x)).\n",
        "\n",
        "Kalkulacja wstecz (backwards) jest tworzona automatycznie, ale w razie potrzeby można ją też nadpisywać"
      ]
    },
    {
      "cell_type": "markdown",
      "metadata": {
        "id": "DHaDagahlv59"
      },
      "source": [
        "# Stwórzmy pierwsza sieć neuronową"
      ]
    },
    {
      "cell_type": "code",
      "execution_count": 73,
      "metadata": {
        "ExecuteTime": {
          "end_time": "2021-10-15T06:43:32.605680Z",
          "start_time": "2021-10-15T06:43:32.597437Z"
        },
        "id": "LjXbeDsflv59"
      },
      "outputs": [],
      "source": [
        "class SimpleClassifier(nn.Module):\n",
        "\n",
        "    def __init__(self, num_inputs, num_hidden, num_outputs):\n",
        "        super().__init__()\n",
        "        # Initialize the modules we need to build the network\n",
        "        self.linear1 = nn.Linear(num_inputs, num_hidden)\n",
        "        self.act_fn = nn.Tanh()\n",
        "        self.linear2 = nn.Linear(num_hidden, num_outputs)\n",
        "#         self.linear3 = nn.Linear(num_hidden, num_outputs)\n",
        "\n",
        "    def forward(self, x):\n",
        "        # Perform the calculation of the model to determine the prediction\n",
        "        x = self.linear1(x)\n",
        "        x = self.act_fn(x)\n",
        "        x = self.linear2(x)\n",
        "#         x = self.act_fn(x)\n",
        "#         x = self.linear3(x)\n",
        "        return x"
      ]
    },
    {
      "cell_type": "markdown",
      "metadata": {
        "id": "00j_FMH0lv59"
      },
      "source": [
        "Wypisywanie zawartości modelu"
      ]
    },
    {
      "cell_type": "code",
      "execution_count": 74,
      "metadata": {
        "ExecuteTime": {
          "end_time": "2021-10-15T06:43:36.560612Z",
          "start_time": "2021-10-15T06:43:36.554872Z"
        },
        "colab": {
          "base_uri": "https://localhost:8080/"
        },
        "id": "pUMMNnbnlv59",
        "outputId": "2c7e49ac-ef06-4172-c82d-dbc774d27f5a"
      },
      "outputs": [
        {
          "name": "stdout",
          "output_type": "stream",
          "text": [
            "SimpleClassifier(\n",
            "  (linear1): Linear(in_features=2, out_features=4, bias=True)\n",
            "  (act_fn): Tanh()\n",
            "  (linear2): Linear(in_features=4, out_features=1, bias=True)\n",
            ")\n"
          ]
        }
      ],
      "source": [
        "model = SimpleClassifier(num_inputs=2, num_hidden=4, num_outputs=1)\n",
        "model.cuda()\n",
        "# Printing a module shows all its submodules\n",
        "print(model)"
      ]
    },
    {
      "cell_type": "code",
      "execution_count": 75,
      "metadata": {
        "id": "E08J5u6Mlv5-"
      },
      "outputs": [],
      "source": [
        "x = torch.Tensor(2).cuda()"
      ]
    },
    {
      "cell_type": "code",
      "execution_count": 76,
      "metadata": {
        "colab": {
          "base_uri": "https://localhost:8080/"
        },
        "id": "cLPzIRIWlv5-",
        "outputId": "1c85f0dd-1342-4aad-b806-bd0f881cec56"
      },
      "outputs": [
        {
          "data": {
            "text/plain": [
              "tensor([0.8566], device='cuda:0', grad_fn=<ViewBackward0>)"
            ]
          },
          "execution_count": 76,
          "metadata": {},
          "output_type": "execute_result"
        }
      ],
      "source": [
        "model.forward(x)\n",
        "model(x)"
      ]
    },
    {
      "cell_type": "markdown",
      "metadata": {
        "id": "SFmOetb4lv5-"
      },
      "source": [
        "Co tak właściwie mamy w środku?"
      ]
    },
    {
      "cell_type": "code",
      "execution_count": 77,
      "metadata": {
        "ExecuteTime": {
          "end_time": "2021-10-15T06:43:59.318323Z",
          "start_time": "2021-10-15T06:43:59.312691Z"
        },
        "colab": {
          "base_uri": "https://localhost:8080/"
        },
        "id": "0Bw3hmW0lv5-",
        "outputId": "eba09c43-0f10-47d3-8eac-b5d5e5f5b040"
      },
      "outputs": [
        {
          "name": "stdout",
          "output_type": "stream",
          "text": [
            "Parameter linear1.weight, shape torch.Size([4, 2])\n",
            "Parameter linear1.bias, shape torch.Size([4])\n",
            "Parameter linear2.weight, shape torch.Size([1, 4])\n",
            "Parameter linear2.bias, shape torch.Size([1])\n"
          ]
        }
      ],
      "source": [
        "for name, param in model.named_parameters():\n",
        "    print(f\"Parameter {name}, shape {param.shape}\")"
      ]
    },
    {
      "cell_type": "markdown",
      "metadata": {
        "id": "AYNOsEBGlv5-"
      },
      "source": [
        "## Activation functions"
      ]
    },
    {
      "cell_type": "code",
      "execution_count": 78,
      "metadata": {
        "ExecuteTime": {
          "end_time": "2021-10-15T06:46:24.004399Z",
          "start_time": "2021-10-15T06:46:23.999714Z"
        },
        "id": "JJAa4tWZlv5-"
      },
      "outputs": [],
      "source": [
        "act_fn_by_name = {\n",
        "    \"sigmoid\": torch.sigmoid,\n",
        "    \"tanh\": torch.tanh,\n",
        "    \"relu\": F.relu,\n",
        "    \"leakyrelu\": F.leaky_relu\n",
        "}"
      ]
    },
    {
      "cell_type": "code",
      "execution_count": 79,
      "metadata": {
        "ExecuteTime": {
          "end_time": "2021-10-15T06:46:32.611689Z",
          "start_time": "2021-10-15T06:46:32.606580Z"
        },
        "id": "cXtlMxc4lv5_"
      },
      "outputs": [],
      "source": [
        "def get_grads(act_fn, x):\n",
        "    x = x.clone().requires_grad_() # Mark the input as tensor for which we want to store gradients\n",
        "    out = act_fn(x)\n",
        "    out.sum().backward() # Summing results in an equal gradient flow to each element in x\n",
        "    return x.grad # Accessing the gradients of x by \"x.grad\""
      ]
    },
    {
      "cell_type": "code",
      "execution_count": 80,
      "metadata": {
        "ExecuteTime": {
          "end_time": "2021-10-15T06:46:34.798998Z",
          "start_time": "2021-10-15T06:46:34.324320Z"
        },
        "colab": {
          "base_uri": "https://localhost:8080/",
          "height": 699
        },
        "id": "0aiODwOBlv5_",
        "outputId": "dc3c4c81-bcf3-4b73-db64-ddcfe9a0ce87"
      },
      "outputs": [
        {
          "data": {
            "image/png": "[encoded data removed]",
            "text/plain": [
              "<Figure size 800x800 with 4 Axes>"
            ]
          },
          "metadata": {},
          "output_type": "display_data"
        }
      ],
      "source": [
        "%matplotlib inline\n",
        "def vis_act_fn(act_fn, name, ax, x):\n",
        "    # Run activation function\n",
        "    y = act_fn(x)\n",
        "    y_grads = get_grads(act_fn, x)\n",
        "    # Push x, y and gradients back to cpu for plotting\n",
        "    x, y, y_grads = x.cpu().numpy(), y.cpu().numpy(), y_grads.cpu().numpy()\n",
        "    ## Plotting\n",
        "    ax.plot(x, y, linewidth=2, label=\"ActFn\")\n",
        "    ax.plot(x, y_grads, linewidth=2, label=\"Gradient\")\n",
        "    ax.set_title(name)\n",
        "    ax.legend()\n",
        "    ax.set_ylim(-1.5, x.max())\n",
        "\n",
        "x = torch.linspace(-5, 5, 1000) # Range on which we want to visualize the activation functions\n",
        "## Plotting\n",
        "rows = math.ceil(len(act_fn_by_name)/2.0)\n",
        "fig, ax = plt.subplots(rows, 2, figsize=(8, rows*4))\n",
        "for i, name in enumerate(act_fn_by_name.keys()):\n",
        "    vis_act_fn(act_fn_by_name[name], name, ax[divmod(i,2)], x)\n",
        "fig.subplots_adjust(hspace=0.3)\n",
        "plt.show()\n",
        "plt.close()"
      ]
    },
    {
      "cell_type": "markdown",
      "metadata": {
        "id": "mhjvWUSglv5_"
      },
      "source": [
        "# Dane\n",
        "PyTorch posiada zaimplementowanych kilka funkcjonalności które pozwalają wczytywać i manipulować danymi. Znajdują się one w pakiecie torch.utils.data"
      ]
    },
    {
      "cell_type": "code",
      "execution_count": 3,
      "metadata": {
        "ExecuteTime": {
          "end_time": "2021-10-15T06:56:27.893031Z",
          "start_time": "2021-10-15T06:56:27.888726Z"
        },
        "id": "ZvSqn6OSlv5_"
      },
      "outputs": [],
      "source": [
        "import torch.utils.data as data"
      ]
    },
    {
      "cell_type": "markdown",
      "metadata": {
        "id": "42orWXAtlv5_"
      },
      "source": [
        "Główną strukturą w ramach której przechowywane (lub niekoniecznie) są dane jest klasa Dataset. Stwórzmy sobie przykładowy zbiór danych - tzw. ciągły XOR. Przykład zaczerpnięty z https://uvadlc-notebooks.readthedocs.io/en/latest/tutorial_notebooks/tutorial2/Introduction_to_PyTorch.html#Learning-by-example:-Continuous-XOR"
      ]
    },
    {
      "cell_type": "code",
      "execution_count": 82,
      "metadata": {
        "ExecuteTime": {
          "end_time": "2021-10-15T06:58:31.045759Z",
          "start_time": "2021-10-15T06:58:31.033124Z"
        },
        "id": "nnSNgphnlv5_"
      },
      "outputs": [],
      "source": [
        "class XORDataset(data.Dataset):\n",
        "\n",
        "    def __init__(self, size, std=0.1):\n",
        "        \"\"\"\n",
        "        Inputs:\n",
        "            size - Number of data points we want to generate\n",
        "            std - Standard deviation of the noise (see generate_continuous_xor function)\n",
        "        \"\"\"\n",
        "        super().__init__()\n",
        "        self.size = size\n",
        "        self.std = std\n",
        "        self.generate_continuous_xor()\n",
        "\n",
        "    def generate_continuous_xor(self):\n",
        "        # Each data point in the XOR dataset has two variables, x and y, that can be either 0 or 1\n",
        "        # The label is their XOR combination, i.e. 1 if only x or only y is 1 while the other is 0.\n",
        "        # If x=y, the label is 0.\n",
        "        data = torch.randint(low=0, high=2, size=(self.size, 2), dtype=torch.float32)\n",
        "        label = (data.sum(dim=1) == 1).to(torch.long)\n",
        "        # To make it slightly more challenging, we add a bit of gaussian noise to the data points.\n",
        "        data += self.std * torch.randn(data.shape)\n",
        "\n",
        "        self.data = data\n",
        "        self.label = label\n",
        "\n",
        "    def __len__(self):\n",
        "        # Number of data point we have. Alternatively self.data.shape[0], or self.label.shape[0]\n",
        "        return self.size\n",
        "\n",
        "    def __getitem__(self, idx):\n",
        "        # Return the idx-th data point of the dataset\n",
        "        # If we have multiple things to return (data point and label), we can return them as tuple\n",
        "        data_point = self.data[idx]\n",
        "        data_label = self.label[idx]\n",
        "        return data_point, data_label"
      ]
    },
    {
      "cell_type": "code",
      "execution_count": 83,
      "metadata": {
        "ExecuteTime": {
          "end_time": "2021-10-15T06:58:37.098767Z",
          "start_time": "2021-10-15T06:58:37.091627Z"
        },
        "colab": {
          "base_uri": "https://localhost:8080/"
        },
        "id": "px8Kef-Mlv6A",
        "outputId": "23cb4773-c5de-426a-866a-d814f72502e8",
        "scrolled": true
      },
      "outputs": [
        {
          "name": "stdout",
          "output_type": "stream",
          "text": [
            "Size of dataset: 200\n",
            "Data point 0: (tensor([0.9957, 0.0045]), tensor(1))\n"
          ]
        }
      ],
      "source": [
        "dataset = XORDataset(size=200)\n",
        "print(\"Size of dataset:\", len(dataset))\n",
        "print(\"Data point 0:\", dataset[0])"
      ]
    },
    {
      "cell_type": "code",
      "execution_count": 84,
      "metadata": {
        "ExecuteTime": {
          "end_time": "2021-10-15T06:58:41.854203Z",
          "start_time": "2021-10-15T06:58:41.734789Z"
        },
        "colab": {
          "base_uri": "https://localhost:8080/",
          "height": 391
        },
        "id": "X7AaIT8vlv6A",
        "outputId": "e880e315-4130-41fd-fa26-e36be5abb219"
      },
      "outputs": [
        {
          "data": {
            "image/png": "[encoded data removed]",
            "text/plain": [
              "<Figure size 400x400 with 1 Axes>"
            ]
          },
          "metadata": {},
          "output_type": "display_data"
        }
      ],
      "source": [
        "examples = dataset.data\n",
        "labels = dataset.label\n",
        "data_0 = examples[labels == 0]\n",
        "data_1 = examples[labels == 1]\n",
        "\n",
        "plt.figure(figsize=(4,4))\n",
        "plt.scatter(data_0[:,0], data_0[:,1], edgecolor=\"#333\", label=\"Class 0\")\n",
        "plt.scatter(data_1[:,0], data_1[:,1], edgecolor=\"#333\", label=\"Class 1\")\n",
        "plt.title(\"Dataset samples\")\n",
        "plt.legend()\n",
        "plt.show()"
      ]
    },
    {
      "cell_type": "markdown",
      "metadata": {
        "id": "_tN_65avlv6A"
      },
      "source": [
        "## Data loaders (Ładowacze danych?!)"
      ]
    },
    {
      "cell_type": "code",
      "execution_count": 85,
      "metadata": {
        "ExecuteTime": {
          "end_time": "2021-10-15T07:02:17.519527Z",
          "start_time": "2021-10-15T07:02:17.514783Z"
        },
        "id": "hfY4RVqolv6A"
      },
      "outputs": [],
      "source": [
        "data_loader = data.DataLoader(dataset, batch_size=8, shuffle=True)"
      ]
    },
    {
      "cell_type": "code",
      "execution_count": 86,
      "metadata": {
        "ExecuteTime": {
          "end_time": "2021-10-15T07:02:33.724184Z",
          "start_time": "2021-10-15T07:02:33.715355Z"
        },
        "colab": {
          "base_uri": "https://localhost:8080/"
        },
        "id": "_AEuOAY_lv6A",
        "outputId": "8539d4a8-7115-4f64-bd6c-d4095aedd104"
      },
      "outputs": [
        {
          "data": {
            "text/plain": [
              "[tensor([[ 9.7303e-01, -4.9531e-04],\n",
              "         [ 1.9016e-01,  1.0542e+00],\n",
              "         [-3.3372e-02, -3.4361e-03],\n",
              "         [ 1.0088e+00, -1.4051e-01],\n",
              "         [ 9.7409e-01,  1.0447e+00],\n",
              "         [ 9.3978e-01,  1.1293e+00],\n",
              "         [ 9.3089e-01,  1.1767e-01],\n",
              "         [-1.1391e-01, -9.4558e-02]]),\n",
              " tensor([1, 1, 0, 1, 0, 0, 1, 0])]"
            ]
          },
          "execution_count": 86,
          "metadata": {},
          "output_type": "execute_result"
        }
      ],
      "source": [
        "next(iter(data_loader))"
      ]
    },
    {
      "cell_type": "code",
      "execution_count": 87,
      "metadata": {
        "ExecuteTime": {
          "end_time": "2021-10-15T07:03:36.174474Z",
          "start_time": "2021-10-15T07:03:36.169066Z"
        },
        "colab": {
          "base_uri": "https://localhost:8080/"
        },
        "id": "hXmVok9Glv6A",
        "outputId": "47c99c52-6011-4b76-dd2c-b4f68bf3a015"
      },
      "outputs": [
        {
          "data": {
            "text/plain": [
              "25"
            ]
          },
          "execution_count": 87,
          "metadata": {},
          "output_type": "execute_result"
        }
      ],
      "source": [
        "len(data_loader)"
      ]
    },
    {
      "cell_type": "code",
      "execution_count": 88,
      "metadata": {
        "ExecuteTime": {
          "end_time": "2021-10-15T07:04:04.285129Z",
          "start_time": "2021-10-15T07:04:04.277946Z"
        },
        "colab": {
          "base_uri": "https://localhost:8080/"
        },
        "id": "YdJuaubXlv6A",
        "outputId": "50662aff-969d-49c9-9a7c-191ba9d61711"
      },
      "outputs": [
        {
          "data": {
            "text/plain": [
              "200"
            ]
          },
          "execution_count": 88,
          "metadata": {},
          "output_type": "execute_result"
        }
      ],
      "source": [
        "next(iter(data_loader))[0].shape[0]*len(data_loader)"
      ]
    },
    {
      "cell_type": "code",
      "execution_count": 89,
      "metadata": {
        "ExecuteTime": {
          "end_time": "2021-10-15T07:04:34.190206Z",
          "start_time": "2021-10-15T07:04:34.182718Z"
        },
        "colab": {
          "base_uri": "https://localhost:8080/"
        },
        "id": "utMsx8Delv6B",
        "outputId": "d4a49740-a26d-4e28-89a5-79a3f3c0d26d"
      },
      "outputs": [
        {
          "data": {
            "text/plain": [
              "203"
            ]
          },
          "execution_count": 89,
          "metadata": {},
          "output_type": "execute_result"
        }
      ],
      "source": [
        "data_loader_2 = data.DataLoader(dataset, batch_size=7, shuffle=True)\n",
        "next(iter(data_loader_2))[0].shape[0]*len(data_loader_2)"
      ]
    },
    {
      "cell_type": "code",
      "execution_count": 90,
      "metadata": {
        "ExecuteTime": {
          "end_time": "2021-10-15T07:04:55.373439Z",
          "start_time": "2021-10-15T07:04:55.362483Z"
        },
        "colab": {
          "base_uri": "https://localhost:8080/"
        },
        "id": "geZZ-23plv6B",
        "outputId": "76e052dc-ef0e-4819-eca0-85df8dbb4208"
      },
      "outputs": [
        {
          "data": {
            "text/plain": [
              "[tensor([[ 0.1334, -0.0675],\n",
              "         [ 0.9741,  1.0447],\n",
              "         [ 0.9529,  1.0358],\n",
              "         [ 1.1003, -0.0612]]),\n",
              " tensor([0, 0, 0, 1])]"
            ]
          },
          "execution_count": 90,
          "metadata": {},
          "output_type": "execute_result"
        }
      ],
      "source": [
        "list(iter(data_loader_2))[-1]"
      ]
    },
    {
      "cell_type": "markdown",
      "metadata": {
        "id": "qnpBGPZblv6B"
      },
      "source": [
        "#### Drop last\n",
        "Parametr powodujący pominięcie ostatniego wsadu (batch)"
      ]
    },
    {
      "cell_type": "code",
      "execution_count": 91,
      "metadata": {
        "ExecuteTime": {
          "end_time": "2021-10-15T07:05:25.707981Z",
          "start_time": "2021-10-15T07:05:25.700236Z"
        },
        "colab": {
          "base_uri": "https://localhost:8080/"
        },
        "id": "_8_qgfRMlv6B",
        "outputId": "620eded0-b6a9-4f2f-d20c-1b0b7622c1de",
        "scrolled": true
      },
      "outputs": [
        {
          "data": {
            "text/plain": [
              "196"
            ]
          },
          "execution_count": 91,
          "metadata": {},
          "output_type": "execute_result"
        }
      ],
      "source": [
        "data_loader_2 = data.DataLoader(dataset,batch_size=7, shuffle=True, drop_last=True)\n",
        "next(iter(data_loader_2))[0].shape[0]*len(data_loader_2)"
      ]
    },
    {
      "cell_type": "markdown",
      "metadata": {
        "id": "1isxlKNqlv6B"
      },
      "source": [
        "## Funkcje straty\n",
        "Na poprzednich zajęciach obliczaliśmy funkcję straty ręcznie wykonując operacje na tensorach. Jest to w pełni poprawne rozwiązanie, ale możemy też nie wymyślać koła na nowo, ale wykorzystać wbudowane moduły. Pełna lista dostępna tutaj: https://pytorch.org/docs/stable/nn.html#loss-functions"
      ]
    },
    {
      "cell_type": "code",
      "execution_count": 92,
      "metadata": {
        "ExecuteTime": {
          "end_time": "2021-10-15T07:23:49.066606Z",
          "start_time": "2021-10-15T07:23:49.057207Z"
        },
        "id": "TLNwuADYlv6B"
      },
      "outputs": [],
      "source": [
        "from mpl_toolkits.mplot3d import Axes3D\n",
        "import matplotlib.pyplot as plt\n",
        "%matplotlib inline"
      ]
    },
    {
      "cell_type": "code",
      "execution_count": 93,
      "metadata": {
        "ExecuteTime": {
          "end_time": "2021-10-15T07:24:03.454133Z",
          "start_time": "2021-10-15T07:24:03.447263Z"
        },
        "colab": {
          "base_uri": "https://localhost:8080/"
        },
        "id": "m4g-uKw1lv6B",
        "outputId": "cd7994d1-f577-4bab-d012-f8042ac6367c"
      },
      "outputs": [
        {
          "name": "stdout",
          "output_type": "stream",
          "text": [
            "tensor([0, 1, 2, 3, 4]) tensor([1., 1., 1., 1., 1.])\n"
          ]
        }
      ],
      "source": [
        "tensor_1 = torch.arange(5)\n",
        "tensor_2 = torch.ones(5)\n",
        "print(tensor_1, tensor_2)"
      ]
    },
    {
      "cell_type": "markdown",
      "metadata": {
        "id": "tHEtMHwDlv6B"
      },
      "source": [
        "### Błąd średniokwadratowy (Mean Squared Error) lub L2Loss"
      ]
    },
    {
      "cell_type": "code",
      "execution_count": 94,
      "metadata": {
        "ExecuteTime": {
          "end_time": "2021-10-15T07:24:22.469112Z",
          "start_time": "2021-10-15T07:24:22.462160Z"
        },
        "colab": {
          "base_uri": "https://localhost:8080/"
        },
        "id": "42IzDQwxlv6C",
        "outputId": "6cd194d0-2bd6-49e8-b394-262fb4996be7"
      },
      "outputs": [
        {
          "data": {
            "text/plain": [
              "tensor(3.)"
            ]
          },
          "execution_count": 94,
          "metadata": {},
          "output_type": "execute_result"
        }
      ],
      "source": [
        "loss = nn.MSELoss()\n",
        "loss(tensor_1,tensor_2)"
      ]
    },
    {
      "cell_type": "markdown",
      "metadata": {
        "id": "Z57hbVxRlv6C"
      },
      "source": [
        "$ \\quad l_{n}=\\left(x_{n}-y_{n}\\right)^{2}$"
      ]
    },
    {
      "cell_type": "code",
      "execution_count": 95,
      "metadata": {
        "ExecuteTime": {
          "end_time": "2021-10-15T07:27:22.476676Z",
          "start_time": "2021-10-15T07:27:22.467395Z"
        },
        "colab": {
          "base_uri": "https://localhost:8080/"
        },
        "id": "uS8yzG2Jlv6C",
        "outputId": "4ef5f6fa-6c29-463b-ab42-c84655f18803"
      },
      "outputs": [
        {
          "name": "stdout",
          "output_type": "stream",
          "text": [
            "No reduction: tensor([1., 0., 1., 4., 9.])\n",
            "Mean: 3.0\n",
            "Sum: 15.0\n"
          ]
        }
      ],
      "source": [
        "loss = nn.MSELoss(reduction=\"none\")\n",
        "print(f\"No reduction: {loss(tensor_1,tensor_2)}\")\n",
        "loss = nn.MSELoss(reduction=\"mean\")\n",
        "print(f\"Mean: {loss(tensor_1,tensor_2)}\")\n",
        "loss = nn.MSELoss(reduction=\"sum\")\n",
        "print(f\"Sum: {loss(tensor_1,tensor_2)}\")"
      ]
    },
    {
      "cell_type": "code",
      "execution_count": 96,
      "metadata": {
        "ExecuteTime": {
          "end_time": "2021-10-15T07:28:00.314781Z",
          "start_time": "2021-10-15T07:28:00.307796Z"
        },
        "colab": {
          "base_uri": "https://localhost:8080/"
        },
        "id": "odcIH9Mzlv6C",
        "outputId": "423f83e7-e044-4ad2-868f-aa82443ef50b",
        "scrolled": true
      },
      "outputs": [
        {
          "data": {
            "text/plain": [
              "tensor(3.)"
            ]
          },
          "execution_count": 96,
          "metadata": {},
          "output_type": "execute_result"
        }
      ],
      "source": [
        "F.mse_loss(tensor_1, tensor_2)"
      ]
    },
    {
      "cell_type": "code",
      "execution_count": 97,
      "metadata": {
        "ExecuteTime": {
          "end_time": "2021-10-15T07:28:06.205007Z",
          "start_time": "2021-10-15T07:28:06.052756Z"
        },
        "colab": {
          "base_uri": "https://localhost:8080/",
          "height": 415
        },
        "id": "tf11vXCLlv6C",
        "outputId": "e27910ab-287b-4739-ab7f-d27dc42e9aae"
      },
      "outputs": [
        {
          "data": {
            "image/png": "[encoded data removed]",
            "text/plain": [
              "<Figure size 640x480 with 1 Axes>"
            ]
          },
          "metadata": {},
          "output_type": "display_data"
        }
      ],
      "source": [
        "loss = nn.MSELoss(reduction=\"none\")\n",
        "x, y = torch.meshgrid(torch.linspace(0,10,100),torch.linspace(0,10,100), indexing='ij')\n",
        "z = loss(x,y)\n",
        "\n",
        "fig = plt.figure()\n",
        "ax = fig.add_subplot(projection = '3d')\n",
        "\n",
        "ax.plot_trisurf(x.numpy().flatten(), y.numpy().flatten(), z.numpy().flatten(), linewidth=0.2, antialiased=True)\n",
        "\n",
        "plt.show()"
      ]
    },
    {
      "cell_type": "markdown",
      "metadata": {
        "id": "5p-I7VhNlv6C"
      },
      "source": [
        "### Błąd bezwzględny (Mean absolute Error) lub L1Loss"
      ]
    },
    {
      "cell_type": "markdown",
      "metadata": {
        "ExecuteTime": {
          "end_time": "2021-10-08T20:04:21.482653Z",
          "start_time": "2021-10-08T20:04:21.475776Z"
        },
        "id": "ps1jLP4Olv6C"
      },
      "source": [
        "$ \\quad l_{n}=\\left|x_{n}-y_{n}\\right|$"
      ]
    },
    {
      "cell_type": "code",
      "execution_count": 98,
      "metadata": {
        "ExecuteTime": {
          "end_time": "2021-10-15T07:30:20.809441Z",
          "start_time": "2021-10-15T07:30:20.798876Z"
        },
        "colab": {
          "base_uri": "https://localhost:8080/"
        },
        "id": "Ssu0N7fylv6D",
        "outputId": "328217bb-eebf-4963-a104-8b8e0183108e"
      },
      "outputs": [
        {
          "name": "stdout",
          "output_type": "stream",
          "text": [
            "tensor([0, 1, 2, 3, 4]) tensor([1., 1., 1., 1., 1.])\n"
          ]
        },
        {
          "data": {
            "text/plain": [
              "tensor(1.4000)"
            ]
          },
          "execution_count": 98,
          "metadata": {},
          "output_type": "execute_result"
        }
      ],
      "source": [
        "print(tensor_1, tensor_2)\n",
        "loss = nn.L1Loss()\n",
        "loss(tensor_1,tensor_2)"
      ]
    },
    {
      "cell_type": "code",
      "execution_count": 99,
      "metadata": {
        "ExecuteTime": {
          "end_time": "2021-10-15T07:30:24.982771Z",
          "start_time": "2021-10-15T07:30:24.974301Z"
        },
        "colab": {
          "base_uri": "https://localhost:8080/"
        },
        "id": "7Thu0jZllv6D",
        "outputId": "f89c11aa-8b88-4f27-9282-e70e2cd14fab"
      },
      "outputs": [
        {
          "name": "stdout",
          "output_type": "stream",
          "text": [
            "No reduction: tensor([1., 0., 1., 2., 3.])\n",
            "Mean: 1.399999976158142\n",
            "Sum: 7.0\n"
          ]
        }
      ],
      "source": [
        "loss = nn.L1Loss(reduction=\"none\")\n",
        "print(f\"No reduction: {loss(tensor_1,tensor_2)}\")\n",
        "loss = nn.L1Loss(reduction=\"mean\")\n",
        "print(f\"Mean: {loss(tensor_1,tensor_2)}\")\n",
        "loss = nn.L1Loss(reduction=\"sum\")\n",
        "print(f\"Sum: {loss(tensor_1,tensor_2)}\")"
      ]
    },
    {
      "cell_type": "code",
      "execution_count": 100,
      "metadata": {
        "ExecuteTime": {
          "end_time": "2021-10-15T07:30:26.863924Z",
          "start_time": "2021-10-15T07:30:26.707699Z"
        },
        "colab": {
          "base_uri": "https://localhost:8080/",
          "height": 415
        },
        "id": "UDwPdiSOlv6D",
        "outputId": "31f34705-6617-4efe-d251-bbf485c36ab3"
      },
      "outputs": [
        {
          "data": {
            "image/png": "[encoded data removed]",
            "text/plain": [
              "<Figure size 640x480 with 1 Axes>"
            ]
          },
          "metadata": {},
          "output_type": "display_data"
        }
      ],
      "source": [
        "loss = nn.L1Loss(reduction=\"none\")\n",
        "x, y = torch.meshgrid(torch.linspace(0,10,100),torch.linspace(0,10,100), indexing='ij')\n",
        "z = loss(x,y)\n",
        "\n",
        "fig = plt.figure()\n",
        "ax = fig.add_subplot(projection = '3d')\n",
        "\n",
        "ax.plot_trisurf(x.numpy().flatten(), y.numpy().flatten(), z.numpy().flatten(), linewidth=0.2, antialiased=True)\n",
        "\n",
        "plt.show()"
      ]
    },
    {
      "cell_type": "markdown",
      "metadata": {
        "id": "S7qTiTOplv6D"
      },
      "source": [
        "### Entropia krzyżowa:\n",
        "$l_{n}=\\left[y_{n} \\cdot \\log x_{n}+\\left(1-y_{n}\\right) \\cdot \\log \\left(1-x_{n}\\right)\\right]$"
      ]
    },
    {
      "cell_type": "code",
      "execution_count": 101,
      "metadata": {
        "ExecuteTime": {
          "end_time": "2021-10-15T07:34:59.743694Z",
          "start_time": "2021-10-15T07:34:59.730893Z"
        },
        "colab": {
          "base_uri": "https://localhost:8080/"
        },
        "id": "bkoKt_EDlv6D",
        "outputId": "75af72d9-ed6d-4ed3-8179-9f1b1bc92807"
      },
      "outputs": [
        {
          "name": "stdout",
          "output_type": "stream",
          "text": [
            "tensor([0.5426, 0.8308, 0.3402, 0.9554, 0.0702]) tensor([1., 1., 1., 1., 1.])\n"
          ]
        },
        {
          "data": {
            "text/plain": [
              "tensor([0.6114, 0.1853, 1.0783, 0.0456, 2.6566])"
            ]
          },
          "execution_count": 101,
          "metadata": {},
          "output_type": "execute_result"
        }
      ],
      "source": [
        "tensor_1 = torch.rand(5)\n",
        "tensor_2 = torch.ones(5)\n",
        "print(tensor_1, tensor_2)\n",
        "loss = nn.BCELoss(reduction=\"none\")\n",
        "loss(tensor_1,tensor_2)"
      ]
    },
    {
      "cell_type": "code",
      "execution_count": 102,
      "metadata": {
        "ExecuteTime": {
          "end_time": "2021-10-15T07:35:03.280234Z",
          "start_time": "2021-10-15T07:35:03.210393Z"
        },
        "colab": {
          "base_uri": "https://localhost:8080/"
        },
        "id": "9ogrufDVlv6D",
        "outputId": "f56be76a-f535-45db-9dfb-2229e236cdae"
      },
      "outputs": [
        {
          "name": "stdout",
          "output_type": "stream",
          "text": [
            "all elements of input should be between 0 and 1\n"
          ]
        }
      ],
      "source": [
        "try :\n",
        "  loss(tensor_1*10,tensor_2)\n",
        "except Exception as e:\n",
        "  print(e)"
      ]
    },
    {
      "cell_type": "code",
      "execution_count": 103,
      "metadata": {
        "ExecuteTime": {
          "end_time": "2021-10-15T07:40:54.408039Z",
          "start_time": "2021-10-15T07:40:54.401288Z"
        },
        "colab": {
          "base_uri": "https://localhost:8080/"
        },
        "id": "R0ck52n9lv6E",
        "outputId": "d71228e7-1e6b-42b7-8ac0-bc0b615d645c"
      },
      "outputs": [
        {
          "data": {
            "text/plain": [
              "tensor([2.7232e-24, 8.2837e-37, 1.6866e-15, 3.2230e-42, 8.9462e-04])"
            ]
          },
          "execution_count": 103,
          "metadata": {},
          "output_type": "execute_result"
        }
      ],
      "source": [
        "loss = nn.BCEWithLogitsLoss(reduction=\"none\")\n",
        "loss(tensor_1*100,tensor_2)"
      ]
    },
    {
      "cell_type": "code",
      "execution_count": 104,
      "metadata": {
        "ExecuteTime": {
          "end_time": "2021-10-15T07:41:06.608957Z",
          "start_time": "2021-10-15T07:41:06.400148Z"
        },
        "colab": {
          "base_uri": "https://localhost:8080/",
          "height": 471
        },
        "id": "lGFEvA4blv6E",
        "outputId": "f23d9e90-4a69-4ebe-aae8-e7e471dcfe15"
      },
      "outputs": [
        {
          "name": "stderr",
          "output_type": "stream",
          "text": [
            "/usr/local/lib/python3.11/dist-packages/torch/functional.py:534: UserWarning: torch.meshgrid: in an upcoming release, it will be required to pass the indexing argument. (Triggered internally at ../aten/src/ATen/native/TensorShape.cpp:3595.)\n",
            "  return _VF.meshgrid(tensors, **kwargs)  # type: ignore[attr-defined]\n"
          ]
        },
        {
          "data": {
            "image/png": "[encoded data removed]",
            "text/plain": [
              "<Figure size 640x480 with 1 Axes>"
            ]
          },
          "metadata": {},
          "output_type": "display_data"
        }
      ],
      "source": [
        "loss = nn.BCEWithLogitsLoss(reduction=\"none\")\n",
        "x, y = torch.meshgrid(torch.linspace(-10,10,100),torch.linspace(-10,10,100))\n",
        "z = loss(x,y)\n",
        "\n",
        "fig = plt.figure()\n",
        "ax = fig.add_subplot(projection = '3d')\n",
        "#ax = fig.gca(projection='3d') - for older matplotlib\n",
        "\n",
        "ax.plot_trisurf(x.numpy().flatten(), y.numpy().flatten(), z.numpy().flatten(), linewidth=0.2, antialiased=True)\n",
        "\n",
        "plt.show()"
      ]
    },
    {
      "cell_type": "markdown",
      "metadata": {
        "id": "6jM3o8Relv6E"
      },
      "source": [
        "# Optymalizacja parametrów\n",
        "W przykładowym problemie optymalizacji parametrów regresji, ręcznie aktualizowaliśmy gradienty. W torch są do tego narzędzia zwane optymalizatorami, znajdują się one w pakiecie torch.optim\n",
        "\n",
        "Najprostszym optymalizaotrem jest algorytm stochastycznego spadku gradientu (Stochastic Gradient Descent) - SGD"
      ]
    },
    {
      "cell_type": "code",
      "execution_count": 105,
      "metadata": {
        "ExecuteTime": {
          "end_time": "2021-10-15T07:43:48.800381Z",
          "start_time": "2021-10-15T07:43:48.794037Z"
        },
        "colab": {
          "base_uri": "https://localhost:8080/"
        },
        "id": "lht7zLl9lv6E",
        "outputId": "4de1b85b-21f7-41c5-b556-6b31595046a8"
      },
      "outputs": [
        {
          "name": "stdout",
          "output_type": "stream",
          "text": [
            "SimpleClassifier(\n",
            "  (linear1): Linear(in_features=2, out_features=4, bias=True)\n",
            "  (act_fn): Tanh()\n",
            "  (linear2): Linear(in_features=4, out_features=1, bias=True)\n",
            ")\n"
          ]
        }
      ],
      "source": [
        "model = SimpleClassifier(num_inputs=2, num_hidden=4, num_outputs=1)\n",
        "print(model)"
      ]
    },
    {
      "cell_type": "code",
      "execution_count": 106,
      "metadata": {
        "ExecuteTime": {
          "end_time": "2021-10-15T07:43:49.078656Z",
          "start_time": "2021-10-15T07:43:49.076336Z"
        },
        "id": "6ZNVQLtilv6E"
      },
      "outputs": [],
      "source": [
        "optimizer = torch.optim.SGD(model.parameters(), lr = 0.1)"
      ]
    },
    {
      "cell_type": "markdown",
      "metadata": {
        "id": "YPkGLjdFlv6E"
      },
      "source": [
        "## Połączmy to wszystko razem"
      ]
    },
    {
      "cell_type": "code",
      "execution_count": 107,
      "metadata": {
        "ExecuteTime": {
          "end_time": "2021-10-15T07:44:18.983845Z",
          "start_time": "2021-10-15T07:44:18.978346Z"
        },
        "id": "LmhNChAplv6E"
      },
      "outputs": [],
      "source": [
        "train_dataset = XORDataset(size=1000)\n",
        "train_data_loader = data.DataLoader(train_dataset, batch_size=128, shuffle=True)"
      ]
    },
    {
      "cell_type": "code",
      "execution_count": 108,
      "metadata": {
        "ExecuteTime": {
          "end_time": "2021-10-15T07:44:36.326493Z",
          "start_time": "2021-10-15T07:44:36.306043Z"
        },
        "colab": {
          "base_uri": "https://localhost:8080/"
        },
        "id": "6_LfUyI6lv6E",
        "outputId": "2ba1d209-0f9a-4785-b677-40e854e5b66e"
      },
      "outputs": [
        {
          "data": {
            "text/plain": [
              "SimpleClassifier(\n",
              "  (linear1): Linear(in_features=2, out_features=4, bias=True)\n",
              "  (act_fn): Tanh()\n",
              "  (linear2): Linear(in_features=4, out_features=1, bias=True)\n",
              ")"
            ]
          },
          "execution_count": 108,
          "metadata": {},
          "output_type": "execute_result"
        }
      ],
      "source": [
        "model = SimpleClassifier(num_inputs=2, num_hidden=4, num_outputs=1)\n",
        "model.to(device)"
      ]
    },
    {
      "cell_type": "code",
      "execution_count": 109,
      "metadata": {
        "ExecuteTime": {
          "end_time": "2021-10-15T07:45:02.741675Z",
          "start_time": "2021-10-15T07:45:02.737243Z"
        },
        "id": "tZlVBA4llv6E"
      },
      "outputs": [],
      "source": [
        "optimizer = torch.optim.SGD(model.parameters(), lr = 0.1)"
      ]
    },
    {
      "cell_type": "code",
      "execution_count": 110,
      "metadata": {
        "ExecuteTime": {
          "end_time": "2021-10-15T07:46:29.841453Z",
          "start_time": "2021-10-15T07:46:29.837141Z"
        },
        "id": "dzTwzjwVlv6F"
      },
      "outputs": [],
      "source": [
        "loss_module = nn.BCEWithLogitsLoss()"
      ]
    },
    {
      "cell_type": "code",
      "execution_count": 111,
      "metadata": {
        "ExecuteTime": {
          "end_time": "2021-10-15T07:50:48.258366Z",
          "start_time": "2021-10-15T07:50:46.369532Z"
        },
        "colab": {
          "base_uri": "https://localhost:8080/"
        },
        "id": "KHnsOGN-lv6F",
        "outputId": "013ff393-9a1f-4e74-b548-50716011495d",
        "scrolled": true
      },
      "outputs": [
        {
          "name": "stdout",
          "output_type": "stream",
          "text": [
            "Epoch: 0, loss: 0.767\n",
            "Epoch: 1, loss: 0.732\n",
            "Epoch: 2, loss: 0.709\n",
            "Epoch: 3, loss: 0.681\n",
            "Epoch: 4, loss: 0.671\n",
            "Epoch: 5, loss: 0.686\n",
            "Epoch: 6, loss: 0.687\n",
            "Epoch: 7, loss: 0.68\n",
            "Epoch: 8, loss: 0.683\n",
            "Epoch: 9, loss: 0.678\n",
            "Epoch: 10, loss: 0.677\n",
            "Epoch: 11, loss: 0.676\n",
            "Epoch: 12, loss: 0.676\n",
            "Epoch: 13, loss: 0.673\n",
            "Epoch: 14, loss: 0.671\n",
            "Epoch: 15, loss: 0.666\n",
            "Epoch: 16, loss: 0.662\n",
            "Epoch: 17, loss: 0.659\n",
            "Epoch: 18, loss: 0.663\n",
            "Epoch: 19, loss: 0.659\n",
            "Epoch: 20, loss: 0.656\n",
            "Epoch: 21, loss: 0.654\n",
            "Epoch: 22, loss: 0.646\n",
            "Epoch: 23, loss: 0.632\n",
            "Epoch: 24, loss: 0.63\n",
            "Epoch: 25, loss: 0.626\n",
            "Epoch: 26, loss: 0.623\n",
            "Epoch: 27, loss: 0.62\n",
            "Epoch: 28, loss: 0.607\n",
            "Epoch: 29, loss: 0.597\n",
            "Epoch: 30, loss: 0.593\n",
            "Epoch: 31, loss: 0.587\n",
            "Epoch: 32, loss: 0.565\n",
            "Epoch: 33, loss: 0.566\n",
            "Epoch: 34, loss: 0.566\n",
            "Epoch: 35, loss: 0.561\n",
            "Epoch: 36, loss: 0.541\n",
            "Epoch: 37, loss: 0.537\n",
            "Epoch: 38, loss: 0.528\n",
            "Epoch: 39, loss: 0.499\n",
            "Epoch: 40, loss: 0.477\n",
            "Epoch: 41, loss: 0.469\n",
            "Epoch: 42, loss: 0.458\n",
            "Epoch: 43, loss: 0.443\n",
            "Epoch: 44, loss: 0.423\n",
            "Epoch: 45, loss: 0.413\n",
            "Epoch: 46, loss: 0.402\n",
            "Epoch: 47, loss: 0.396\n",
            "Epoch: 48, loss: 0.374\n",
            "Epoch: 49, loss: 0.372\n",
            "Epoch: 50, loss: 0.357\n",
            "Epoch: 51, loss: 0.332\n",
            "Epoch: 52, loss: 0.322\n",
            "Epoch: 53, loss: 0.314\n",
            "Epoch: 54, loss: 0.305\n",
            "Epoch: 55, loss: 0.285\n",
            "Epoch: 56, loss: 0.277\n",
            "Epoch: 57, loss: 0.274\n",
            "Epoch: 58, loss: 0.253\n",
            "Epoch: 59, loss: 0.257\n",
            "Epoch: 60, loss: 0.239\n",
            "Epoch: 61, loss: 0.232\n",
            "Epoch: 62, loss: 0.223\n",
            "Epoch: 63, loss: 0.207\n",
            "Epoch: 64, loss: 0.208\n",
            "Epoch: 65, loss: 0.206\n",
            "Epoch: 66, loss: 0.206\n",
            "Epoch: 67, loss: 0.183\n",
            "Epoch: 68, loss: 0.187\n",
            "Epoch: 69, loss: 0.17\n",
            "Epoch: 70, loss: 0.166\n",
            "Epoch: 71, loss: 0.165\n",
            "Epoch: 72, loss: 0.16\n",
            "Epoch: 73, loss: 0.163\n",
            "Epoch: 74, loss: 0.145\n",
            "Epoch: 75, loss: 0.149\n",
            "Epoch: 76, loss: 0.138\n",
            "Epoch: 77, loss: 0.145\n",
            "Epoch: 78, loss: 0.134\n",
            "Epoch: 79, loss: 0.126\n",
            "Epoch: 80, loss: 0.133\n",
            "Epoch: 81, loss: 0.119\n",
            "Epoch: 82, loss: 0.122\n",
            "Epoch: 83, loss: 0.116\n",
            "Epoch: 84, loss: 0.117\n",
            "Epoch: 85, loss: 0.115\n",
            "Epoch: 86, loss: 0.108\n",
            "Epoch: 87, loss: 0.111\n",
            "Epoch: 88, loss: 0.101\n",
            "Epoch: 89, loss: 0.106\n",
            "Epoch: 90, loss: 0.11\n",
            "Epoch: 91, loss: 0.0941\n",
            "Epoch: 92, loss: 0.0953\n",
            "Epoch: 93, loss: 0.092\n",
            "Epoch: 94, loss: 0.0864\n",
            "Epoch: 95, loss: 0.0889\n",
            "Epoch: 96, loss: 0.0843\n",
            "Epoch: 97, loss: 0.0857\n",
            "Epoch: 98, loss: 0.0839\n",
            "Epoch: 99, loss: 0.0841\n"
          ]
        }
      ],
      "source": [
        "model.train()\n",
        "\n",
        "# Training loop\n",
        "for epoch in range(100):\n",
        "    for data_inputs, data_labels in train_data_loader:\n",
        "\n",
        "        ## Step 1: Move input data to device (only strictly necessary if we use GPU)\n",
        "        data_inputs = data_inputs.to(device)\n",
        "        data_labels = data_labels.to(device)\n",
        "\n",
        "        ## Step 2: Run the model on the input data\n",
        "        preds = model(data_inputs)\n",
        "        preds = preds.squeeze(dim=1) # Output is [Batch size, 1], but we want [Batch size]\n",
        "\n",
        "        ## Step 3: Calculate the loss\n",
        "        loss = loss_module(preds, data_labels.float())\n",
        "\n",
        "        ## Step 4: Perform backpropagation\n",
        "        # Before calculating the gradients, we need to ensure that they are all zero.\n",
        "        # The gradients would not be overwritten, but actually added to the existing ones.\n",
        "        optimizer.zero_grad()\n",
        "        # Perform backpropagation\n",
        "        loss.backward()\n",
        "\n",
        "        ## Step 5: Update the parameters\n",
        "        optimizer.step()\n",
        "    print(f\"Epoch: {epoch}, loss: {loss.item():.3}\")"
      ]
    },
    {
      "cell_type": "markdown",
      "metadata": {
        "id": "ypuqDGIIlv6F"
      },
      "source": [
        "### Ewaluacja"
      ]
    },
    {
      "cell_type": "code",
      "execution_count": 112,
      "metadata": {
        "ExecuteTime": {
          "end_time": "2021-10-15T07:51:38.845537Z",
          "start_time": "2021-10-15T07:51:38.840121Z"
        },
        "id": "RwHhfYQqlv6F"
      },
      "outputs": [],
      "source": [
        "test_dataset = XORDataset(size=500)\n",
        "# drop_last -> Don't drop the last batch although it is smaller than 128\n",
        "test_data_loader = data.DataLoader(test_dataset, batch_size=128, shuffle=False, drop_last=False)"
      ]
    },
    {
      "cell_type": "code",
      "execution_count": 113,
      "metadata": {
        "ExecuteTime": {
          "end_time": "2021-10-15T07:53:40.557355Z",
          "start_time": "2021-10-15T07:53:40.525176Z"
        },
        "colab": {
          "base_uri": "https://localhost:8080/"
        },
        "id": "EBgmgPBmlv6F",
        "outputId": "fa6d00ff-e361-4e03-ee39-8c69356c80ef"
      },
      "outputs": [
        {
          "name": "stdout",
          "output_type": "stream",
          "text": [
            "Accuracy of the model: 99.80%\n"
          ]
        }
      ],
      "source": [
        "model.eval() # Set model to eval mode\n",
        "true_preds, num_preds = 0., 0.\n",
        "\n",
        "with torch.no_grad(): # Deactivate gradients for the following code\n",
        "    for data_inputs, data_labels in test_data_loader:\n",
        "\n",
        "        # Determine prediction of model on dev set\n",
        "        data_inputs, data_labels = data_inputs.to(device), data_labels.to(device)\n",
        "        preds = model(data_inputs)\n",
        "        preds = preds.squeeze(dim=1)\n",
        "        preds = torch.sigmoid(preds) # Sigmoid to map predictions between 0 and 1\n",
        "        pred_labels = (preds >= 0.5).long() # Binarize predictions to 0 and 1\n",
        "\n",
        "        # Keep records of predictions for the accuracy metric (true_preds=TP+TN, num_preds=TP+TN+FP+FN)\n",
        "        true_preds += (pred_labels == data_labels).sum()\n",
        "        num_preds += data_labels.shape[0]\n",
        "\n",
        "acc = true_preds / num_preds\n",
        "print(f\"Accuracy of the model: {100.0*acc:4.2f}%\")"
      ]
    },
    {
      "cell_type": "code",
      "execution_count": 114,
      "metadata": {
        "ExecuteTime": {
          "end_time": "2021-10-15T07:54:21.054767Z",
          "start_time": "2021-10-15T07:54:21.050577Z"
        },
        "id": "jEIgkaGrlv6G"
      },
      "outputs": [],
      "source": [
        "from matplotlib.colors import to_rgba"
      ]
    },
    {
      "cell_type": "code",
      "execution_count": 115,
      "metadata": {
        "ExecuteTime": {
          "end_time": "2021-10-15T07:54:23.136789Z",
          "start_time": "2021-10-15T07:54:23.089427Z"
        },
        "colab": {
          "base_uri": "https://localhost:8080/",
          "height": 411
        },
        "id": "brCNfMA3lv6G",
        "outputId": "5d84cf7c-b741-47ec-a32d-2438413c1ef2"
      },
      "outputs": [
        {
          "data": {
            "image/png": "[encoded data removed]",
            "text/plain": [
              "<Figure size 400x400 with 1 Axes>"
            ]
          },
          "metadata": {},
          "output_type": "display_data"
        }
      ],
      "source": [
        "%matplotlib inline\n",
        "with torch.no_grad():\n",
        "    data = test_dataset.data.cpu().numpy()\n",
        "    label = test_dataset.label.cpu().numpy()\n",
        "    data_0 = data[label == 0]\n",
        "    data_1 = data[label == 1]\n",
        "\n",
        "    plt.figure(figsize=(4,4))\n",
        "    plt.scatter(data_0[:,0], data_0[:,1], edgecolor=\"#333\", label=\"Class 0\")\n",
        "    plt.scatter(data_1[:,0], data_1[:,1], edgecolor=\"#333\", label=\"Class 1\")\n",
        "    plt.title(\"Dataset samples\")\n",
        "    plt.ylabel(r\"$x_2$\")\n",
        "    plt.xlabel(r\"$x_1$\")\n",
        "    plt.legend()\n",
        "\n",
        "    # Let's make use of a lot of operations we have learned above\n",
        "    model.to(device)\n",
        "    c0 = torch.Tensor(to_rgba(\"C0\")).to(device)\n",
        "    c1 = torch.Tensor(to_rgba(\"C1\")).to(device)\n",
        "    x1 = torch.arange(-0.5, 1.5, step=0.01, device=device)\n",
        "    x2 = torch.arange(-0.5, 1.5, step=0.01, device=device)\n",
        "    xx1, xx2 = torch.meshgrid(x1, x2) # Meshgrid function as in numpy\n",
        "    model_inputs = torch.stack([xx1, xx2], dim=-1)\n",
        "    preds = model(model_inputs)\n",
        "    preds = torch.sigmoid(preds)\n",
        "    output_image = preds * c0[None,None] + (1 - preds) * c1[None,None] # Specifying \"None\" in a dimension creates a new one\n",
        "    output_image = output_image.cpu().numpy() # Convert to numpy array. This only works for tensors on CPU, hence first push to CPU\n",
        "    plt.imshow(output_image, origin='upper', extent=(-0.5, 1.5, -0.5, 1.5))\n",
        "    plt.grid(False)"
      ]
    },
    {
      "cell_type": "markdown",
      "metadata": {
        "id": "t-x_1XrTlv6G"
      },
      "source": [
        "## Zapisywanie i wczytywanie modelu"
      ]
    },
    {
      "cell_type": "code",
      "execution_count": 116,
      "metadata": {
        "ExecuteTime": {
          "end_time": "2021-10-15T07:58:49.846379Z",
          "start_time": "2021-10-15T07:58:49.834095Z"
        },
        "colab": {
          "base_uri": "https://localhost:8080/"
        },
        "id": "1KCqQ2xwlv6G",
        "outputId": "98637e13-53d8-4996-8236-1bbfbc5cd608"
      },
      "outputs": [
        {
          "name": "stdout",
          "output_type": "stream",
          "text": [
            "OrderedDict([('linear1.weight', tensor([[ 2.0937, -2.5180],\n",
            "        [ 2.7403, -2.3386],\n",
            "        [ 1.2440,  1.1351],\n",
            "        [-0.5659, -0.0158]], device='cuda:0')), ('linear1.bias', tensor([-0.9701,  1.1750,  0.2394, -0.3408], device='cuda:0')), ('linear2.weight', tensor([[ 3.1159, -3.2822,  1.8740, -0.4111]], device='cuda:0')), ('linear2.bias', tensor([1.2004], device='cuda:0'))])\n"
          ]
        }
      ],
      "source": [
        "state_dict = model.state_dict()\n",
        "print(state_dict)"
      ]
    },
    {
      "cell_type": "code",
      "execution_count": 117,
      "metadata": {
        "ExecuteTime": {
          "end_time": "2021-10-15T07:58:50.958873Z",
          "start_time": "2021-10-15T07:58:50.953220Z"
        },
        "id": "JWOK6KJMlv6H"
      },
      "outputs": [],
      "source": [
        "torch.save(state_dict, \"simple_model.tar\")"
      ]
    },
    {
      "cell_type": "code",
      "execution_count": 118,
      "metadata": {
        "ExecuteTime": {
          "end_time": "2021-10-15T07:59:05.568057Z",
          "start_time": "2021-10-15T07:59:05.547564Z"
        },
        "colab": {
          "base_uri": "https://localhost:8080/"
        },
        "id": "jB7b2d1mlv6H",
        "outputId": "71ac7968-e181-41da-9343-6de73844b35d"
      },
      "outputs": [
        {
          "name": "stdout",
          "output_type": "stream",
          "text": [
            "Original model\n",
            " OrderedDict([('linear1.weight', tensor([[ 2.0937, -2.5180],\n",
            "        [ 2.7403, -2.3386],\n",
            "        [ 1.2440,  1.1351],\n",
            "        [-0.5659, -0.0158]], device='cuda:0')), ('linear1.bias', tensor([-0.9701,  1.1750,  0.2394, -0.3408], device='cuda:0')), ('linear2.weight', tensor([[ 3.1159, -3.2822,  1.8740, -0.4111]], device='cuda:0')), ('linear2.bias', tensor([1.2004], device='cuda:0'))])\n",
            "\n",
            "Loaded model\n",
            " OrderedDict([('linear1.weight', tensor([[ 2.0937, -2.5180],\n",
            "        [ 2.7403, -2.3386],\n",
            "        [ 1.2440,  1.1351],\n",
            "        [-0.5659, -0.0158]], device='cuda:0')), ('linear1.bias', tensor([-0.9701,  1.1750,  0.2394, -0.3408], device='cuda:0')), ('linear2.weight', tensor([[ 3.1159, -3.2822,  1.8740, -0.4111]], device='cuda:0')), ('linear2.bias', tensor([1.2004], device='cuda:0'))])\n"
          ]
        },
        {
          "name": "stderr",
          "output_type": "stream",
          "text": [
            "<ipython-input-118-df3df87118e4>:2: FutureWarning: You are using `torch.load` with `weights_only=False` (the current default value), which uses the default pickle module implicitly. It is possible to construct malicious pickle data which will execute arbitrary code during unpickling (See https://github.com/pytorch/pytorch/blob/main/SECURITY.md#untrusted-models for more details). In a future release, the default value for `weights_only` will be flipped to `True`. This limits the functions that could be executed during unpickling. Arbitrary objects will no longer be allowed to be loaded via this mode unless they are explicitly allowlisted by the user via `torch.serialization.add_safe_globals`. We recommend you start setting `weights_only=True` for any use case where you don't have full control of the loaded file. Please open an issue on GitHub for any issues related to this experimental feature.\n",
            "  state_dict = torch.load(\"simple_model.tar\")\n"
          ]
        }
      ],
      "source": [
        "# Load state dict from the disk (make sure it is the same name as above)\n",
        "state_dict = torch.load(\"simple_model.tar\")\n",
        "\n",
        "# Create a new model and load the state\n",
        "new_model = SimpleClassifier(num_inputs=2, num_hidden=4, num_outputs=1).to(device)\n",
        "new_model.load_state_dict(state_dict)\n",
        "# Verify that the parameters are the same\n",
        "print(\"Original model\\n\", model.state_dict())\n",
        "print(\"\\nLoaded model\\n\", new_model.state_dict())"
      ]
    },
    {
      "cell_type": "markdown",
      "metadata": {
        "id": "m4I5yBSOlv6H"
      },
      "source": [
        "## Zrób to sam. Polecane przećwiczyć przed kolejnymi ćwiczeniami.\n",
        "\n",
        "Spróbujmy przewidzieć ocenę wina na podstawie jego parametrów"
      ]
    },
    {
      "cell_type": "code",
      "execution_count": 172,
      "metadata": {
        "ExecuteTime": {
          "end_time": "2021-10-11T15:54:03.496453Z",
          "start_time": "2021-10-11T15:53:59.598809Z"
        },
        "id": "KgZGw7Kylv6H"
      },
      "outputs": [],
      "source": [
        "# Powielenie importow w celu uruchomienia tylko tych komórek\n",
        "import pandas as pd\n",
        "import torch\n",
        "from torch import nn\n",
        "import numpy as np\n",
        "\n",
        "df = pd.read_csv('https://archive.ics.uci.edu/ml/machine-learning-databases/wine-quality/winequality-white.csv', delimiter=\";\")"
      ]
    },
    {
      "cell_type": "markdown",
      "metadata": {
        "id": "0Qm5z2dFlv6H"
      },
      "source": [
        "#### Wyświetlenie dataframe'u"
      ]
    },
    {
      "cell_type": "code",
      "execution_count": 173,
      "metadata": {
        "ExecuteTime": {
          "end_time": "2021-10-09T07:01:02.263945Z",
          "start_time": "2021-10-09T07:01:02.252840Z"
        },
        "id": "zj1EChLqlv6I"
      },
      "outputs": [],
      "source": [
        "train=df.sample(frac=0.8,random_state=200) #random state is a seed value\n",
        "test=df.drop(train.index)"
      ]
    },
    {
      "cell_type": "code",
      "execution_count": 174,
      "metadata": {
        "colab": {
          "base_uri": "https://localhost:8080/",
          "height": 363
        },
        "id": "8JmvchOOOHnj",
        "outputId": "1fdc01a9-8ff4-4b78-e00a-a9dc32ff382c"
      },
      "outputs": [
        {
          "data": {
            "text/html": [
              "<div>\n",
              "<style scoped>\n",
              "    .dataframe tbody tr th:only-of-type {\n",
              "        vertical-align: middle;\n",
              "    }\n",
              "\n",
              "    .dataframe tbody tr th {\n",
              "        vertical-align: top;\n",
              "    }\n",
              "\n",
              "    .dataframe thead th {\n",
              "        text-align: right;\n",
              "    }\n",
              "</style>\n",
              "<table border=\"1\" class=\"dataframe\">\n",
              "  <thead>\n",
              "    <tr style=\"text-align: right;\">\n",
              "      <th></th>\n",
              "      <th>fixed acidity</th>\n",
              "      <th>volatile acidity</th>\n",
              "      <th>citric acid</th>\n",
              "      <th>residual sugar</th>\n",
              "      <th>chlorides</th>\n",
              "      <th>free sulfur dioxide</th>\n",
              "      <th>total sulfur dioxide</th>\n",
              "      <th>density</th>\n",
              "      <th>pH</th>\n",
              "      <th>sulphates</th>\n",
              "      <th>alcohol</th>\n",
              "      <th>quality</th>\n",
              "    </tr>\n",
              "  </thead>\n",
              "  <tbody>\n",
              "    <tr>\n",
              "      <th>3699</th>\n",
              "      <td>7.6</td>\n",
              "      <td>0.30</td>\n",
              "      <td>0.37</td>\n",
              "      <td>1.60</td>\n",
              "      <td>0.087</td>\n",
              "      <td>27.0</td>\n",
              "      <td>177.0</td>\n",
              "      <td>0.99438</td>\n",
              "      <td>3.09</td>\n",
              "      <td>0.50</td>\n",
              "      <td>9.8</td>\n",
              "      <td>5</td>\n",
              "    </tr>\n",
              "    <tr>\n",
              "      <th>1261</th>\n",
              "      <td>7.3</td>\n",
              "      <td>0.19</td>\n",
              "      <td>0.68</td>\n",
              "      <td>1.50</td>\n",
              "      <td>0.050</td>\n",
              "      <td>31.0</td>\n",
              "      <td>156.0</td>\n",
              "      <td>0.99460</td>\n",
              "      <td>3.32</td>\n",
              "      <td>0.64</td>\n",
              "      <td>9.4</td>\n",
              "      <td>6</td>\n",
              "    </tr>\n",
              "    <tr>\n",
              "      <th>3483</th>\n",
              "      <td>6.1</td>\n",
              "      <td>0.36</td>\n",
              "      <td>0.26</td>\n",
              "      <td>8.15</td>\n",
              "      <td>0.035</td>\n",
              "      <td>14.0</td>\n",
              "      <td>88.0</td>\n",
              "      <td>0.99031</td>\n",
              "      <td>3.06</td>\n",
              "      <td>0.27</td>\n",
              "      <td>13.0</td>\n",
              "      <td>7</td>\n",
              "    </tr>\n",
              "    <tr>\n",
              "      <th>1335</th>\n",
              "      <td>5.7</td>\n",
              "      <td>0.21</td>\n",
              "      <td>0.24</td>\n",
              "      <td>2.30</td>\n",
              "      <td>0.047</td>\n",
              "      <td>60.0</td>\n",
              "      <td>189.0</td>\n",
              "      <td>0.99500</td>\n",
              "      <td>3.65</td>\n",
              "      <td>0.72</td>\n",
              "      <td>10.1</td>\n",
              "      <td>6</td>\n",
              "    </tr>\n",
              "    <tr>\n",
              "      <th>88</th>\n",
              "      <td>7.1</td>\n",
              "      <td>0.43</td>\n",
              "      <td>0.61</td>\n",
              "      <td>11.80</td>\n",
              "      <td>0.045</td>\n",
              "      <td>54.0</td>\n",
              "      <td>155.0</td>\n",
              "      <td>0.99740</td>\n",
              "      <td>3.11</td>\n",
              "      <td>0.45</td>\n",
              "      <td>8.7</td>\n",
              "      <td>5</td>\n",
              "    </tr>\n",
              "    <tr>\n",
              "      <th>1425</th>\n",
              "      <td>6.8</td>\n",
              "      <td>0.22</td>\n",
              "      <td>0.49</td>\n",
              "      <td>0.90</td>\n",
              "      <td>0.052</td>\n",
              "      <td>26.0</td>\n",
              "      <td>128.0</td>\n",
              "      <td>0.99100</td>\n",
              "      <td>3.25</td>\n",
              "      <td>0.35</td>\n",
              "      <td>11.4</td>\n",
              "      <td>6</td>\n",
              "    </tr>\n",
              "    <tr>\n",
              "      <th>2136</th>\n",
              "      <td>7.9</td>\n",
              "      <td>0.18</td>\n",
              "      <td>0.36</td>\n",
              "      <td>5.90</td>\n",
              "      <td>0.058</td>\n",
              "      <td>31.0</td>\n",
              "      <td>132.0</td>\n",
              "      <td>0.99500</td>\n",
              "      <td>3.25</td>\n",
              "      <td>0.52</td>\n",
              "      <td>10.9</td>\n",
              "      <td>6</td>\n",
              "    </tr>\n",
              "    <tr>\n",
              "      <th>2846</th>\n",
              "      <td>6.9</td>\n",
              "      <td>0.15</td>\n",
              "      <td>0.29</td>\n",
              "      <td>2.30</td>\n",
              "      <td>0.033</td>\n",
              "      <td>14.0</td>\n",
              "      <td>82.0</td>\n",
              "      <td>0.99132</td>\n",
              "      <td>3.10</td>\n",
              "      <td>0.58</td>\n",
              "      <td>11.2</td>\n",
              "      <td>7</td>\n",
              "    </tr>\n",
              "    <tr>\n",
              "      <th>1269</th>\n",
              "      <td>8.4</td>\n",
              "      <td>0.35</td>\n",
              "      <td>0.56</td>\n",
              "      <td>13.80</td>\n",
              "      <td>0.048</td>\n",
              "      <td>55.0</td>\n",
              "      <td>190.0</td>\n",
              "      <td>0.99930</td>\n",
              "      <td>3.07</td>\n",
              "      <td>0.58</td>\n",
              "      <td>9.4</td>\n",
              "      <td>6</td>\n",
              "    </tr>\n",
              "    <tr>\n",
              "      <th>3709</th>\n",
              "      <td>6.7</td>\n",
              "      <td>0.31</td>\n",
              "      <td>0.09</td>\n",
              "      <td>1.40</td>\n",
              "      <td>0.039</td>\n",
              "      <td>53.0</td>\n",
              "      <td>141.0</td>\n",
              "      <td>0.99206</td>\n",
              "      <td>3.12</td>\n",
              "      <td>0.44</td>\n",
              "      <td>10.1</td>\n",
              "      <td>5</td>\n",
              "    </tr>\n",
              "  </tbody>\n",
              "</table>\n",
              "</div>"
            ],
            "text/plain": [
              "      fixed acidity  volatile acidity  citric acid  residual sugar  chlorides  \\\n",
              "3699            7.6              0.30         0.37            1.60      0.087   \n",
              "1261            7.3              0.19         0.68            1.50      0.050   \n",
              "3483            6.1              0.36         0.26            8.15      0.035   \n",
              "1335            5.7              0.21         0.24            2.30      0.047   \n",
              "88              7.1              0.43         0.61           11.80      0.045   \n",
              "1425            6.8              0.22         0.49            0.90      0.052   \n",
              "2136            7.9              0.18         0.36            5.90      0.058   \n",
              "2846            6.9              0.15         0.29            2.30      0.033   \n",
              "1269            8.4              0.35         0.56           13.80      0.048   \n",
              "3709            6.7              0.31         0.09            1.40      0.039   \n",
              "\n",
              "      free sulfur dioxide  total sulfur dioxide  density    pH  sulphates  \\\n",
              "3699                 27.0                 177.0  0.99438  3.09       0.50   \n",
              "1261                 31.0                 156.0  0.99460  3.32       0.64   \n",
              "3483                 14.0                  88.0  0.99031  3.06       0.27   \n",
              "1335                 60.0                 189.0  0.99500  3.65       0.72   \n",
              "88                   54.0                 155.0  0.99740  3.11       0.45   \n",
              "1425                 26.0                 128.0  0.99100  3.25       0.35   \n",
              "2136                 31.0                 132.0  0.99500  3.25       0.52   \n",
              "2846                 14.0                  82.0  0.99132  3.10       0.58   \n",
              "1269                 55.0                 190.0  0.99930  3.07       0.58   \n",
              "3709                 53.0                 141.0  0.99206  3.12       0.44   \n",
              "\n",
              "      alcohol  quality  \n",
              "3699      9.8        5  \n",
              "1261      9.4        6  \n",
              "3483     13.0        7  \n",
              "1335     10.1        6  \n",
              "88        8.7        5  \n",
              "1425     11.4        6  \n",
              "2136     10.9        6  \n",
              "2846     11.2        7  \n",
              "1269      9.4        6  \n",
              "3709     10.1        5  "
            ]
          },
          "execution_count": 174,
          "metadata": {},
          "output_type": "execute_result"
        }
      ],
      "source": [
        "train.head(10)"
      ]
    },
    {
      "cell_type": "code",
      "execution_count": 175,
      "metadata": {
        "colab": {
          "base_uri": "https://localhost:8080/",
          "height": 363
        },
        "id": "fthy-x7YOLO1",
        "outputId": "f90c5a11-0fc4-489e-a0b3-4e27e4345770"
      },
      "outputs": [
        {
          "data": {
            "text/html": [
              "<div>\n",
              "<style scoped>\n",
              "    .dataframe tbody tr th:only-of-type {\n",
              "        vertical-align: middle;\n",
              "    }\n",
              "\n",
              "    .dataframe tbody tr th {\n",
              "        vertical-align: top;\n",
              "    }\n",
              "\n",
              "    .dataframe thead th {\n",
              "        text-align: right;\n",
              "    }\n",
              "</style>\n",
              "<table border=\"1\" class=\"dataframe\">\n",
              "  <thead>\n",
              "    <tr style=\"text-align: right;\">\n",
              "      <th></th>\n",
              "      <th>fixed acidity</th>\n",
              "      <th>volatile acidity</th>\n",
              "      <th>citric acid</th>\n",
              "      <th>residual sugar</th>\n",
              "      <th>chlorides</th>\n",
              "      <th>free sulfur dioxide</th>\n",
              "      <th>total sulfur dioxide</th>\n",
              "      <th>density</th>\n",
              "      <th>pH</th>\n",
              "      <th>sulphates</th>\n",
              "      <th>alcohol</th>\n",
              "      <th>quality</th>\n",
              "    </tr>\n",
              "  </thead>\n",
              "  <tbody>\n",
              "    <tr>\n",
              "      <th>2</th>\n",
              "      <td>8.1</td>\n",
              "      <td>0.28</td>\n",
              "      <td>0.40</td>\n",
              "      <td>6.90</td>\n",
              "      <td>0.050</td>\n",
              "      <td>30.0</td>\n",
              "      <td>97.0</td>\n",
              "      <td>0.9951</td>\n",
              "      <td>3.26</td>\n",
              "      <td>0.44</td>\n",
              "      <td>10.1</td>\n",
              "      <td>6</td>\n",
              "    </tr>\n",
              "    <tr>\n",
              "      <th>17</th>\n",
              "      <td>6.2</td>\n",
              "      <td>0.66</td>\n",
              "      <td>0.48</td>\n",
              "      <td>1.20</td>\n",
              "      <td>0.029</td>\n",
              "      <td>29.0</td>\n",
              "      <td>75.0</td>\n",
              "      <td>0.9892</td>\n",
              "      <td>3.33</td>\n",
              "      <td>0.39</td>\n",
              "      <td>12.8</td>\n",
              "      <td>8</td>\n",
              "    </tr>\n",
              "    <tr>\n",
              "      <th>18</th>\n",
              "      <td>7.4</td>\n",
              "      <td>0.34</td>\n",
              "      <td>0.42</td>\n",
              "      <td>1.10</td>\n",
              "      <td>0.033</td>\n",
              "      <td>17.0</td>\n",
              "      <td>171.0</td>\n",
              "      <td>0.9917</td>\n",
              "      <td>3.12</td>\n",
              "      <td>0.53</td>\n",
              "      <td>11.3</td>\n",
              "      <td>6</td>\n",
              "    </tr>\n",
              "    <tr>\n",
              "      <th>19</th>\n",
              "      <td>6.5</td>\n",
              "      <td>0.31</td>\n",
              "      <td>0.14</td>\n",
              "      <td>7.50</td>\n",
              "      <td>0.044</td>\n",
              "      <td>34.0</td>\n",
              "      <td>133.0</td>\n",
              "      <td>0.9955</td>\n",
              "      <td>3.22</td>\n",
              "      <td>0.50</td>\n",
              "      <td>9.5</td>\n",
              "      <td>5</td>\n",
              "    </tr>\n",
              "    <tr>\n",
              "      <th>37</th>\n",
              "      <td>7.0</td>\n",
              "      <td>0.33</td>\n",
              "      <td>0.32</td>\n",
              "      <td>1.20</td>\n",
              "      <td>0.053</td>\n",
              "      <td>38.0</td>\n",
              "      <td>138.0</td>\n",
              "      <td>0.9906</td>\n",
              "      <td>3.13</td>\n",
              "      <td>0.28</td>\n",
              "      <td>11.2</td>\n",
              "      <td>6</td>\n",
              "    </tr>\n",
              "    <tr>\n",
              "      <th>39</th>\n",
              "      <td>7.3</td>\n",
              "      <td>0.24</td>\n",
              "      <td>0.39</td>\n",
              "      <td>17.95</td>\n",
              "      <td>0.057</td>\n",
              "      <td>45.0</td>\n",
              "      <td>149.0</td>\n",
              "      <td>0.9999</td>\n",
              "      <td>3.21</td>\n",
              "      <td>0.36</td>\n",
              "      <td>8.6</td>\n",
              "      <td>5</td>\n",
              "    </tr>\n",
              "    <tr>\n",
              "      <th>40</th>\n",
              "      <td>6.7</td>\n",
              "      <td>0.23</td>\n",
              "      <td>0.39</td>\n",
              "      <td>2.50</td>\n",
              "      <td>0.172</td>\n",
              "      <td>63.0</td>\n",
              "      <td>158.0</td>\n",
              "      <td>0.9937</td>\n",
              "      <td>3.11</td>\n",
              "      <td>0.36</td>\n",
              "      <td>9.4</td>\n",
              "      <td>6</td>\n",
              "    </tr>\n",
              "    <tr>\n",
              "      <th>48</th>\n",
              "      <td>7.0</td>\n",
              "      <td>0.31</td>\n",
              "      <td>0.26</td>\n",
              "      <td>7.40</td>\n",
              "      <td>0.069</td>\n",
              "      <td>28.0</td>\n",
              "      <td>160.0</td>\n",
              "      <td>0.9954</td>\n",
              "      <td>3.13</td>\n",
              "      <td>0.46</td>\n",
              "      <td>9.8</td>\n",
              "      <td>6</td>\n",
              "    </tr>\n",
              "    <tr>\n",
              "      <th>57</th>\n",
              "      <td>6.0</td>\n",
              "      <td>0.19</td>\n",
              "      <td>0.26</td>\n",
              "      <td>12.40</td>\n",
              "      <td>0.048</td>\n",
              "      <td>50.0</td>\n",
              "      <td>147.0</td>\n",
              "      <td>0.9972</td>\n",
              "      <td>3.30</td>\n",
              "      <td>0.36</td>\n",
              "      <td>8.9</td>\n",
              "      <td>6</td>\n",
              "    </tr>\n",
              "    <tr>\n",
              "      <th>63</th>\n",
              "      <td>6.6</td>\n",
              "      <td>0.38</td>\n",
              "      <td>0.15</td>\n",
              "      <td>4.60</td>\n",
              "      <td>0.044</td>\n",
              "      <td>25.0</td>\n",
              "      <td>78.0</td>\n",
              "      <td>0.9931</td>\n",
              "      <td>3.11</td>\n",
              "      <td>0.38</td>\n",
              "      <td>10.2</td>\n",
              "      <td>6</td>\n",
              "    </tr>\n",
              "  </tbody>\n",
              "</table>\n",
              "</div>"
            ],
            "text/plain": [
              "    fixed acidity  volatile acidity  citric acid  residual sugar  chlorides  \\\n",
              "2             8.1              0.28         0.40            6.90      0.050   \n",
              "17            6.2              0.66         0.48            1.20      0.029   \n",
              "18            7.4              0.34         0.42            1.10      0.033   \n",
              "19            6.5              0.31         0.14            7.50      0.044   \n",
              "37            7.0              0.33         0.32            1.20      0.053   \n",
              "39            7.3              0.24         0.39           17.95      0.057   \n",
              "40            6.7              0.23         0.39            2.50      0.172   \n",
              "48            7.0              0.31         0.26            7.40      0.069   \n",
              "57            6.0              0.19         0.26           12.40      0.048   \n",
              "63            6.6              0.38         0.15            4.60      0.044   \n",
              "\n",
              "    free sulfur dioxide  total sulfur dioxide  density    pH  sulphates  \\\n",
              "2                  30.0                  97.0   0.9951  3.26       0.44   \n",
              "17                 29.0                  75.0   0.9892  3.33       0.39   \n",
              "18                 17.0                 171.0   0.9917  3.12       0.53   \n",
              "19                 34.0                 133.0   0.9955  3.22       0.50   \n",
              "37                 38.0                 138.0   0.9906  3.13       0.28   \n",
              "39                 45.0                 149.0   0.9999  3.21       0.36   \n",
              "40                 63.0                 158.0   0.9937  3.11       0.36   \n",
              "48                 28.0                 160.0   0.9954  3.13       0.46   \n",
              "57                 50.0                 147.0   0.9972  3.30       0.36   \n",
              "63                 25.0                  78.0   0.9931  3.11       0.38   \n",
              "\n",
              "    alcohol  quality  \n",
              "2      10.1        6  \n",
              "17     12.8        8  \n",
              "18     11.3        6  \n",
              "19      9.5        5  \n",
              "37     11.2        6  \n",
              "39      8.6        5  \n",
              "40      9.4        6  \n",
              "48      9.8        6  \n",
              "57      8.9        6  \n",
              "63     10.2        6  "
            ]
          },
          "execution_count": 175,
          "metadata": {},
          "output_type": "execute_result"
        }
      ],
      "source": [
        "test.head(10)"
      ]
    },
    {
      "cell_type": "markdown",
      "metadata": {},
      "source": [
        "### Normalizacja danych z datafram'u "
      ]
    },
    {
      "cell_type": "code",
      "execution_count": 5,
      "metadata": {},
      "outputs": [],
      "source": [
        "from sklearn.preprocessing import StandardScaler"
      ]
    },
    {
      "cell_type": "code",
      "execution_count": 176,
      "metadata": {},
      "outputs": [],
      "source": [
        "scaler = StandardScaler()\n",
        "qualities = train['quality'].values.reshape(-1, 1)\n",
        "columns = train.columns[:-1]\n",
        "\n",
        "train_copy = train.drop(columns=['quality'])\n",
        "test_copy = test.drop(columns=['quality'])\n",
        "\n",
        "train_scaled = scaler.fit_transform(train_copy)\n",
        "train_scaled = np.concatenate((train_scaled, qualities), axis=1)\n",
        "test_scaled = scaler.transform(test_copy)\n",
        "test_scaled = np.concatenate((test_scaled, test['quality'].values.reshape(-1, 1)), axis=1)\n",
        "\n",
        "col_qual = list(columns) + ['quality']\n",
        "train_scaled = pd.DataFrame(train_scaled, columns=col_qual)\n",
        "train_scaled[\"quality\"] -= 3 # normalizacja etykiet\n",
        "test_scaled = pd.DataFrame(test_scaled, columns=col_qual)\n",
        "test_scaled[\"quality\"] -= 3\n"
      ]
    },
    {
      "cell_type": "code",
      "execution_count": 57,
      "metadata": {},
      "outputs": [
        {
          "data": {
            "text/html": [
              "<div>\n",
              "<style scoped>\n",
              "    .dataframe tbody tr th:only-of-type {\n",
              "        vertical-align: middle;\n",
              "    }\n",
              "\n",
              "    .dataframe tbody tr th {\n",
              "        vertical-align: top;\n",
              "    }\n",
              "\n",
              "    .dataframe thead th {\n",
              "        text-align: right;\n",
              "    }\n",
              "</style>\n",
              "<table border=\"1\" class=\"dataframe\">\n",
              "  <thead>\n",
              "    <tr style=\"text-align: right;\">\n",
              "      <th></th>\n",
              "      <th>fixed acidity</th>\n",
              "      <th>volatile acidity</th>\n",
              "      <th>citric acid</th>\n",
              "      <th>residual sugar</th>\n",
              "      <th>chlorides</th>\n",
              "      <th>free sulfur dioxide</th>\n",
              "      <th>total sulfur dioxide</th>\n",
              "      <th>density</th>\n",
              "      <th>pH</th>\n",
              "      <th>sulphates</th>\n",
              "      <th>alcohol</th>\n",
              "      <th>quality</th>\n",
              "    </tr>\n",
              "  </thead>\n",
              "  <tbody>\n",
              "    <tr>\n",
              "      <th>0</th>\n",
              "      <td>0.886885</td>\n",
              "      <td>0.214642</td>\n",
              "      <td>0.303645</td>\n",
              "      <td>-0.940786</td>\n",
              "      <td>1.891277</td>\n",
              "      <td>-0.503780</td>\n",
              "      <td>0.925948</td>\n",
              "      <td>0.123742</td>\n",
              "      <td>-0.658929</td>\n",
              "      <td>0.096750</td>\n",
              "      <td>-0.583947</td>\n",
              "      <td>2.0</td>\n",
              "    </tr>\n",
              "    <tr>\n",
              "      <th>1</th>\n",
              "      <td>0.530677</td>\n",
              "      <td>-0.870094</td>\n",
              "      <td>2.863700</td>\n",
              "      <td>-0.960485</td>\n",
              "      <td>0.194003</td>\n",
              "      <td>-0.259077</td>\n",
              "      <td>0.425825</td>\n",
              "      <td>0.196796</td>\n",
              "      <td>0.879021</td>\n",
              "      <td>1.337264</td>\n",
              "      <td>-0.907008</td>\n",
              "      <td>3.0</td>\n",
              "    </tr>\n",
              "    <tr>\n",
              "      <th>2</th>\n",
              "      <td>-0.894159</td>\n",
              "      <td>0.806316</td>\n",
              "      <td>-0.604761</td>\n",
              "      <td>0.349465</td>\n",
              "      <td>-0.494081</td>\n",
              "      <td>-1.299068</td>\n",
              "      <td>-1.193618</td>\n",
              "      <td>-1.227762</td>\n",
              "      <td>-0.859531</td>\n",
              "      <td>-1.941238</td>\n",
              "      <td>2.000544</td>\n",
              "      <td>4.0</td>\n",
              "    </tr>\n",
              "    <tr>\n",
              "      <th>3</th>\n",
              "      <td>-1.369104</td>\n",
              "      <td>-0.672869</td>\n",
              "      <td>-0.769926</td>\n",
              "      <td>-0.802897</td>\n",
              "      <td>0.056386</td>\n",
              "      <td>1.515026</td>\n",
              "      <td>1.211732</td>\n",
              "      <td>0.329622</td>\n",
              "      <td>3.085644</td>\n",
              "      <td>2.046129</td>\n",
              "      <td>-0.341651</td>\n",
              "      <td>3.0</td>\n",
              "    </tr>\n",
              "    <tr>\n",
              "      <th>4</th>\n",
              "      <td>0.293204</td>\n",
              "      <td>1.496602</td>\n",
              "      <td>2.285623</td>\n",
              "      <td>1.068459</td>\n",
              "      <td>-0.035358</td>\n",
              "      <td>1.147970</td>\n",
              "      <td>0.402010</td>\n",
              "      <td>1.126578</td>\n",
              "      <td>-0.525194</td>\n",
              "      <td>-0.346291</td>\n",
              "      <td>-1.472366</td>\n",
              "      <td>2.0</td>\n",
              "    </tr>\n",
              "    <tr>\n",
              "      <th>5</th>\n",
              "      <td>-0.063005</td>\n",
              "      <td>-0.574257</td>\n",
              "      <td>1.294634</td>\n",
              "      <td>-1.078676</td>\n",
              "      <td>0.285748</td>\n",
              "      <td>-0.564956</td>\n",
              "      <td>-0.241004</td>\n",
              "      <td>-0.998637</td>\n",
              "      <td>0.410949</td>\n",
              "      <td>-1.232373</td>\n",
              "      <td>0.708298</td>\n",
              "      <td>3.0</td>\n",
              "    </tr>\n",
              "    <tr>\n",
              "      <th>6</th>\n",
              "      <td>1.243094</td>\n",
              "      <td>-0.968706</td>\n",
              "      <td>0.221063</td>\n",
              "      <td>-0.093751</td>\n",
              "      <td>0.560981</td>\n",
              "      <td>-0.259077</td>\n",
              "      <td>-0.145743</td>\n",
              "      <td>0.329622</td>\n",
              "      <td>0.410949</td>\n",
              "      <td>0.273966</td>\n",
              "      <td>0.304472</td>\n",
              "      <td>3.0</td>\n",
              "    </tr>\n",
              "    <tr>\n",
              "      <th>7</th>\n",
              "      <td>0.055731</td>\n",
              "      <td>-1.264543</td>\n",
              "      <td>-0.357014</td>\n",
              "      <td>-0.802897</td>\n",
              "      <td>-0.585826</td>\n",
              "      <td>-1.299068</td>\n",
              "      <td>-1.336510</td>\n",
              "      <td>-0.892376</td>\n",
              "      <td>-0.592061</td>\n",
              "      <td>0.805615</td>\n",
              "      <td>0.546768</td>\n",
              "      <td>4.0</td>\n",
              "    </tr>\n",
              "    <tr>\n",
              "      <th>8</th>\n",
              "      <td>1.836776</td>\n",
              "      <td>0.707703</td>\n",
              "      <td>1.872711</td>\n",
              "      <td>1.462429</td>\n",
              "      <td>0.102258</td>\n",
              "      <td>1.209146</td>\n",
              "      <td>1.235547</td>\n",
              "      <td>1.757501</td>\n",
              "      <td>-0.792663</td>\n",
              "      <td>0.805615</td>\n",
              "      <td>-0.907008</td>\n",
              "      <td>3.0</td>\n",
              "    </tr>\n",
              "    <tr>\n",
              "      <th>9</th>\n",
              "      <td>-0.181741</td>\n",
              "      <td>0.313254</td>\n",
              "      <td>-2.008662</td>\n",
              "      <td>-0.980183</td>\n",
              "      <td>-0.310592</td>\n",
              "      <td>1.086794</td>\n",
              "      <td>0.068595</td>\n",
              "      <td>-0.646648</td>\n",
              "      <td>-0.458327</td>\n",
              "      <td>-0.434899</td>\n",
              "      <td>-0.341651</td>\n",
              "      <td>2.0</td>\n",
              "    </tr>\n",
              "  </tbody>\n",
              "</table>\n",
              "</div>"
            ],
            "text/plain": [
              "   fixed acidity  volatile acidity  citric acid  residual sugar  chlorides  \\\n",
              "0       0.886885          0.214642     0.303645       -0.940786   1.891277   \n",
              "1       0.530677         -0.870094     2.863700       -0.960485   0.194003   \n",
              "2      -0.894159          0.806316    -0.604761        0.349465  -0.494081   \n",
              "3      -1.369104         -0.672869    -0.769926       -0.802897   0.056386   \n",
              "4       0.293204          1.496602     2.285623        1.068459  -0.035358   \n",
              "5      -0.063005         -0.574257     1.294634       -1.078676   0.285748   \n",
              "6       1.243094         -0.968706     0.221063       -0.093751   0.560981   \n",
              "7       0.055731         -1.264543    -0.357014       -0.802897  -0.585826   \n",
              "8       1.836776          0.707703     1.872711        1.462429   0.102258   \n",
              "9      -0.181741          0.313254    -2.008662       -0.980183  -0.310592   \n",
              "\n",
              "   free sulfur dioxide  total sulfur dioxide   density        pH  sulphates  \\\n",
              "0            -0.503780              0.925948  0.123742 -0.658929   0.096750   \n",
              "1            -0.259077              0.425825  0.196796  0.879021   1.337264   \n",
              "2            -1.299068             -1.193618 -1.227762 -0.859531  -1.941238   \n",
              "3             1.515026              1.211732  0.329622  3.085644   2.046129   \n",
              "4             1.147970              0.402010  1.126578 -0.525194  -0.346291   \n",
              "5            -0.564956             -0.241004 -0.998637  0.410949  -1.232373   \n",
              "6            -0.259077             -0.145743  0.329622  0.410949   0.273966   \n",
              "7            -1.299068             -1.336510 -0.892376 -0.592061   0.805615   \n",
              "8             1.209146              1.235547  1.757501 -0.792663   0.805615   \n",
              "9             1.086794              0.068595 -0.646648 -0.458327  -0.434899   \n",
              "\n",
              "    alcohol  quality  \n",
              "0 -0.583947      2.0  \n",
              "1 -0.907008      3.0  \n",
              "2  2.000544      4.0  \n",
              "3 -0.341651      3.0  \n",
              "4 -1.472366      2.0  \n",
              "5  0.708298      3.0  \n",
              "6  0.304472      3.0  \n",
              "7  0.546768      4.0  \n",
              "8 -0.907008      3.0  \n",
              "9 -0.341651      2.0  "
            ]
          },
          "execution_count": 57,
          "metadata": {},
          "output_type": "execute_result"
        }
      ],
      "source": [
        "train_scaled.head(10)"
      ]
    },
    {
      "cell_type": "code",
      "execution_count": 58,
      "metadata": {},
      "outputs": [
        {
          "data": {
            "text/html": [
              "<div>\n",
              "<style scoped>\n",
              "    .dataframe tbody tr th:only-of-type {\n",
              "        vertical-align: middle;\n",
              "    }\n",
              "\n",
              "    .dataframe tbody tr th {\n",
              "        vertical-align: top;\n",
              "    }\n",
              "\n",
              "    .dataframe thead th {\n",
              "        text-align: right;\n",
              "    }\n",
              "</style>\n",
              "<table border=\"1\" class=\"dataframe\">\n",
              "  <thead>\n",
              "    <tr style=\"text-align: right;\">\n",
              "      <th></th>\n",
              "      <th>fixed acidity</th>\n",
              "      <th>volatile acidity</th>\n",
              "      <th>citric acid</th>\n",
              "      <th>residual sugar</th>\n",
              "      <th>chlorides</th>\n",
              "      <th>free sulfur dioxide</th>\n",
              "      <th>total sulfur dioxide</th>\n",
              "      <th>density</th>\n",
              "      <th>pH</th>\n",
              "      <th>sulphates</th>\n",
              "      <th>alcohol</th>\n",
              "      <th>quality</th>\n",
              "    </tr>\n",
              "  </thead>\n",
              "  <tbody>\n",
              "    <tr>\n",
              "      <th>0</th>\n",
              "      <td>1.480567</td>\n",
              "      <td>0.017417</td>\n",
              "      <td>0.551393</td>\n",
              "      <td>0.103234</td>\n",
              "      <td>0.194003</td>\n",
              "      <td>-0.320252</td>\n",
              "      <td>-0.979280</td>\n",
              "      <td>0.362829</td>\n",
              "      <td>0.477817</td>\n",
              "      <td>-0.434899</td>\n",
              "      <td>-0.341651</td>\n",
              "      <td>3.0</td>\n",
              "    </tr>\n",
              "    <tr>\n",
              "      <th>1</th>\n",
              "      <td>-0.775422</td>\n",
              "      <td>3.764686</td>\n",
              "      <td>1.212052</td>\n",
              "      <td>-1.019580</td>\n",
              "      <td>-0.769315</td>\n",
              "      <td>-0.381428</td>\n",
              "      <td>-1.503218</td>\n",
              "      <td>-1.596354</td>\n",
              "      <td>0.945888</td>\n",
              "      <td>-0.877940</td>\n",
              "      <td>1.839013</td>\n",
              "      <td>5.0</td>\n",
              "    </tr>\n",
              "    <tr>\n",
              "      <th>2</th>\n",
              "      <td>0.649413</td>\n",
              "      <td>0.609091</td>\n",
              "      <td>0.716557</td>\n",
              "      <td>-1.039279</td>\n",
              "      <td>-0.585826</td>\n",
              "      <td>-1.115540</td>\n",
              "      <td>0.783056</td>\n",
              "      <td>-0.766192</td>\n",
              "      <td>-0.458327</td>\n",
              "      <td>0.362574</td>\n",
              "      <td>0.627533</td>\n",
              "      <td>3.0</td>\n",
              "    </tr>\n",
              "    <tr>\n",
              "      <th>3</th>\n",
              "      <td>-0.419214</td>\n",
              "      <td>0.313254</td>\n",
              "      <td>-1.595750</td>\n",
              "      <td>0.221424</td>\n",
              "      <td>-0.081231</td>\n",
              "      <td>-0.075549</td>\n",
              "      <td>-0.121928</td>\n",
              "      <td>0.495655</td>\n",
              "      <td>0.210347</td>\n",
              "      <td>0.096750</td>\n",
              "      <td>-0.826243</td>\n",
              "      <td>2.0</td>\n",
              "    </tr>\n",
              "    <tr>\n",
              "      <th>4</th>\n",
              "      <td>0.174468</td>\n",
              "      <td>0.510479</td>\n",
              "      <td>-0.109267</td>\n",
              "      <td>-1.019580</td>\n",
              "      <td>0.331620</td>\n",
              "      <td>0.169155</td>\n",
              "      <td>-0.002851</td>\n",
              "      <td>-1.131463</td>\n",
              "      <td>-0.391459</td>\n",
              "      <td>-1.852630</td>\n",
              "      <td>0.546768</td>\n",
              "      <td>3.0</td>\n",
              "    </tr>\n",
              "    <tr>\n",
              "      <th>5</th>\n",
              "      <td>0.530677</td>\n",
              "      <td>-0.377032</td>\n",
              "      <td>0.468810</td>\n",
              "      <td>2.279916</td>\n",
              "      <td>0.515109</td>\n",
              "      <td>0.597387</td>\n",
              "      <td>0.259118</td>\n",
              "      <td>1.956740</td>\n",
              "      <td>0.143480</td>\n",
              "      <td>-1.143764</td>\n",
              "      <td>-1.553131</td>\n",
              "      <td>2.0</td>\n",
              "    </tr>\n",
              "    <tr>\n",
              "      <th>6</th>\n",
              "      <td>-0.181741</td>\n",
              "      <td>-0.475645</td>\n",
              "      <td>0.468810</td>\n",
              "      <td>-0.763500</td>\n",
              "      <td>5.790421</td>\n",
              "      <td>1.698554</td>\n",
              "      <td>0.473456</td>\n",
              "      <td>-0.102062</td>\n",
              "      <td>-0.525194</td>\n",
              "      <td>-1.143764</td>\n",
              "      <td>-0.907008</td>\n",
              "      <td>3.0</td>\n",
              "    </tr>\n",
              "    <tr>\n",
              "      <th>7</th>\n",
              "      <td>0.174468</td>\n",
              "      <td>0.313254</td>\n",
              "      <td>-0.604761</td>\n",
              "      <td>0.201726</td>\n",
              "      <td>1.065576</td>\n",
              "      <td>-0.442604</td>\n",
              "      <td>0.521087</td>\n",
              "      <td>0.462448</td>\n",
              "      <td>-0.391459</td>\n",
              "      <td>-0.257683</td>\n",
              "      <td>-0.583947</td>\n",
              "      <td>3.0</td>\n",
              "    </tr>\n",
              "    <tr>\n",
              "      <th>8</th>\n",
              "      <td>-1.012895</td>\n",
              "      <td>-0.870094</td>\n",
              "      <td>-0.604761</td>\n",
              "      <td>1.186650</td>\n",
              "      <td>0.102258</td>\n",
              "      <td>0.903266</td>\n",
              "      <td>0.211487</td>\n",
              "      <td>1.060165</td>\n",
              "      <td>0.745286</td>\n",
              "      <td>-1.143764</td>\n",
              "      <td>-1.310835</td>\n",
              "      <td>3.0</td>\n",
              "    </tr>\n",
              "    <tr>\n",
              "      <th>9</th>\n",
              "      <td>-0.300477</td>\n",
              "      <td>1.003540</td>\n",
              "      <td>-1.513168</td>\n",
              "      <td>-0.349832</td>\n",
              "      <td>-0.081231</td>\n",
              "      <td>-0.626132</td>\n",
              "      <td>-1.431772</td>\n",
              "      <td>-0.301301</td>\n",
              "      <td>-0.525194</td>\n",
              "      <td>-0.966548</td>\n",
              "      <td>-0.260886</td>\n",
              "      <td>3.0</td>\n",
              "    </tr>\n",
              "  </tbody>\n",
              "</table>\n",
              "</div>"
            ],
            "text/plain": [
              "   fixed acidity  volatile acidity  citric acid  residual sugar  chlorides  \\\n",
              "0       1.480567          0.017417     0.551393        0.103234   0.194003   \n",
              "1      -0.775422          3.764686     1.212052       -1.019580  -0.769315   \n",
              "2       0.649413          0.609091     0.716557       -1.039279  -0.585826   \n",
              "3      -0.419214          0.313254    -1.595750        0.221424  -0.081231   \n",
              "4       0.174468          0.510479    -0.109267       -1.019580   0.331620   \n",
              "5       0.530677         -0.377032     0.468810        2.279916   0.515109   \n",
              "6      -0.181741         -0.475645     0.468810       -0.763500   5.790421   \n",
              "7       0.174468          0.313254    -0.604761        0.201726   1.065576   \n",
              "8      -1.012895         -0.870094    -0.604761        1.186650   0.102258   \n",
              "9      -0.300477          1.003540    -1.513168       -0.349832  -0.081231   \n",
              "\n",
              "   free sulfur dioxide  total sulfur dioxide   density        pH  sulphates  \\\n",
              "0            -0.320252             -0.979280  0.362829  0.477817  -0.434899   \n",
              "1            -0.381428             -1.503218 -1.596354  0.945888  -0.877940   \n",
              "2            -1.115540              0.783056 -0.766192 -0.458327   0.362574   \n",
              "3            -0.075549             -0.121928  0.495655  0.210347   0.096750   \n",
              "4             0.169155             -0.002851 -1.131463 -0.391459  -1.852630   \n",
              "5             0.597387              0.259118  1.956740  0.143480  -1.143764   \n",
              "6             1.698554              0.473456 -0.102062 -0.525194  -1.143764   \n",
              "7            -0.442604              0.521087  0.462448 -0.391459  -0.257683   \n",
              "8             0.903266              0.211487  1.060165  0.745286  -1.143764   \n",
              "9            -0.626132             -1.431772 -0.301301 -0.525194  -0.966548   \n",
              "\n",
              "    alcohol  quality  \n",
              "0 -0.341651      3.0  \n",
              "1  1.839013      5.0  \n",
              "2  0.627533      3.0  \n",
              "3 -0.826243      2.0  \n",
              "4  0.546768      3.0  \n",
              "5 -1.553131      2.0  \n",
              "6 -0.907008      3.0  \n",
              "7 -0.583947      3.0  \n",
              "8 -1.310835      3.0  \n",
              "9 -0.260886      3.0  "
            ]
          },
          "execution_count": 58,
          "metadata": {},
          "output_type": "execute_result"
        }
      ],
      "source": [
        "test_scaled.head(10)"
      ]
    },
    {
      "cell_type": "markdown",
      "metadata": {},
      "source": [
        "### Rozkład jakości"
      ]
    },
    {
      "cell_type": "code",
      "execution_count": 177,
      "metadata": {},
      "outputs": [
        {
          "data": {
            "image/png": "[encoded data removed]",
            "text/plain": [
              "<Figure size 1000x500 with 1 Axes>"
            ]
          },
          "metadata": {},
          "output_type": "display_data"
        }
      ],
      "source": [
        "import matplotlib.pyplot as plt\n",
        "quality_list = df[\"quality\"].values.tolist()\n",
        "\n",
        "plt.figure(figsize=(10,5))\n",
        "plt.hist(quality_list, bins=7, edgecolor='black')\n",
        "plt.title('Quality distribution')\n",
        "plt.xlabel('Quality')\n",
        "plt.ylabel('Count')\n",
        "plt.show()"
      ]
    },
    {
      "cell_type": "markdown",
      "metadata": {},
      "source": [
        "### Prosta sieć do klasyfikacji"
      ]
    },
    {
      "cell_type": "code",
      "execution_count": 281,
      "metadata": {},
      "outputs": [],
      "source": [
        "class WineClassificator(nn.Module):\n",
        "  def __init__(self, input_features, output_features, hidden_features):\n",
        "    super().__init__()\n",
        "    self.input_features = input_features\n",
        "    self.output_features = output_features\n",
        "    self.hidden_features = hidden_features\n",
        "\n",
        "    self.first_layer = nn.Linear(self.input_features, self.hidden_features)\n",
        "    self.second_layer = nn.Linear(self.hidden_features, self.hidden_features)\n",
        "    self.third_layer = nn.Linear(self.hidden_features, self.output_features)\n",
        "    self.relu = nn.ReLU()\n",
        "    self.dropout = nn.Dropout(p=0.3)\n",
        "\n",
        "\n",
        "  def forward(self, x):\n",
        "    x = self.relu(self.first_layer(x))\n",
        "    x = self.dropout(x)\n",
        "    x = self.relu(self.second_layer(x))\n",
        "    x = self.dropout(x)\n",
        "    x = self.third_layer(x)\n",
        "    return x\n",
        "\n",
        "\n"
      ]
    },
    {
      "cell_type": "markdown",
      "metadata": {},
      "source": [
        "### Przygotowywanie danych jako tensory"
      ]
    },
    {
      "cell_type": "code",
      "execution_count": 147,
      "metadata": {
        "ExecuteTime": {
          "end_time": "2021-10-09T07:02:23.882290Z",
          "start_time": "2021-10-09T07:02:23.878126Z"
        },
        "id": "cLflE3E5lv6I"
      },
      "outputs": [],
      "source": [
        "import torch.utils.data as data"
      ]
    },
    {
      "cell_type": "code",
      "execution_count": 282,
      "metadata": {
        "ExecuteTime": {
          "end_time": "2021-10-09T07:06:07.644344Z",
          "start_time": "2021-10-09T07:06:07.634358Z"
        },
        "colab": {
          "base_uri": "https://localhost:8080/"
        },
        "id": "lJwzqNtIlv6I",
        "outputId": "c19e5002-7617-4191-f5ad-b7f11ed9842d"
      },
      "outputs": [],
      "source": [
        "train_dataset = data.TensorDataset(\n",
        "    torch.from_numpy(train_scaled.values[:, :-1]).float(),\n",
        "    torch.from_numpy(train_scaled.values[:, -1]).long()\n",
        ")\n",
        "\n",
        "test_dataset = data.TensorDataset(\n",
        "    torch.from_numpy(test_scaled.values[:, :-1]).float(),\n",
        "    torch.from_numpy(test_scaled.values[:, -1]).long()\n",
        ")"
      ]
    },
    {
      "cell_type": "code",
      "execution_count": 150,
      "metadata": {},
      "outputs": [
        {
          "data": {
            "text/plain": [
              "(tensor([ 0.8869,  0.2146,  0.3036, -0.9408,  1.8913, -0.5038,  0.9259,  0.1237,\n",
              "         -0.6589,  0.0967, -0.5839]),\n",
              " tensor(2))"
            ]
          },
          "metadata": {},
          "output_type": "display_data"
        },
        {
          "data": {
            "text/plain": [
              "(tensor([ 1.4806,  0.0174,  0.5514,  0.1032,  0.1940, -0.3203, -0.9793,  0.3628,\n",
              "          0.4778, -0.4349, -0.3417]),\n",
              " tensor(3))"
            ]
          },
          "metadata": {},
          "output_type": "display_data"
        }
      ],
      "source": [
        "display(next(iter(train_dataset)))\n",
        "\n",
        "display(next(iter(test_dataset)))\n"
      ]
    },
    {
      "cell_type": "markdown",
      "metadata": {
        "id": "IAV1SzWGPwL8"
      },
      "source": [
        "### Loss Function, Model and Optimizer"
      ]
    },
    {
      "cell_type": "code",
      "execution_count": 288,
      "metadata": {},
      "outputs": [],
      "source": [
        "device = \"cuda\" if torch.cuda.is_available() else \"cpu\"\n",
        "\n",
        "INPUT_FEATURES = len(train_scaled.columns) - 1\n",
        "OUTPUT_FEATURES = df['quality'].nunique()\n",
        "HIDDEN_FEATURES = 100\n",
        "\n",
        "loss_func = nn.CrossEntropyLoss()\n",
        "model = WineClassificator(input_features=INPUT_FEATURES, output_features=OUTPUT_FEATURES, hidden_features=HIDDEN_FEATURES).to(device)\n",
        "\n",
        "model_parameters = model.parameters()\n",
        "optimizer = torch.optim.Adam(model_parameters, lr=0.008)\n",
        "scheduler = torch.optim.lr_scheduler.StepLR(optimizer, step_size=100, gamma=0.5)"
      ]
    },
    {
      "cell_type": "markdown",
      "metadata": {},
      "source": [
        "### Podział na mini-sety"
      ]
    },
    {
      "cell_type": "code",
      "execution_count": 289,
      "metadata": {},
      "outputs": [],
      "source": [
        "train_data_loader = data.DataLoader(train_dataset, batch_size=64, shuffle=True)\n",
        "test_data_loader = data.DataLoader(test_dataset, batch_size=64, shuffle=False, drop_last=False)"
      ]
    },
    {
      "cell_type": "markdown",
      "metadata": {
        "id": "uHwXtzXFRiTy"
      },
      "source": [
        "### Training Loop"
      ]
    },
    {
      "cell_type": "code",
      "execution_count": 290,
      "metadata": {},
      "outputs": [
        {
          "name": "stdout",
          "output_type": "stream",
          "text": [
            "Epoch: 0, loss: 0.946\n",
            "Epoch: 10, loss: 1.33\n",
            "Epoch: 20, loss: 1.26\n",
            "Epoch: 30, loss: 1.04\n",
            "Epoch: 40, loss: 1.12\n",
            "Epoch: 50, loss: 1.03\n",
            "Epoch: 60, loss: 1.18\n",
            "Epoch: 70, loss: 0.736\n",
            "Epoch: 80, loss: 0.806\n",
            "Epoch: 90, loss: 0.684\n",
            "Epoch: 100, loss: 0.703\n"
          ]
        }
      ],
      "source": [
        "history_loss = []\n",
        "\n",
        "model.train()\n",
        "\n",
        "for epoch in range(101):\n",
        "    for data_inputs, data_labels in train_data_loader:\n",
        "\n",
        "        data_inputs = data_inputs.to(device)\n",
        "        data_labels = data_labels.to(device)\n",
        "\n",
        "        preds = model(data_inputs)\n",
        "\n",
        "        loss = loss_func(preds, data_labels)\n",
        "\n",
        "        optimizer.zero_grad()\n",
        "\n",
        "        loss.backward()\n",
        "\n",
        "        optimizer.step()\n",
        "    if epoch % 10 == 0 :\n",
        "        print(f\"Epoch: {epoch}, loss: {loss.item():.3}\")\n",
        "        history_loss.append(loss.item())"
      ]
    },
    {
      "cell_type": "code",
      "execution_count": 291,
      "metadata": {},
      "outputs": [
        {
          "data": {
            "image/png": "[encoded data removed]",
            "text/plain": [
              "<Figure size 1000x500 with 1 Axes>"
            ]
          },
          "metadata": {},
          "output_type": "display_data"
        }
      ],
      "source": [
        "plt.figure(figsize=(10,5))\n",
        "plt.plot(history_loss)\n",
        "plt.title('Loss function')\n",
        "plt.xlabel('Epoch')\n",
        "plt.ylabel('Loss')\n",
        "plt.show()"
      ]
    },
    {
      "cell_type": "markdown",
      "metadata": {
        "id": "EuU9ECZxS17H"
      },
      "source": [
        "### Evaluation"
      ]
    },
    {
      "cell_type": "code",
      "execution_count": 292,
      "metadata": {},
      "outputs": [
        {
          "name": "stdout",
          "output_type": "stream",
          "text": [
            "Test Accuracy: 0.594\n"
          ]
        }
      ],
      "source": [
        "from sklearn.metrics import accuracy_score\n",
        "\n",
        "model.eval()\n",
        "with torch.no_grad():\n",
        "    all_preds = []\n",
        "    all_labels = []\n",
        "\n",
        "    for data_inputs, data_labels in test_data_loader:\n",
        "        data_inputs = data_inputs.to(device)\n",
        "        data_labels = data_labels.to(device)\n",
        "\n",
        "        preds = model(data_inputs)\n",
        "        predicted_classes = torch.argmax(preds, dim=1)\n",
        "        predicted_classes = predicted_classes.cpu().numpy() + 3\n",
        "\n",
        "        all_preds.extend(predicted_classes)\n",
        "        all_labels.extend(data_labels.cpu().numpy() + 3)\n",
        "\n",
        "print(f\"Test Accuracy: {accuracy_score(all_labels, all_preds):.3f}\")"
      ]
    },
    {
      "cell_type": "markdown",
      "metadata": {},
      "source": [
        "# ___"
      ]
    }
  ],
  "metadata": {
    "accelerator": "GPU",
    "colab": {
      "gpuType": "T4",
      "provenance": []
    },
    "kernelspec": {
      "display_name": ".venv",
      "language": "python",
      "name": "python3"
    },
    "language_info": {
      "codemirror_mode": {
        "name": "ipython",
        "version": 3
      },
      "file_extension": ".py",
      "mimetype": "text/x-python",
      "name": "python",
      "nbconvert_exporter": "python",
      "pygments_lexer": "ipython3",
      "version": "3.12.7"
    },
    "varInspector": {
      "cols": {
        "lenName": 16,
        "lenType": 16,
        "lenVar": 40
      },
      "kernels_config": {
        "python": {
          "delete_cmd_postfix": "",
          "delete_cmd_prefix": "del ",
          "library": "var_list.py",
          "varRefreshCmd": "print(var_dic_list())"
        },
        "r": {
          "delete_cmd_postfix": ") ",
          "delete_cmd_prefix": "rm(",
          "library": "var_list.r",
          "varRefreshCmd": "cat(var_dic_list()) "
        }
      },
      "types_to_exclude": [
        "module",
        "function",
        "builtin_function_or_method",
        "instance",
        "_Feature"
      ],
      "window_display": false
    }
  },
  "nbformat": 4,
  "nbformat_minor": 0
}
