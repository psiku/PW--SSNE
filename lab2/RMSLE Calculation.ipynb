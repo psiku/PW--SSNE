{
 "cells": [
  {
   "cell_type": "code",
   "execution_count": 19,
   "metadata": {
    "ExecuteTime": {
     "end_time": "2021-10-19T10:49:53.411272Z",
     "start_time": "2021-10-19T10:49:53.191605Z"
    }
   },
   "outputs": [],
   "source": [
    "import pandas as pd\n",
    "import numpy as np"
   ]
  },
  {
   "cell_type": "code",
   "execution_count": 20,
   "metadata": {
    "ExecuteTime": {
     "end_time": "2021-10-19T10:49:55.190518Z",
     "start_time": "2021-10-19T10:49:55.184426Z"
    }
   },
   "outputs": [],
   "source": [
    "def rmsle(y_true,y_pred):\n",
    "    n = len(y_true)\n",
    "    msle = np.mean([(np.log(max(y_pred[i],0) + 1) - np.log(y_true[i] + 1)) ** 2.0 for i in range(n)])\n",
    "    return np.sqrt(msle)"
   ]
  },
  {
   "cell_type": "code",
   "execution_count": 21,
   "metadata": {
    "ExecuteTime": {
     "end_time": "2021-10-19T10:49:56.121712Z",
     "start_time": "2021-10-19T10:49:56.109190Z"
    }
   },
   "outputs": [],
   "source": [
    "targets = pd.read_csv(\"example.csv\",header=None)"
   ]
  },
  {
   "cell_type": "code",
   "execution_count": 22,
   "metadata": {
    "ExecuteTime": {
     "end_time": "2021-10-19T10:51:00.714657Z",
     "start_time": "2021-10-19T10:51:00.710556Z"
    }
   },
   "outputs": [],
   "source": [
    "preds = np.random.rand(len(targets))*100"
   ]
  },
  {
   "cell_type": "code",
   "execution_count": 23,
   "metadata": {
    "ExecuteTime": {
     "end_time": "2021-10-19T10:51:01.300949Z",
     "start_time": "2021-10-19T10:51:01.271987Z"
    }
   },
   "outputs": [],
   "source": [
    "pd.DataFrame(preds).to_csv(\"muchomorki.csv\", index=False, header=None)"
   ]
  },
  {
   "cell_type": "code",
   "execution_count": 24,
   "metadata": {
    "ExecuteTime": {
     "end_time": "2021-10-19T10:51:01.543541Z",
     "start_time": "2021-10-19T10:51:01.532289Z"
    }
   },
   "outputs": [],
   "source": [
    "preds = pd.read_csv(\"muchomorki.csv\",header=None)"
   ]
  },
  {
   "cell_type": "code",
   "execution_count": 25,
   "metadata": {
    "ExecuteTime": {
     "end_time": "2021-10-19T10:51:02.094776Z",
     "start_time": "2021-10-19T10:51:02.020065Z"
    }
   },
   "outputs": [
    {
     "data": {
      "text/plain": [
       "1.2824494488221159"
      ]
     },
     "execution_count": 25,
     "metadata": {},
     "output_type": "execute_result"
    }
   ],
   "source": [
    "rmsle(targets.values,preds.values)"
   ]
  }
 ],
 "metadata": {
  "kernelspec": {
   "display_name": "Python 3 (ipykernel)",
   "language": "python",
   "name": "python3"
  },
  "language_info": {
   "codemirror_mode": {
    "name": "ipython",
    "version": 3
   },
   "file_extension": ".py",
   "mimetype": "text/x-python",
   "name": "python",
   "nbconvert_exporter": "python",
   "pygments_lexer": "ipython3",
   "version": "3.10.4"
  },
  "varInspector": {
   "cols": {
    "lenName": 16,
    "lenType": 16,
    "lenVar": 40
   },
   "kernels_config": {
    "python": {
     "delete_cmd_postfix": "",
     "delete_cmd_prefix": "del ",
     "library": "var_list.py",
     "varRefreshCmd": "print(var_dic_list())"
    },
    "r": {
     "delete_cmd_postfix": ") ",
     "delete_cmd_prefix": "rm(",
     "library": "var_list.r",
     "varRefreshCmd": "cat(var_dic_list()) "
    }
   },
   "types_to_exclude": [
    "module",
    "function",
    "builtin_function_or_method",
    "instance",
    "_Feature"
   ],
   "window_display": false
  }
 },
 "nbformat": 4,
 "nbformat_minor": 4
}
